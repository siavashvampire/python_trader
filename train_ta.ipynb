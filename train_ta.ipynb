{
 "cells": [
  {
   "cell_type": "code",
   "execution_count": 2,
   "metadata": {
    "collapsed": true,
    "ExecuteTime": {
     "end_time": "2023-05-17T19:55:22.879758600Z",
     "start_time": "2023-05-17T19:54:58.323594200Z"
    }
   },
   "outputs": [],
   "source": [
    "import pandas as pd\n",
    "from tensorflow.keras.models import Sequential\n",
    "from tensorflow.keras.optimizers import Adam\n",
    "from tensorflow.keras import layers\n",
    "import tensorflow as tf\n"
   ]
  },
  {
   "cell_type": "code",
   "execution_count": 3,
   "outputs": [
    {
     "name": "stdout",
     "output_type": "stream",
     "text": [
      "\n"
     ]
    }
   ],
   "source": [
    "print(tf.test.gpu_device_name())"
   ],
   "metadata": {
    "collapsed": false,
    "ExecuteTime": {
     "end_time": "2023-05-17T19:55:23.236820500Z",
     "start_time": "2023-05-17T19:55:22.880749300Z"
    }
   }
  },
  {
   "cell_type": "code",
   "execution_count": 4,
   "outputs": [],
   "source": [
    "df = pd.read_csv('test_df.csv')\n",
    "df = df[300:]"
   ],
   "metadata": {
    "collapsed": false,
    "ExecuteTime": {
     "end_time": "2023-05-17T19:55:25.215520300Z",
     "start_time": "2023-05-17T19:55:23.239813400Z"
    }
   }
  },
  {
   "cell_type": "code",
   "execution_count": 5,
   "outputs": [],
   "source": [
    "df = df.reset_index(drop=True)"
   ],
   "metadata": {
    "collapsed": false,
    "ExecuteTime": {
     "end_time": "2023-05-17T19:55:25.279296400Z",
     "start_time": "2023-05-17T19:55:25.220508300Z"
    }
   }
  },
  {
   "cell_type": "code",
   "execution_count": 6,
   "outputs": [],
   "source": [
    "df[\"Percent_Change_5\"] = 0\n",
    "df[\"Percent_Change_3\"] = 0\n",
    "df[\"Percent_Change_10\"] = 0\n"
   ],
   "metadata": {
    "collapsed": false,
    "ExecuteTime": {
     "end_time": "2023-05-17T19:55:25.340133100Z",
     "start_time": "2023-05-17T19:55:25.267327Z"
    }
   }
  },
  {
   "cell_type": "code",
   "execution_count": 7,
   "outputs": [
    {
     "name": "stderr",
     "output_type": "stream",
     "text": [
      "C:\\Users\\siavash\\AppData\\Local\\Temp\\ipykernel_14356\\2873495324.py:2: SettingWithCopyWarning: \n",
      "A value is trying to be set on a copy of a slice from a DataFrame\n",
      "\n",
      "See the caveats in the documentation: https://pandas.pydata.org/pandas-docs/stable/user_guide/indexing.html#returning-a-view-versus-a-copy\n",
      "  df[\"Percent_Change_5\"][i] = ((df[\"Close\"][i+5]-df[\"Close\"][i])/df[\"Close\"][i])*100\n",
      "C:\\Users\\siavash\\AppData\\Local\\Temp\\ipykernel_14356\\2873495324.py:3: SettingWithCopyWarning: \n",
      "A value is trying to be set on a copy of a slice from a DataFrame\n",
      "\n",
      "See the caveats in the documentation: https://pandas.pydata.org/pandas-docs/stable/user_guide/indexing.html#returning-a-view-versus-a-copy\n",
      "  df[\"Percent_Change_3\"][i] = ((df[\"Close\"][i+3]-df[\"Close\"][i])/df[\"Close\"][i])*100\n",
      "C:\\Users\\siavash\\AppData\\Local\\Temp\\ipykernel_14356\\2873495324.py:4: SettingWithCopyWarning: \n",
      "A value is trying to be set on a copy of a slice from a DataFrame\n",
      "\n",
      "See the caveats in the documentation: https://pandas.pydata.org/pandas-docs/stable/user_guide/indexing.html#returning-a-view-versus-a-copy\n",
      "  df[\"Percent_Change_10\"][i] = ((df[\"Close\"][i+10]-df[\"Close\"][i])/df[\"Close\"][i])*100\n",
      "C:\\Users\\siavash\\AppData\\Local\\Temp\\ipykernel_14356\\2873495324.py:4: SettingWithCopyWarning: \n",
      "A value is trying to be set on a copy of a slice from a DataFrame\n",
      "\n",
      "See the caveats in the documentation: https://pandas.pydata.org/pandas-docs/stable/user_guide/indexing.html#returning-a-view-versus-a-copy\n",
      "  df[\"Percent_Change_10\"][i] = ((df[\"Close\"][i+10]-df[\"Close\"][i])/df[\"Close\"][i])*100\n"
     ]
    }
   ],
   "source": [
    "for i in list(df.index.values)[:-10]:\n",
    "    df[\"Percent_Change_5\"][i] = ((df[\"Close\"][i+5]-df[\"Close\"][i])/df[\"Close\"][i])*100\n",
    "    df[\"Percent_Change_3\"][i] = ((df[\"Close\"][i+3]-df[\"Close\"][i])/df[\"Close\"][i])*100\n",
    "    df[\"Percent_Change_10\"][i] = ((df[\"Close\"][i+10]-df[\"Close\"][i])/df[\"Close\"][i])*100"
   ],
   "metadata": {
    "collapsed": false,
    "ExecuteTime": {
     "end_time": "2023-05-17T19:55:33.643610400Z",
     "start_time": "2023-05-17T19:55:25.344122Z"
    }
   }
  },
  {
   "cell_type": "code",
   "execution_count": 8,
   "outputs": [
    {
     "name": "stdout",
     "output_type": "stream",
     "text": [
      "6197\n",
      "6369\n"
     ]
    }
   ],
   "source": [
    "print(len(df[df[\"Percent_Change_5\"]>0.04]))\n",
    "print(len(df[df[\"Percent_Change_5\"]<-0.04]))"
   ],
   "metadata": {
    "collapsed": false,
    "ExecuteTime": {
     "end_time": "2023-05-17T19:55:33.720412300Z",
     "start_time": "2023-05-17T19:55:33.645603800Z"
    }
   }
  },
  {
   "cell_type": "code",
   "execution_count": 9,
   "outputs": [
    {
     "name": "stderr",
     "output_type": "stream",
     "text": [
      "IOPub data rate exceeded.\n",
      "The notebook server will temporarily stop sending output\n",
      "to the client in order to avoid crashing it.\n",
      "To change this limit, set the config variable\n",
      "`--NotebookApp.iopub_data_rate_limit`.\n",
      "\n",
      "Current values:\n",
      "NotebookApp.iopub_data_rate_limit=1000000.0 (bytes/sec)\n",
      "NotebookApp.rate_limit_window=3.0 (secs)\n",
      "\n"
     ]
    }
   ],
   "source": [
    "def winning_policy_1(df_in):\n",
    "    df_in[\"signal1\"] = 0\n",
    "    for i in list(df_in.index.values):\n",
    "        if df_in[\"Percent_Change_5\"][i]>0.04:\n",
    "            df_in[\"signal1\"][i] = 1\n",
    "        elif df_in[\"Percent_Change_5\"][i]<-0.04:\n",
    "            df_in[\"signal1\"][i] = -1\n",
    "\n",
    "    return df_in\n",
    "\n",
    "df = winning_policy_1(df)"
   ],
   "metadata": {
    "collapsed": false,
    "ExecuteTime": {
     "end_time": "2023-05-17T19:55:38.563162Z",
     "start_time": "2023-05-17T19:55:34.351727500Z"
    }
   }
  },
  {
   "cell_type": "code",
   "execution_count": 10,
   "outputs": [
    {
     "data": {
      "text/plain": "             Date      Time     Open     High      Low    Close  Volume   \n0      2023.01.26  00:17:00  1.09140  1.09143  1.09139  1.09142       9  \\\n1      2023.01.26  00:18:00  1.09141  1.09142  1.09139  1.09139       4   \n2      2023.01.26  00:19:00  1.09138  1.09141  1.09138  1.09141       4   \n3      2023.01.26  00:20:00  1.09140  1.09141  1.09139  1.09139       3   \n4      2023.01.26  00:21:00  1.09139  1.09141  1.09139  1.09140       3   \n...           ...       ...      ...      ...      ...      ...     ...   \n99695  2023.05.03  15:00:00  1.10396  1.10414  1.10394  1.10398     111   \n99696  2023.05.03  15:01:00  1.10400  1.10417  1.10387  1.10415     109   \n99697  2023.05.03  15:02:00  1.10415  1.10418  1.10388  1.10389     100   \n99698  2023.05.03  15:03:00  1.10389  1.10395  1.10380  1.10387      63   \n99699  2023.05.03  15:04:00  1.10387  1.10389  1.10381  1.10381      50   \n\n       bbands  buy_bbands_diff  sell_bbands_diff  ...  EMA_50_sig  SMA_50_sig   \n0         0.0         0.000325         -0.000240  ...        SELL        SELL  \\\n1         0.0         0.000346         -0.000214  ...        SELL        SELL   \n2         0.0         0.000315         -0.000235  ...        SELL        SELL   \n3         0.0         0.000321         -0.000217  ...        SELL        SELL   \n4         0.0         0.000296         -0.000226  ...        SELL        SELL   \n...       ...              ...               ...  ...         ...         ...   \n99695     0.0         0.000245         -0.000630  ...         BUY         BUY   \n99696     0.0         0.000098         -0.000809  ...         BUY         BUY   \n99697     0.0         0.000363         -0.000547  ...         BUY         BUY   \n99698     0.0         0.000386         -0.000524  ...         BUY         BUY   \n99699     0.0         0.000448         -0.000460  ...         BUY         BUY   \n\n       EMA_100_sig  SMA_100_sig  EMA_200_sig  SMA_200_sig  Percent_Change_5   \n0              BUY          BUY          BUY          BUY         -0.002749  \\\n1             SELL         SELL          BUY          BUY          0.000916   \n2              BUY         SELL          BUY          BUY         -0.000916   \n3             SELL         SELL          BUY          BUY          0.000916   \n4              BUY         SELL          BUY          BUY         -0.000916   \n...            ...          ...          ...          ...               ...   \n99695          BUY          BUY          BUY          BUY          0.000000   \n99696          BUY          BUY          BUY          BUY          0.000000   \n99697          BUY          BUY          BUY          BUY          0.000000   \n99698          BUY          BUY          BUY          BUY          0.000000   \n99699          BUY          BUY          BUY         SELL          0.000000   \n\n       Percent_Change_3  Percent_Change_10  signal1  \n0             -0.002749           0.000000        0  \n1              0.000916           0.004581        0  \n2             -0.001832           0.001832        0  \n3              0.000916          -0.001833        0  \n4              0.000000           0.008246        0  \n...                 ...                ...      ...  \n99695          0.000000           0.000000        0  \n99696          0.000000           0.000000        0  \n99697          0.000000           0.000000        0  \n99698          0.000000           0.000000        0  \n99699          0.000000           0.000000        0  \n\n[99700 rows x 78 columns]",
      "text/html": "<div>\n<style scoped>\n    .dataframe tbody tr th:only-of-type {\n        vertical-align: middle;\n    }\n\n    .dataframe tbody tr th {\n        vertical-align: top;\n    }\n\n    .dataframe thead th {\n        text-align: right;\n    }\n</style>\n<table border=\"1\" class=\"dataframe\">\n  <thead>\n    <tr style=\"text-align: right;\">\n      <th></th>\n      <th>Date</th>\n      <th>Time</th>\n      <th>Open</th>\n      <th>High</th>\n      <th>Low</th>\n      <th>Close</th>\n      <th>Volume</th>\n      <th>bbands</th>\n      <th>buy_bbands_diff</th>\n      <th>sell_bbands_diff</th>\n      <th>...</th>\n      <th>EMA_50_sig</th>\n      <th>SMA_50_sig</th>\n      <th>EMA_100_sig</th>\n      <th>SMA_100_sig</th>\n      <th>EMA_200_sig</th>\n      <th>SMA_200_sig</th>\n      <th>Percent_Change_5</th>\n      <th>Percent_Change_3</th>\n      <th>Percent_Change_10</th>\n      <th>signal1</th>\n    </tr>\n  </thead>\n  <tbody>\n    <tr>\n      <th>0</th>\n      <td>2023.01.26</td>\n      <td>00:17:00</td>\n      <td>1.09140</td>\n      <td>1.09143</td>\n      <td>1.09139</td>\n      <td>1.09142</td>\n      <td>9</td>\n      <td>0.0</td>\n      <td>0.000325</td>\n      <td>-0.000240</td>\n      <td>...</td>\n      <td>SELL</td>\n      <td>SELL</td>\n      <td>BUY</td>\n      <td>BUY</td>\n      <td>BUY</td>\n      <td>BUY</td>\n      <td>-0.002749</td>\n      <td>-0.002749</td>\n      <td>0.000000</td>\n      <td>0</td>\n    </tr>\n    <tr>\n      <th>1</th>\n      <td>2023.01.26</td>\n      <td>00:18:00</td>\n      <td>1.09141</td>\n      <td>1.09142</td>\n      <td>1.09139</td>\n      <td>1.09139</td>\n      <td>4</td>\n      <td>0.0</td>\n      <td>0.000346</td>\n      <td>-0.000214</td>\n      <td>...</td>\n      <td>SELL</td>\n      <td>SELL</td>\n      <td>SELL</td>\n      <td>SELL</td>\n      <td>BUY</td>\n      <td>BUY</td>\n      <td>0.000916</td>\n      <td>0.000916</td>\n      <td>0.004581</td>\n      <td>0</td>\n    </tr>\n    <tr>\n      <th>2</th>\n      <td>2023.01.26</td>\n      <td>00:19:00</td>\n      <td>1.09138</td>\n      <td>1.09141</td>\n      <td>1.09138</td>\n      <td>1.09141</td>\n      <td>4</td>\n      <td>0.0</td>\n      <td>0.000315</td>\n      <td>-0.000235</td>\n      <td>...</td>\n      <td>SELL</td>\n      <td>SELL</td>\n      <td>BUY</td>\n      <td>SELL</td>\n      <td>BUY</td>\n      <td>BUY</td>\n      <td>-0.000916</td>\n      <td>-0.001832</td>\n      <td>0.001832</td>\n      <td>0</td>\n    </tr>\n    <tr>\n      <th>3</th>\n      <td>2023.01.26</td>\n      <td>00:20:00</td>\n      <td>1.09140</td>\n      <td>1.09141</td>\n      <td>1.09139</td>\n      <td>1.09139</td>\n      <td>3</td>\n      <td>0.0</td>\n      <td>0.000321</td>\n      <td>-0.000217</td>\n      <td>...</td>\n      <td>SELL</td>\n      <td>SELL</td>\n      <td>SELL</td>\n      <td>SELL</td>\n      <td>BUY</td>\n      <td>BUY</td>\n      <td>0.000916</td>\n      <td>0.000916</td>\n      <td>-0.001833</td>\n      <td>0</td>\n    </tr>\n    <tr>\n      <th>4</th>\n      <td>2023.01.26</td>\n      <td>00:21:00</td>\n      <td>1.09139</td>\n      <td>1.09141</td>\n      <td>1.09139</td>\n      <td>1.09140</td>\n      <td>3</td>\n      <td>0.0</td>\n      <td>0.000296</td>\n      <td>-0.000226</td>\n      <td>...</td>\n      <td>SELL</td>\n      <td>SELL</td>\n      <td>BUY</td>\n      <td>SELL</td>\n      <td>BUY</td>\n      <td>BUY</td>\n      <td>-0.000916</td>\n      <td>0.000000</td>\n      <td>0.008246</td>\n      <td>0</td>\n    </tr>\n    <tr>\n      <th>...</th>\n      <td>...</td>\n      <td>...</td>\n      <td>...</td>\n      <td>...</td>\n      <td>...</td>\n      <td>...</td>\n      <td>...</td>\n      <td>...</td>\n      <td>...</td>\n      <td>...</td>\n      <td>...</td>\n      <td>...</td>\n      <td>...</td>\n      <td>...</td>\n      <td>...</td>\n      <td>...</td>\n      <td>...</td>\n      <td>...</td>\n      <td>...</td>\n      <td>...</td>\n      <td>...</td>\n    </tr>\n    <tr>\n      <th>99695</th>\n      <td>2023.05.03</td>\n      <td>15:00:00</td>\n      <td>1.10396</td>\n      <td>1.10414</td>\n      <td>1.10394</td>\n      <td>1.10398</td>\n      <td>111</td>\n      <td>0.0</td>\n      <td>0.000245</td>\n      <td>-0.000630</td>\n      <td>...</td>\n      <td>BUY</td>\n      <td>BUY</td>\n      <td>BUY</td>\n      <td>BUY</td>\n      <td>BUY</td>\n      <td>BUY</td>\n      <td>0.000000</td>\n      <td>0.000000</td>\n      <td>0.000000</td>\n      <td>0</td>\n    </tr>\n    <tr>\n      <th>99696</th>\n      <td>2023.05.03</td>\n      <td>15:01:00</td>\n      <td>1.10400</td>\n      <td>1.10417</td>\n      <td>1.10387</td>\n      <td>1.10415</td>\n      <td>109</td>\n      <td>0.0</td>\n      <td>0.000098</td>\n      <td>-0.000809</td>\n      <td>...</td>\n      <td>BUY</td>\n      <td>BUY</td>\n      <td>BUY</td>\n      <td>BUY</td>\n      <td>BUY</td>\n      <td>BUY</td>\n      <td>0.000000</td>\n      <td>0.000000</td>\n      <td>0.000000</td>\n      <td>0</td>\n    </tr>\n    <tr>\n      <th>99697</th>\n      <td>2023.05.03</td>\n      <td>15:02:00</td>\n      <td>1.10415</td>\n      <td>1.10418</td>\n      <td>1.10388</td>\n      <td>1.10389</td>\n      <td>100</td>\n      <td>0.0</td>\n      <td>0.000363</td>\n      <td>-0.000547</td>\n      <td>...</td>\n      <td>BUY</td>\n      <td>BUY</td>\n      <td>BUY</td>\n      <td>BUY</td>\n      <td>BUY</td>\n      <td>BUY</td>\n      <td>0.000000</td>\n      <td>0.000000</td>\n      <td>0.000000</td>\n      <td>0</td>\n    </tr>\n    <tr>\n      <th>99698</th>\n      <td>2023.05.03</td>\n      <td>15:03:00</td>\n      <td>1.10389</td>\n      <td>1.10395</td>\n      <td>1.10380</td>\n      <td>1.10387</td>\n      <td>63</td>\n      <td>0.0</td>\n      <td>0.000386</td>\n      <td>-0.000524</td>\n      <td>...</td>\n      <td>BUY</td>\n      <td>BUY</td>\n      <td>BUY</td>\n      <td>BUY</td>\n      <td>BUY</td>\n      <td>BUY</td>\n      <td>0.000000</td>\n      <td>0.000000</td>\n      <td>0.000000</td>\n      <td>0</td>\n    </tr>\n    <tr>\n      <th>99699</th>\n      <td>2023.05.03</td>\n      <td>15:04:00</td>\n      <td>1.10387</td>\n      <td>1.10389</td>\n      <td>1.10381</td>\n      <td>1.10381</td>\n      <td>50</td>\n      <td>0.0</td>\n      <td>0.000448</td>\n      <td>-0.000460</td>\n      <td>...</td>\n      <td>BUY</td>\n      <td>BUY</td>\n      <td>BUY</td>\n      <td>BUY</td>\n      <td>BUY</td>\n      <td>SELL</td>\n      <td>0.000000</td>\n      <td>0.000000</td>\n      <td>0.000000</td>\n      <td>0</td>\n    </tr>\n  </tbody>\n</table>\n<p>99700 rows × 78 columns</p>\n</div>"
     },
     "execution_count": 10,
     "metadata": {},
     "output_type": "execute_result"
    }
   ],
   "source": [
    "df"
   ],
   "metadata": {
    "collapsed": false,
    "ExecuteTime": {
     "end_time": "2023-05-17T19:55:38.732757600Z",
     "start_time": "2023-05-17T19:55:38.668929300Z"
    }
   }
  },
  {
   "cell_type": "code",
   "execution_count": 11,
   "outputs": [
    {
     "data": {
      "text/plain": "             Date      Time     Open     High      Low    Close  Volume   \n0      2023.01.26  00:17:00  1.09140  1.09143  1.09139  1.09142       9  \\\n1      2023.01.26  00:18:00  1.09141  1.09142  1.09139  1.09139       4   \n2      2023.01.26  00:19:00  1.09138  1.09141  1.09138  1.09141       4   \n3      2023.01.26  00:20:00  1.09140  1.09141  1.09139  1.09139       3   \n4      2023.01.26  00:21:00  1.09139  1.09141  1.09139  1.09140       3   \n...           ...       ...      ...      ...      ...      ...     ...   \n99695  2023.05.03  15:00:00  1.10396  1.10414  1.10394  1.10398     111   \n99696  2023.05.03  15:01:00  1.10400  1.10417  1.10387  1.10415     109   \n99697  2023.05.03  15:02:00  1.10415  1.10418  1.10388  1.10389     100   \n99698  2023.05.03  15:03:00  1.10389  1.10395  1.10380  1.10387      63   \n99699  2023.05.03  15:04:00  1.10387  1.10389  1.10381  1.10381      50   \n\n       bbands  buy_bbands_diff  sell_bbands_diff  ...  EMA_50_sig  SMA_50_sig   \n0         0.0         0.000325         -0.000240  ...          -1          -1  \\\n1         0.0         0.000346         -0.000214  ...          -1          -1   \n2         0.0         0.000315         -0.000235  ...          -1          -1   \n3         0.0         0.000321         -0.000217  ...          -1          -1   \n4         0.0         0.000296         -0.000226  ...          -1          -1   \n...       ...              ...               ...  ...         ...         ...   \n99695     0.0         0.000245         -0.000630  ...           1           1   \n99696     0.0         0.000098         -0.000809  ...           1           1   \n99697     0.0         0.000363         -0.000547  ...           1           1   \n99698     0.0         0.000386         -0.000524  ...           1           1   \n99699     0.0         0.000448         -0.000460  ...           1           1   \n\n       EMA_100_sig  SMA_100_sig  EMA_200_sig  SMA_200_sig  Percent_Change_5   \n0                1            1            1            1         -0.002749  \\\n1               -1           -1            1            1          0.000916   \n2                1           -1            1            1         -0.000916   \n3               -1           -1            1            1          0.000916   \n4                1           -1            1            1         -0.000916   \n...            ...          ...          ...          ...               ...   \n99695            1            1            1            1          0.000000   \n99696            1            1            1            1          0.000000   \n99697            1            1            1            1          0.000000   \n99698            1            1            1            1          0.000000   \n99699            1            1            1           -1          0.000000   \n\n       Percent_Change_3  Percent_Change_10  signal1  \n0             -0.002749           0.000000        0  \n1              0.000916           0.004581        0  \n2             -0.001832           0.001832        0  \n3              0.000916          -0.001833        0  \n4              0.000000           0.008246        0  \n...                 ...                ...      ...  \n99695          0.000000           0.000000        0  \n99696          0.000000           0.000000        0  \n99697          0.000000           0.000000        0  \n99698          0.000000           0.000000        0  \n99699          0.000000           0.000000        0  \n\n[99700 rows x 78 columns]",
      "text/html": "<div>\n<style scoped>\n    .dataframe tbody tr th:only-of-type {\n        vertical-align: middle;\n    }\n\n    .dataframe tbody tr th {\n        vertical-align: top;\n    }\n\n    .dataframe thead th {\n        text-align: right;\n    }\n</style>\n<table border=\"1\" class=\"dataframe\">\n  <thead>\n    <tr style=\"text-align: right;\">\n      <th></th>\n      <th>Date</th>\n      <th>Time</th>\n      <th>Open</th>\n      <th>High</th>\n      <th>Low</th>\n      <th>Close</th>\n      <th>Volume</th>\n      <th>bbands</th>\n      <th>buy_bbands_diff</th>\n      <th>sell_bbands_diff</th>\n      <th>...</th>\n      <th>EMA_50_sig</th>\n      <th>SMA_50_sig</th>\n      <th>EMA_100_sig</th>\n      <th>SMA_100_sig</th>\n      <th>EMA_200_sig</th>\n      <th>SMA_200_sig</th>\n      <th>Percent_Change_5</th>\n      <th>Percent_Change_3</th>\n      <th>Percent_Change_10</th>\n      <th>signal1</th>\n    </tr>\n  </thead>\n  <tbody>\n    <tr>\n      <th>0</th>\n      <td>2023.01.26</td>\n      <td>00:17:00</td>\n      <td>1.09140</td>\n      <td>1.09143</td>\n      <td>1.09139</td>\n      <td>1.09142</td>\n      <td>9</td>\n      <td>0.0</td>\n      <td>0.000325</td>\n      <td>-0.000240</td>\n      <td>...</td>\n      <td>-1</td>\n      <td>-1</td>\n      <td>1</td>\n      <td>1</td>\n      <td>1</td>\n      <td>1</td>\n      <td>-0.002749</td>\n      <td>-0.002749</td>\n      <td>0.000000</td>\n      <td>0</td>\n    </tr>\n    <tr>\n      <th>1</th>\n      <td>2023.01.26</td>\n      <td>00:18:00</td>\n      <td>1.09141</td>\n      <td>1.09142</td>\n      <td>1.09139</td>\n      <td>1.09139</td>\n      <td>4</td>\n      <td>0.0</td>\n      <td>0.000346</td>\n      <td>-0.000214</td>\n      <td>...</td>\n      <td>-1</td>\n      <td>-1</td>\n      <td>-1</td>\n      <td>-1</td>\n      <td>1</td>\n      <td>1</td>\n      <td>0.000916</td>\n      <td>0.000916</td>\n      <td>0.004581</td>\n      <td>0</td>\n    </tr>\n    <tr>\n      <th>2</th>\n      <td>2023.01.26</td>\n      <td>00:19:00</td>\n      <td>1.09138</td>\n      <td>1.09141</td>\n      <td>1.09138</td>\n      <td>1.09141</td>\n      <td>4</td>\n      <td>0.0</td>\n      <td>0.000315</td>\n      <td>-0.000235</td>\n      <td>...</td>\n      <td>-1</td>\n      <td>-1</td>\n      <td>1</td>\n      <td>-1</td>\n      <td>1</td>\n      <td>1</td>\n      <td>-0.000916</td>\n      <td>-0.001832</td>\n      <td>0.001832</td>\n      <td>0</td>\n    </tr>\n    <tr>\n      <th>3</th>\n      <td>2023.01.26</td>\n      <td>00:20:00</td>\n      <td>1.09140</td>\n      <td>1.09141</td>\n      <td>1.09139</td>\n      <td>1.09139</td>\n      <td>3</td>\n      <td>0.0</td>\n      <td>0.000321</td>\n      <td>-0.000217</td>\n      <td>...</td>\n      <td>-1</td>\n      <td>-1</td>\n      <td>-1</td>\n      <td>-1</td>\n      <td>1</td>\n      <td>1</td>\n      <td>0.000916</td>\n      <td>0.000916</td>\n      <td>-0.001833</td>\n      <td>0</td>\n    </tr>\n    <tr>\n      <th>4</th>\n      <td>2023.01.26</td>\n      <td>00:21:00</td>\n      <td>1.09139</td>\n      <td>1.09141</td>\n      <td>1.09139</td>\n      <td>1.09140</td>\n      <td>3</td>\n      <td>0.0</td>\n      <td>0.000296</td>\n      <td>-0.000226</td>\n      <td>...</td>\n      <td>-1</td>\n      <td>-1</td>\n      <td>1</td>\n      <td>-1</td>\n      <td>1</td>\n      <td>1</td>\n      <td>-0.000916</td>\n      <td>0.000000</td>\n      <td>0.008246</td>\n      <td>0</td>\n    </tr>\n    <tr>\n      <th>...</th>\n      <td>...</td>\n      <td>...</td>\n      <td>...</td>\n      <td>...</td>\n      <td>...</td>\n      <td>...</td>\n      <td>...</td>\n      <td>...</td>\n      <td>...</td>\n      <td>...</td>\n      <td>...</td>\n      <td>...</td>\n      <td>...</td>\n      <td>...</td>\n      <td>...</td>\n      <td>...</td>\n      <td>...</td>\n      <td>...</td>\n      <td>...</td>\n      <td>...</td>\n      <td>...</td>\n    </tr>\n    <tr>\n      <th>99695</th>\n      <td>2023.05.03</td>\n      <td>15:00:00</td>\n      <td>1.10396</td>\n      <td>1.10414</td>\n      <td>1.10394</td>\n      <td>1.10398</td>\n      <td>111</td>\n      <td>0.0</td>\n      <td>0.000245</td>\n      <td>-0.000630</td>\n      <td>...</td>\n      <td>1</td>\n      <td>1</td>\n      <td>1</td>\n      <td>1</td>\n      <td>1</td>\n      <td>1</td>\n      <td>0.000000</td>\n      <td>0.000000</td>\n      <td>0.000000</td>\n      <td>0</td>\n    </tr>\n    <tr>\n      <th>99696</th>\n      <td>2023.05.03</td>\n      <td>15:01:00</td>\n      <td>1.10400</td>\n      <td>1.10417</td>\n      <td>1.10387</td>\n      <td>1.10415</td>\n      <td>109</td>\n      <td>0.0</td>\n      <td>0.000098</td>\n      <td>-0.000809</td>\n      <td>...</td>\n      <td>1</td>\n      <td>1</td>\n      <td>1</td>\n      <td>1</td>\n      <td>1</td>\n      <td>1</td>\n      <td>0.000000</td>\n      <td>0.000000</td>\n      <td>0.000000</td>\n      <td>0</td>\n    </tr>\n    <tr>\n      <th>99697</th>\n      <td>2023.05.03</td>\n      <td>15:02:00</td>\n      <td>1.10415</td>\n      <td>1.10418</td>\n      <td>1.10388</td>\n      <td>1.10389</td>\n      <td>100</td>\n      <td>0.0</td>\n      <td>0.000363</td>\n      <td>-0.000547</td>\n      <td>...</td>\n      <td>1</td>\n      <td>1</td>\n      <td>1</td>\n      <td>1</td>\n      <td>1</td>\n      <td>1</td>\n      <td>0.000000</td>\n      <td>0.000000</td>\n      <td>0.000000</td>\n      <td>0</td>\n    </tr>\n    <tr>\n      <th>99698</th>\n      <td>2023.05.03</td>\n      <td>15:03:00</td>\n      <td>1.10389</td>\n      <td>1.10395</td>\n      <td>1.10380</td>\n      <td>1.10387</td>\n      <td>63</td>\n      <td>0.0</td>\n      <td>0.000386</td>\n      <td>-0.000524</td>\n      <td>...</td>\n      <td>1</td>\n      <td>1</td>\n      <td>1</td>\n      <td>1</td>\n      <td>1</td>\n      <td>1</td>\n      <td>0.000000</td>\n      <td>0.000000</td>\n      <td>0.000000</td>\n      <td>0</td>\n    </tr>\n    <tr>\n      <th>99699</th>\n      <td>2023.05.03</td>\n      <td>15:04:00</td>\n      <td>1.10387</td>\n      <td>1.10389</td>\n      <td>1.10381</td>\n      <td>1.10381</td>\n      <td>50</td>\n      <td>0.0</td>\n      <td>0.000448</td>\n      <td>-0.000460</td>\n      <td>...</td>\n      <td>1</td>\n      <td>1</td>\n      <td>1</td>\n      <td>1</td>\n      <td>1</td>\n      <td>-1</td>\n      <td>0.000000</td>\n      <td>0.000000</td>\n      <td>0.000000</td>\n      <td>0</td>\n    </tr>\n  </tbody>\n</table>\n<p>99700 rows × 78 columns</p>\n</div>"
     },
     "execution_count": 11,
     "metadata": {},
     "output_type": "execute_result"
    }
   ],
   "source": [
    "df.replace({\"BUY\": 1, \"SELL\": -1, \"NEUTRAL\":0}, inplace=True)\n",
    "df"
   ],
   "metadata": {
    "collapsed": false,
    "ExecuteTime": {
     "end_time": "2023-05-17T19:55:39.510244100Z",
     "start_time": "2023-05-17T19:55:38.769658800Z"
    }
   }
  },
  {
   "cell_type": "code",
   "execution_count": 12,
   "outputs": [
    {
     "data": {
      "text/plain": "['Date',\n 'Time',\n 'Open',\n 'High',\n 'Low',\n 'Close',\n 'Volume',\n 'bbands',\n 'buy_bbands_diff',\n 'sell_bbands_diff',\n 'BBL_30_2.0',\n 'BBM_30_2.0',\n 'BBU_30_2.0',\n 'BBB_30_2.0',\n 'BBP_30_2.0',\n 'BBL_5_2.0',\n 'BBM_5_2.0',\n 'BBU_5_2.0',\n 'BBB_5_2.0',\n 'BBP_5_2.0',\n 'MACD_12_26_9',\n 'MACDh_12_26_9',\n 'MACDs_12_26_9',\n 'PSARl_0.02_0.2',\n 'PSARs_0.02_0.2',\n 'PSARaf_0.02_0.2',\n 'PSARr_0.02_0.2',\n 'STOCHk_14_3_3',\n 'STOCHd_14_3_3',\n 'RSI_14',\n 'ISA_9',\n 'ISB_26',\n 'ITS_9',\n 'IKS_26',\n 'ICS_26',\n 'SMA_5',\n 'SMA_10',\n 'SMA_20',\n 'SMA_30',\n 'SMA_50',\n 'SMA_100',\n 'SMA_200',\n 'EMA_5',\n 'EMA_10',\n 'EMA_20',\n 'EMA_30',\n 'EMA_50',\n 'EMA_100',\n 'EMA_200',\n 'STOCHk_20_3_3',\n 'STOCHd_20_3_3',\n 'CCI_14_0.015',\n 'AO_5_34',\n 'MOM_10',\n 'UO_7_14_28',\n 'VWMA_10',\n 'RSI_14_sig',\n 'STOCH_14_3_3_sig',\n 'CCI_14_0.015_sig',\n 'AO_5_34_sig',\n 'MOM_10_sig',\n 'MACD_12_26_9_sig',\n 'EMA_10_sig',\n 'SMA_10_sig',\n 'EMA_20_sig',\n 'SMA_20_sig',\n 'EMA_30_sig',\n 'SMA_30_sig',\n 'EMA_50_sig',\n 'SMA_50_sig',\n 'EMA_100_sig',\n 'SMA_100_sig',\n 'EMA_200_sig',\n 'SMA_200_sig',\n 'Percent_Change_5',\n 'Percent_Change_3',\n 'Percent_Change_10',\n 'signal1']"
     },
     "execution_count": 12,
     "metadata": {},
     "output_type": "execute_result"
    }
   ],
   "source": [
    "list(df.columns)"
   ],
   "metadata": {
    "collapsed": false,
    "ExecuteTime": {
     "end_time": "2023-05-17T19:55:39.564618700Z",
     "start_time": "2023-05-17T19:55:39.514234Z"
    }
   }
  },
  {
   "cell_type": "code",
   "execution_count": 13,
   "outputs": [],
   "source": [
    "feature_list = ['bbands', 'RSI_14_sig', 'STOCH_14_3_3_sig', 'CCI_14_0.015_sig', 'AO_5_34_sig', 'MOM_10_sig', 'MACD_12_26_9_sig', 'EMA_10_sig', 'SMA_10_sig', 'EMA_20_sig', 'SMA_20_sig', 'EMA_30_sig', 'SMA_30_sig', 'EMA_50_sig', 'SMA_50_sig', 'EMA_100_sig', 'SMA_100_sig', 'EMA_200_sig', 'SMA_200_sig', 'Percent_Change_5', 'Percent_Change_3', 'Percent_Change_10']"
   ],
   "metadata": {
    "collapsed": false,
    "ExecuteTime": {
     "end_time": "2023-05-17T19:55:39.598528500Z",
     "start_time": "2023-05-17T19:55:39.528715700Z"
    }
   }
  },
  {
   "cell_type": "code",
   "execution_count": 14,
   "outputs": [],
   "source": [
    "X = df[feature_list]\n",
    "y = df[\"signal1\"]\n",
    "#y.replace({1:\"BUY\", -1:\"SELL\", 0:\"NEUTRAL\"}, inplace=True)"
   ],
   "metadata": {
    "collapsed": false,
    "ExecuteTime": {
     "end_time": "2023-05-17T19:55:39.682305700Z",
     "start_time": "2023-05-17T19:55:39.585564200Z"
    }
   }
  },
  {
   "cell_type": "code",
   "execution_count": 2,
   "outputs": [
    {
     "ename": "ModuleNotFoundError",
     "evalue": "No module named 'sklearn'",
     "output_type": "error",
     "traceback": [
      "\u001B[1;31m---------------------------------------------------------------------------\u001B[0m",
      "\u001B[1;31mModuleNotFoundError\u001B[0m                       Traceback (most recent call last)",
      "Cell \u001B[1;32mIn[2], line 2\u001B[0m\n\u001B[0;32m      1\u001B[0m \u001B[38;5;28;01mimport\u001B[39;00m \u001B[38;5;21;01mnumpy\u001B[39;00m \u001B[38;5;28;01mas\u001B[39;00m \u001B[38;5;21;01mnp\u001B[39;00m\n\u001B[1;32m----> 2\u001B[0m \u001B[38;5;28;01mfrom\u001B[39;00m \u001B[38;5;21;01msklearn\u001B[39;00m\u001B[38;5;21;01m.\u001B[39;00m\u001B[38;5;21;01mpreprocessing\u001B[39;00m \u001B[38;5;28;01mimport\u001B[39;00m LabelEncoder\n\u001B[0;32m      3\u001B[0m \u001B[38;5;28;01mfrom\u001B[39;00m \u001B[38;5;21;01msklearn\u001B[39;00m\u001B[38;5;21;01m.\u001B[39;00m\u001B[38;5;21;01mpreprocessing\u001B[39;00m \u001B[38;5;28;01mimport\u001B[39;00m OneHotEncoder\n\u001B[0;32m      5\u001B[0m \u001B[38;5;66;03m# define example\u001B[39;00m\n",
      "\u001B[1;31mModuleNotFoundError\u001B[0m: No module named 'sklearn'"
     ]
    }
   ],
   "source": [
    "import numpy as np\n",
    "from sklearn.preprocessing import LabelEncoder\n",
    "from sklearn.preprocessing import OneHotEncoder\n",
    "\n",
    "# define example\n",
    "values = np.array(y)\n",
    "\n",
    "# first apply label encoding\n",
    "label_encoder = LabelEncoder()\n",
    "integer_encoded = label_encoder.fit_transform(values)\n",
    "\n",
    "# now we can apply one hot encoding\n",
    "onehot_encoder = OneHotEncoder(sparse=False)\n",
    "integer_encoded = integer_encoded.reshape(len(integer_encoded), 1)\n",
    "onehot_encoded = onehot_encoder.fit_transform(integer_encoded)\n",
    "y = onehot_encoded"
   ],
   "metadata": {
    "collapsed": false,
    "ExecuteTime": {
     "end_time": "2023-05-17T20:03:17.207899900Z",
     "start_time": "2023-05-17T20:03:17.151733500Z"
    }
   }
  },
  {
   "cell_type": "code",
   "execution_count": null,
   "outputs": [],
   "source": [
    "q_80 = int(len(y) * .8)\n",
    "q_90 = int(len(y) * .9)\n",
    "\n",
    "X_train, y_train = X[:q_80], y[:q_80]\n",
    "\n",
    "X_val, y_val = X[q_80:q_90], y[q_80:q_90]\n",
    "X_test, y_test = X[q_90:], y[q_90:]\n"
   ],
   "metadata": {
    "collapsed": false,
    "ExecuteTime": {
     "start_time": "2023-05-17T19:55:40.613865Z"
    }
   }
  },
  {
   "cell_type": "code",
   "execution_count": null,
   "outputs": [],
   "source": [
    "n = len(feature_list)\n",
    "print(tf.test.gpu_device_name())\n",
    "model = Sequential([layers.Input(n),\n",
    "                    layers.Dense(32, activation='relu'),\n",
    "                    layers.Dense(32, activation='relu'),\n",
    "                    layers.Dense(3, activation=tf.nn.softmax)])\n",
    "\n",
    "model.compile(loss=tf.keras.losses.binary_crossentropy,\n",
    "              optimizer=Adam(learning_rate=0.001),\n",
    "              metrics=[\n",
    "        tf.keras.metrics.BinaryAccuracy(name='accuracy'),\n",
    "        tf.keras.metrics.Precision(name='precision'),\n",
    "        tf.keras.metrics.Recall(name='recall')])\n",
    "\n",
    "model.fit(X_train, y_train, validation_data=(X_val, y_val), epochs=100)"
   ],
   "metadata": {
    "collapsed": false,
    "ExecuteTime": {
     "start_time": "2023-05-17T19:55:40.616855900Z"
    }
   }
  },
  {
   "cell_type": "code",
   "execution_count": null,
   "outputs": [],
   "source": [
    "y_pred = model.predict(X_test)"
   ],
   "metadata": {
    "collapsed": false,
    "ExecuteTime": {
     "start_time": "2023-05-17T19:55:40.620843900Z"
    }
   }
  },
  {
   "cell_type": "code",
   "execution_count": null,
   "outputs": [],
   "source": [
    "len(y_pred)"
   ],
   "metadata": {
    "collapsed": false
   }
  },
  {
   "cell_type": "code",
   "execution_count": null,
   "outputs": [],
   "source": [
    "y_test.values[1]"
   ],
   "metadata": {
    "collapsed": false
   }
  },
  {
   "cell_type": "code",
   "execution_count": null,
   "outputs": [],
   "source": [
    "y_pred = np.round(y_pred)"
   ],
   "metadata": {
    "collapsed": false
   }
  },
  {
   "cell_type": "code",
   "execution_count": null,
   "outputs": [],
   "source": [
    "y_pred"
   ],
   "metadata": {
    "collapsed": false
   }
  },
  {
   "cell_type": "code",
   "execution_count": null,
   "outputs": [],
   "source": [
    "num_correct_buy = 0\n",
    "num_pred_buy = 0\n",
    "num_test_buy = 0\n",
    "for i in range(len(y_pred)):\n",
    "    if y_pred[i][2] == 1 and y_test[i][2] == 1:\n",
    "        num_correct_buy+=1\n",
    "    if y_pred[i][2] == 1:\n",
    "        num_pred_buy+=1\n",
    "    if  y_test[i][2] == 1:\n",
    "        num_test_buy+=1\n",
    "print(\"*****buy******\")\n",
    "print(\"cr/pred\",num_correct_buy/num_pred_buy)\n",
    "print(\"cr/test\",num_correct_buy/num_test_buy)\n",
    "\n",
    "num_correct_sell = 0\n",
    "num_pred_sell = 0\n",
    "num_test_sell = 0\n",
    "for i in range(len(y_pred)):\n",
    "    if y_pred[i][0] == 1 and y_test[i][0] == 1:\n",
    "        num_correct_sell+=1\n",
    "    if y_pred[i][0] == 1:\n",
    "        num_pred_sell+=1\n",
    "    if  y_test[i][0] == 1:\n",
    "        num_test_sell+=1\n",
    "print(\"*****sell******\")\n",
    "print(\"cr/pred\",num_correct_sell/num_pred_sell)\n",
    "print(\"cr/test\",num_correct_sell/num_test_sell)"
   ],
   "metadata": {
    "collapsed": false
   }
  },
  {
   "cell_type": "code",
   "execution_count": null,
   "outputs": [],
   "source": [],
   "metadata": {
    "collapsed": false
   }
  }
 ],
 "metadata": {
  "kernelspec": {
   "display_name": "Python 3",
   "language": "python",
   "name": "python3"
  },
  "language_info": {
   "codemirror_mode": {
    "name": "ipython",
    "version": 2
   },
   "file_extension": ".py",
   "mimetype": "text/x-python",
   "name": "python",
   "nbconvert_exporter": "python",
   "pygments_lexer": "ipython2",
   "version": "2.7.6"
  }
 },
 "nbformat": 4,
 "nbformat_minor": 0
}
