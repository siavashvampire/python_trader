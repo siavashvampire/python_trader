{
 "cells": [
  {
   "cell_type": "code",
   "execution_count": 97,
   "metadata": {
    "collapsed": true
   },
   "outputs": [],
   "source": [
    "import pandas as pd\n",
    "from tensorflow.keras.models import Sequential\n",
    "from tensorflow.keras.optimizers import Adam\n",
    "from tensorflow.keras import layers\n",
    "import tensorflow as tf\n"
   ]
  },
  {
   "cell_type": "code",
   "execution_count": 98,
   "outputs": [
    {
     "name": "stdout",
     "output_type": "stream",
     "text": [
      "\n"
     ]
    },
    {
     "name": "stderr",
     "output_type": "stream",
     "text": [
      "2023-05-17 21:54:15.582460: I tensorflow/stream_executor/cuda/cuda_gpu_executor.cc:966] could not open file to read NUMA node: /sys/bus/pci/devices/0000:01:00.0/numa_node\n",
      "Your kernel may have been built without NUMA support.\n",
      "2023-05-17 21:54:15.582507: W tensorflow/core/common_runtime/gpu/gpu_device.cc:1934] Cannot dlopen some GPU libraries. Please make sure the missing libraries mentioned above are installed properly if you would like to use GPU. Follow the guide at https://www.tensorflow.org/install/gpu for how to download and setup the required libraries for your platform.\n",
      "Skipping registering GPU devices...\n"
     ]
    }
   ],
   "source": [
    "print(tf.test.gpu_device_name())"
   ],
   "metadata": {
    "collapsed": false
   }
  },
  {
   "cell_type": "code",
   "execution_count": 99,
   "outputs": [],
   "source": [
    "df = pd.read_csv('test_df.csv')\n",
    "df = df[300:]"
   ],
   "metadata": {
    "collapsed": false
   }
  },
  {
   "cell_type": "code",
   "execution_count": 100,
   "outputs": [],
   "source": [
    "df = df.reset_index(drop=True)"
   ],
   "metadata": {
    "collapsed": false
   }
  },
  {
   "cell_type": "code",
   "execution_count": 101,
   "outputs": [],
   "source": [
    "df[\"Percent_Change_5\"] = 0\n",
    "df[\"Percent_Change_3\"] = 0\n",
    "df[\"Percent_Change_10\"] = 0\n"
   ],
   "metadata": {
    "collapsed": false
   }
  },
  {
   "cell_type": "code",
   "execution_count": 102,
   "outputs": [
    {
     "name": "stderr",
     "output_type": "stream",
     "text": [
      "/tmp/ipykernel_5381/2873495324.py:2: SettingWithCopyWarning: \n",
      "A value is trying to be set on a copy of a slice from a DataFrame\n",
      "\n",
      "See the caveats in the documentation: https://pandas.pydata.org/pandas-docs/stable/user_guide/indexing.html#returning-a-view-versus-a-copy\n",
      "  df[\"Percent_Change_5\"][i] = ((df[\"Close\"][i+5]-df[\"Close\"][i])/df[\"Close\"][i])*100\n",
      "/tmp/ipykernel_5381/2873495324.py:3: SettingWithCopyWarning: \n",
      "A value is trying to be set on a copy of a slice from a DataFrame\n",
      "\n",
      "See the caveats in the documentation: https://pandas.pydata.org/pandas-docs/stable/user_guide/indexing.html#returning-a-view-versus-a-copy\n",
      "  df[\"Percent_Change_3\"][i] = ((df[\"Close\"][i+3]-df[\"Close\"][i])/df[\"Close\"][i])*100\n",
      "/tmp/ipykernel_5381/2873495324.py:4: SettingWithCopyWarning: \n",
      "A value is trying to be set on a copy of a slice from a DataFrame\n",
      "\n",
      "See the caveats in the documentation: https://pandas.pydata.org/pandas-docs/stable/user_guide/indexing.html#returning-a-view-versus-a-copy\n",
      "  df[\"Percent_Change_10\"][i] = ((df[\"Close\"][i+10]-df[\"Close\"][i])/df[\"Close\"][i])*100\n"
     ]
    }
   ],
   "source": [
    "for i in list(df.index.values)[:-10]:\n",
    "    df[\"Percent_Change_5\"][i] = ((df[\"Close\"][i+5]-df[\"Close\"][i])/df[\"Close\"][i])*100\n",
    "    df[\"Percent_Change_3\"][i] = ((df[\"Close\"][i+3]-df[\"Close\"][i])/df[\"Close\"][i])*100\n",
    "    df[\"Percent_Change_10\"][i] = ((df[\"Close\"][i+10]-df[\"Close\"][i])/df[\"Close\"][i])*100"
   ],
   "metadata": {
    "collapsed": false
   }
  },
  {
   "cell_type": "code",
   "execution_count": 103,
   "outputs": [
    {
     "name": "stdout",
     "output_type": "stream",
     "text": [
      "6197\n",
      "6369\n"
     ]
    }
   ],
   "source": [
    "print(len(df[df[\"Percent_Change_5\"]>0.04]))\n",
    "print(len(df[df[\"Percent_Change_5\"]<-0.04]))"
   ],
   "metadata": {
    "collapsed": false
   }
  },
  {
   "cell_type": "code",
   "execution_count": 104,
   "outputs": [
    {
     "name": "stderr",
     "output_type": "stream",
     "text": [
      "/tmp/ipykernel_5381/199968885.py:5: SettingWithCopyWarning: \n",
      "A value is trying to be set on a copy of a slice from a DataFrame\n",
      "\n",
      "See the caveats in the documentation: https://pandas.pydata.org/pandas-docs/stable/user_guide/indexing.html#returning-a-view-versus-a-copy\n",
      "  df[\"signal1\"][i] = 1\n",
      "/tmp/ipykernel_5381/199968885.py:7: SettingWithCopyWarning: \n",
      "A value is trying to be set on a copy of a slice from a DataFrame\n",
      "\n",
      "See the caveats in the documentation: https://pandas.pydata.org/pandas-docs/stable/user_guide/indexing.html#returning-a-view-versus-a-copy\n",
      "  df[\"signal1\"][i] = -1\n"
     ]
    }
   ],
   "source": [
    "def winning_polocy_1(df):\n",
    "    df[\"signal1\"] = 0\n",
    "    for i in list(df.index.values):\n",
    "        if df[\"Percent_Change_5\"][i]>0.04:\n",
    "            df[\"signal1\"][i] = 1\n",
    "        elif df[\"Percent_Change_5\"][i]<-0.04:\n",
    "            df[\"signal1\"][i] = -1\n",
    "winning_polocy_1(df)"
   ],
   "metadata": {
    "collapsed": false
   }
  },
  {
   "cell_type": "code",
   "execution_count": 105,
   "outputs": [
    {
     "data": {
      "text/plain": "             Date      Time     Open     High      Low    Close  Volume  \\\n0      2023.01.26  00:17:00  1.09140  1.09143  1.09139  1.09142       9   \n1      2023.01.26  00:18:00  1.09141  1.09142  1.09139  1.09139       4   \n2      2023.01.26  00:19:00  1.09138  1.09141  1.09138  1.09141       4   \n3      2023.01.26  00:20:00  1.09140  1.09141  1.09139  1.09139       3   \n4      2023.01.26  00:21:00  1.09139  1.09141  1.09139  1.09140       3   \n...           ...       ...      ...      ...      ...      ...     ...   \n99695  2023.05.03  15:00:00  1.10396  1.10414  1.10394  1.10398     111   \n99696  2023.05.03  15:01:00  1.10400  1.10417  1.10387  1.10415     109   \n99697  2023.05.03  15:02:00  1.10415  1.10418  1.10388  1.10389     100   \n99698  2023.05.03  15:03:00  1.10389  1.10395  1.10380  1.10387      63   \n99699  2023.05.03  15:04:00  1.10387  1.10389  1.10381  1.10381      50   \n\n       bbands  buy_bbands_diff  sell_bbands_diff  ...  EMA_50_sig  SMA_50_sig  \\\n0         0.0         0.000325         -0.000240  ...        SELL        SELL   \n1         0.0         0.000346         -0.000214  ...        SELL        SELL   \n2         0.0         0.000315         -0.000235  ...        SELL        SELL   \n3         0.0         0.000321         -0.000217  ...        SELL        SELL   \n4         0.0         0.000296         -0.000226  ...        SELL        SELL   \n...       ...              ...               ...  ...         ...         ...   \n99695     0.0         0.000245         -0.000630  ...         BUY         BUY   \n99696     0.0         0.000098         -0.000809  ...         BUY         BUY   \n99697     0.0         0.000363         -0.000547  ...         BUY         BUY   \n99698     0.0         0.000386         -0.000524  ...         BUY         BUY   \n99699     0.0         0.000448         -0.000460  ...         BUY         BUY   \n\n       EMA_100_sig  SMA_100_sig  EMA_200_sig  SMA_200_sig  Percent_Change_5  \\\n0              BUY          BUY          BUY          BUY         -0.002749   \n1             SELL         SELL          BUY          BUY          0.000916   \n2              BUY         SELL          BUY          BUY         -0.000916   \n3             SELL         SELL          BUY          BUY          0.000916   \n4              BUY         SELL          BUY          BUY         -0.000916   \n...            ...          ...          ...          ...               ...   \n99695          BUY          BUY          BUY          BUY          0.000000   \n99696          BUY          BUY          BUY          BUY          0.000000   \n99697          BUY          BUY          BUY          BUY          0.000000   \n99698          BUY          BUY          BUY          BUY          0.000000   \n99699          BUY          BUY          BUY         SELL          0.000000   \n\n       Percent_Change_3  Percent_Change_10  signal1  \n0             -0.002749           0.000000        0  \n1              0.000916           0.004581        0  \n2             -0.001832           0.001832        0  \n3              0.000916          -0.001833        0  \n4              0.000000           0.008246        0  \n...                 ...                ...      ...  \n99695          0.000000           0.000000        0  \n99696          0.000000           0.000000        0  \n99697          0.000000           0.000000        0  \n99698          0.000000           0.000000        0  \n99699          0.000000           0.000000        0  \n\n[99700 rows x 78 columns]",
      "text/html": "<div>\n<style scoped>\n    .dataframe tbody tr th:only-of-type {\n        vertical-align: middle;\n    }\n\n    .dataframe tbody tr th {\n        vertical-align: top;\n    }\n\n    .dataframe thead th {\n        text-align: right;\n    }\n</style>\n<table border=\"1\" class=\"dataframe\">\n  <thead>\n    <tr style=\"text-align: right;\">\n      <th></th>\n      <th>Date</th>\n      <th>Time</th>\n      <th>Open</th>\n      <th>High</th>\n      <th>Low</th>\n      <th>Close</th>\n      <th>Volume</th>\n      <th>bbands</th>\n      <th>buy_bbands_diff</th>\n      <th>sell_bbands_diff</th>\n      <th>...</th>\n      <th>EMA_50_sig</th>\n      <th>SMA_50_sig</th>\n      <th>EMA_100_sig</th>\n      <th>SMA_100_sig</th>\n      <th>EMA_200_sig</th>\n      <th>SMA_200_sig</th>\n      <th>Percent_Change_5</th>\n      <th>Percent_Change_3</th>\n      <th>Percent_Change_10</th>\n      <th>signal1</th>\n    </tr>\n  </thead>\n  <tbody>\n    <tr>\n      <th>0</th>\n      <td>2023.01.26</td>\n      <td>00:17:00</td>\n      <td>1.09140</td>\n      <td>1.09143</td>\n      <td>1.09139</td>\n      <td>1.09142</td>\n      <td>9</td>\n      <td>0.0</td>\n      <td>0.000325</td>\n      <td>-0.000240</td>\n      <td>...</td>\n      <td>SELL</td>\n      <td>SELL</td>\n      <td>BUY</td>\n      <td>BUY</td>\n      <td>BUY</td>\n      <td>BUY</td>\n      <td>-0.002749</td>\n      <td>-0.002749</td>\n      <td>0.000000</td>\n      <td>0</td>\n    </tr>\n    <tr>\n      <th>1</th>\n      <td>2023.01.26</td>\n      <td>00:18:00</td>\n      <td>1.09141</td>\n      <td>1.09142</td>\n      <td>1.09139</td>\n      <td>1.09139</td>\n      <td>4</td>\n      <td>0.0</td>\n      <td>0.000346</td>\n      <td>-0.000214</td>\n      <td>...</td>\n      <td>SELL</td>\n      <td>SELL</td>\n      <td>SELL</td>\n      <td>SELL</td>\n      <td>BUY</td>\n      <td>BUY</td>\n      <td>0.000916</td>\n      <td>0.000916</td>\n      <td>0.004581</td>\n      <td>0</td>\n    </tr>\n    <tr>\n      <th>2</th>\n      <td>2023.01.26</td>\n      <td>00:19:00</td>\n      <td>1.09138</td>\n      <td>1.09141</td>\n      <td>1.09138</td>\n      <td>1.09141</td>\n      <td>4</td>\n      <td>0.0</td>\n      <td>0.000315</td>\n      <td>-0.000235</td>\n      <td>...</td>\n      <td>SELL</td>\n      <td>SELL</td>\n      <td>BUY</td>\n      <td>SELL</td>\n      <td>BUY</td>\n      <td>BUY</td>\n      <td>-0.000916</td>\n      <td>-0.001832</td>\n      <td>0.001832</td>\n      <td>0</td>\n    </tr>\n    <tr>\n      <th>3</th>\n      <td>2023.01.26</td>\n      <td>00:20:00</td>\n      <td>1.09140</td>\n      <td>1.09141</td>\n      <td>1.09139</td>\n      <td>1.09139</td>\n      <td>3</td>\n      <td>0.0</td>\n      <td>0.000321</td>\n      <td>-0.000217</td>\n      <td>...</td>\n      <td>SELL</td>\n      <td>SELL</td>\n      <td>SELL</td>\n      <td>SELL</td>\n      <td>BUY</td>\n      <td>BUY</td>\n      <td>0.000916</td>\n      <td>0.000916</td>\n      <td>-0.001833</td>\n      <td>0</td>\n    </tr>\n    <tr>\n      <th>4</th>\n      <td>2023.01.26</td>\n      <td>00:21:00</td>\n      <td>1.09139</td>\n      <td>1.09141</td>\n      <td>1.09139</td>\n      <td>1.09140</td>\n      <td>3</td>\n      <td>0.0</td>\n      <td>0.000296</td>\n      <td>-0.000226</td>\n      <td>...</td>\n      <td>SELL</td>\n      <td>SELL</td>\n      <td>BUY</td>\n      <td>SELL</td>\n      <td>BUY</td>\n      <td>BUY</td>\n      <td>-0.000916</td>\n      <td>0.000000</td>\n      <td>0.008246</td>\n      <td>0</td>\n    </tr>\n    <tr>\n      <th>...</th>\n      <td>...</td>\n      <td>...</td>\n      <td>...</td>\n      <td>...</td>\n      <td>...</td>\n      <td>...</td>\n      <td>...</td>\n      <td>...</td>\n      <td>...</td>\n      <td>...</td>\n      <td>...</td>\n      <td>...</td>\n      <td>...</td>\n      <td>...</td>\n      <td>...</td>\n      <td>...</td>\n      <td>...</td>\n      <td>...</td>\n      <td>...</td>\n      <td>...</td>\n      <td>...</td>\n    </tr>\n    <tr>\n      <th>99695</th>\n      <td>2023.05.03</td>\n      <td>15:00:00</td>\n      <td>1.10396</td>\n      <td>1.10414</td>\n      <td>1.10394</td>\n      <td>1.10398</td>\n      <td>111</td>\n      <td>0.0</td>\n      <td>0.000245</td>\n      <td>-0.000630</td>\n      <td>...</td>\n      <td>BUY</td>\n      <td>BUY</td>\n      <td>BUY</td>\n      <td>BUY</td>\n      <td>BUY</td>\n      <td>BUY</td>\n      <td>0.000000</td>\n      <td>0.000000</td>\n      <td>0.000000</td>\n      <td>0</td>\n    </tr>\n    <tr>\n      <th>99696</th>\n      <td>2023.05.03</td>\n      <td>15:01:00</td>\n      <td>1.10400</td>\n      <td>1.10417</td>\n      <td>1.10387</td>\n      <td>1.10415</td>\n      <td>109</td>\n      <td>0.0</td>\n      <td>0.000098</td>\n      <td>-0.000809</td>\n      <td>...</td>\n      <td>BUY</td>\n      <td>BUY</td>\n      <td>BUY</td>\n      <td>BUY</td>\n      <td>BUY</td>\n      <td>BUY</td>\n      <td>0.000000</td>\n      <td>0.000000</td>\n      <td>0.000000</td>\n      <td>0</td>\n    </tr>\n    <tr>\n      <th>99697</th>\n      <td>2023.05.03</td>\n      <td>15:02:00</td>\n      <td>1.10415</td>\n      <td>1.10418</td>\n      <td>1.10388</td>\n      <td>1.10389</td>\n      <td>100</td>\n      <td>0.0</td>\n      <td>0.000363</td>\n      <td>-0.000547</td>\n      <td>...</td>\n      <td>BUY</td>\n      <td>BUY</td>\n      <td>BUY</td>\n      <td>BUY</td>\n      <td>BUY</td>\n      <td>BUY</td>\n      <td>0.000000</td>\n      <td>0.000000</td>\n      <td>0.000000</td>\n      <td>0</td>\n    </tr>\n    <tr>\n      <th>99698</th>\n      <td>2023.05.03</td>\n      <td>15:03:00</td>\n      <td>1.10389</td>\n      <td>1.10395</td>\n      <td>1.10380</td>\n      <td>1.10387</td>\n      <td>63</td>\n      <td>0.0</td>\n      <td>0.000386</td>\n      <td>-0.000524</td>\n      <td>...</td>\n      <td>BUY</td>\n      <td>BUY</td>\n      <td>BUY</td>\n      <td>BUY</td>\n      <td>BUY</td>\n      <td>BUY</td>\n      <td>0.000000</td>\n      <td>0.000000</td>\n      <td>0.000000</td>\n      <td>0</td>\n    </tr>\n    <tr>\n      <th>99699</th>\n      <td>2023.05.03</td>\n      <td>15:04:00</td>\n      <td>1.10387</td>\n      <td>1.10389</td>\n      <td>1.10381</td>\n      <td>1.10381</td>\n      <td>50</td>\n      <td>0.0</td>\n      <td>0.000448</td>\n      <td>-0.000460</td>\n      <td>...</td>\n      <td>BUY</td>\n      <td>BUY</td>\n      <td>BUY</td>\n      <td>BUY</td>\n      <td>BUY</td>\n      <td>SELL</td>\n      <td>0.000000</td>\n      <td>0.000000</td>\n      <td>0.000000</td>\n      <td>0</td>\n    </tr>\n  </tbody>\n</table>\n<p>99700 rows × 78 columns</p>\n</div>"
     },
     "execution_count": 105,
     "metadata": {},
     "output_type": "execute_result"
    }
   ],
   "source": [
    "df"
   ],
   "metadata": {
    "collapsed": false
   }
  },
  {
   "cell_type": "code",
   "execution_count": 106,
   "outputs": [],
   "source": [
    "df.replace({\"BUY\": 1, \"SELL\": -1, \"NEUTRAL\":0}, inplace=True)"
   ],
   "metadata": {
    "collapsed": false
   }
  },
  {
   "cell_type": "code",
   "execution_count": 107,
   "outputs": [
    {
     "data": {
      "text/plain": "['Date',\n 'Time',\n 'Open',\n 'High',\n 'Low',\n 'Close',\n 'Volume',\n 'bbands',\n 'buy_bbands_diff',\n 'sell_bbands_diff',\n 'BBL_30_2.0',\n 'BBM_30_2.0',\n 'BBU_30_2.0',\n 'BBB_30_2.0',\n 'BBP_30_2.0',\n 'BBL_5_2.0',\n 'BBM_5_2.0',\n 'BBU_5_2.0',\n 'BBB_5_2.0',\n 'BBP_5_2.0',\n 'MACD_12_26_9',\n 'MACDh_12_26_9',\n 'MACDs_12_26_9',\n 'PSARl_0.02_0.2',\n 'PSARs_0.02_0.2',\n 'PSARaf_0.02_0.2',\n 'PSARr_0.02_0.2',\n 'STOCHk_14_3_3',\n 'STOCHd_14_3_3',\n 'RSI_14',\n 'ISA_9',\n 'ISB_26',\n 'ITS_9',\n 'IKS_26',\n 'ICS_26',\n 'SMA_5',\n 'SMA_10',\n 'SMA_20',\n 'SMA_30',\n 'SMA_50',\n 'SMA_100',\n 'SMA_200',\n 'EMA_5',\n 'EMA_10',\n 'EMA_20',\n 'EMA_30',\n 'EMA_50',\n 'EMA_100',\n 'EMA_200',\n 'STOCHk_20_3_3',\n 'STOCHd_20_3_3',\n 'CCI_14_0.015',\n 'AO_5_34',\n 'MOM_10',\n 'UO_7_14_28',\n 'VWMA_10',\n 'RSI_14_sig',\n 'STOCH_14_3_3_sig',\n 'CCI_14_0.015_sig',\n 'AO_5_34_sig',\n 'MOM_10_sig',\n 'MACD_12_26_9_sig',\n 'EMA_10_sig',\n 'SMA_10_sig',\n 'EMA_20_sig',\n 'SMA_20_sig',\n 'EMA_30_sig',\n 'SMA_30_sig',\n 'EMA_50_sig',\n 'SMA_50_sig',\n 'EMA_100_sig',\n 'SMA_100_sig',\n 'EMA_200_sig',\n 'SMA_200_sig',\n 'Percent_Change_5',\n 'Percent_Change_3',\n 'Percent_Change_10',\n 'signal1']"
     },
     "execution_count": 107,
     "metadata": {},
     "output_type": "execute_result"
    }
   ],
   "source": [
    "list(df.columns)"
   ],
   "metadata": {
    "collapsed": false
   }
  },
  {
   "cell_type": "code",
   "execution_count": 108,
   "outputs": [],
   "source": [
    "feature_list = ['bbands', 'RSI_14_sig', 'STOCH_14_3_3_sig', 'CCI_14_0.015_sig', 'AO_5_34_sig', 'MOM_10_sig', 'MACD_12_26_9_sig', 'EMA_10_sig', 'SMA_10_sig', 'EMA_20_sig', 'SMA_20_sig', 'EMA_30_sig', 'SMA_30_sig', 'EMA_50_sig', 'SMA_50_sig', 'EMA_100_sig', 'SMA_100_sig', 'EMA_200_sig', 'SMA_200_sig', 'Percent_Change_5', 'Percent_Change_3', 'Percent_Change_10']"
   ],
   "metadata": {
    "collapsed": false
   }
  },
  {
   "cell_type": "code",
   "execution_count": 109,
   "outputs": [],
   "source": [
    "X = df[feature_list]\n",
    "y = df[\"signal1\"]\n",
    "#y.replace({1:\"BUY\", -1:\"SELL\", 0:\"NEUTRAL\"}, inplace=True)"
   ],
   "metadata": {
    "collapsed": false
   }
  },
  {
   "cell_type": "code",
   "execution_count": 110,
   "outputs": [],
   "source": [
    "import numpy as np\n",
    "from sklearn.preprocessing import LabelEncoder\n",
    "from sklearn.preprocessing import OneHotEncoder\n",
    "\n",
    "# define example\n",
    "values = np.array(y)\n",
    "\n",
    "# first apply label encoding\n",
    "label_encoder = LabelEncoder()\n",
    "integer_encoded = label_encoder.fit_transform(values)\n",
    "\n",
    "# now we can apply one hot encoding\n",
    "onehot_encoder = OneHotEncoder(sparse=False)\n",
    "integer_encoded = integer_encoded.reshape(len(integer_encoded), 1)\n",
    "onehot_encoded = onehot_encoder.fit_transform(integer_encoded)\n",
    "y = onehot_encoded"
   ],
   "metadata": {
    "collapsed": false
   }
  },
  {
   "cell_type": "code",
   "execution_count": 111,
   "outputs": [],
   "source": [
    "q_80 = int(len(y) * .8)\n",
    "q_90 = int(len(y) * .9)\n",
    "\n",
    "X_train, y_train = X[:q_80], y[:q_80]\n",
    "\n",
    "X_val, y_val = X[q_80:q_90], y[q_80:q_90]\n",
    "X_test, y_test = X[q_90:], y[q_90:]\n"
   ],
   "metadata": {
    "collapsed": false
   }
  },
  {
   "cell_type": "code",
   "execution_count": 112,
   "outputs": [
    {
     "name": "stdout",
     "output_type": "stream",
     "text": [
      "\n",
      "Epoch 1/100\n"
     ]
    },
    {
     "name": "stderr",
     "output_type": "stream",
     "text": [
      "2023-05-17 21:54:24.948935: I tensorflow/stream_executor/cuda/cuda_gpu_executor.cc:966] could not open file to read NUMA node: /sys/bus/pci/devices/0000:01:00.0/numa_node\n",
      "Your kernel may have been built without NUMA support.\n",
      "2023-05-17 21:54:24.948992: W tensorflow/core/common_runtime/gpu/gpu_device.cc:1934] Cannot dlopen some GPU libraries. Please make sure the missing libraries mentioned above are installed properly if you would like to use GPU. Follow the guide at https://www.tensorflow.org/install/gpu for how to download and setup the required libraries for your platform.\n",
      "Skipping registering GPU devices...\n"
     ]
    },
    {
     "name": "stdout",
     "output_type": "stream",
     "text": [
      "2493/2493 [==============================] - 3s 1ms/step - loss: 0.2193 - accuracy: 0.9271 - precision: 0.8917 - recall: 0.8895 - val_loss: 0.0783 - val_accuracy: 0.9731 - val_precision: 0.9596 - val_recall: 0.9596\n",
      "Epoch 2/100\n",
      "2493/2493 [==============================] - 3s 1ms/step - loss: 0.0763 - accuracy: 0.9694 - precision: 0.9540 - recall: 0.9540 - val_loss: 0.0469 - val_accuracy: 0.9811 - val_precision: 0.9717 - val_recall: 0.9717\n",
      "Epoch 3/100\n",
      "2493/2493 [==============================] - 3s 1ms/step - loss: 0.0450 - accuracy: 0.9814 - precision: 0.9722 - recall: 0.9722 - val_loss: 0.0294 - val_accuracy: 0.9882 - val_precision: 0.9822 - val_recall: 0.9822\n",
      "Epoch 4/100\n",
      "2493/2493 [==============================] - 3s 1ms/step - loss: 0.0313 - accuracy: 0.9874 - precision: 0.9810 - recall: 0.9810 - val_loss: 0.0231 - val_accuracy: 0.9911 - val_precision: 0.9867 - val_recall: 0.9867\n",
      "Epoch 5/100\n",
      "2493/2493 [==============================] - 3s 1ms/step - loss: 0.0257 - accuracy: 0.9894 - precision: 0.9841 - recall: 0.9841 - val_loss: 0.0228 - val_accuracy: 0.9895 - val_precision: 0.9843 - val_recall: 0.9843\n",
      "Epoch 6/100\n",
      "2493/2493 [==============================] - 3s 1ms/step - loss: 0.0244 - accuracy: 0.9897 - precision: 0.9846 - recall: 0.9846 - val_loss: 0.0194 - val_accuracy: 0.9907 - val_precision: 0.9861 - val_recall: 0.9861\n",
      "Epoch 7/100\n",
      "2493/2493 [==============================] - 3s 1ms/step - loss: 0.0214 - accuracy: 0.9912 - precision: 0.9867 - recall: 0.9867 - val_loss: 0.0166 - val_accuracy: 0.9926 - val_precision: 0.9890 - val_recall: 0.9890\n",
      "Epoch 8/100\n",
      "2493/2493 [==============================] - 3s 1ms/step - loss: 0.0207 - accuracy: 0.9912 - precision: 0.9868 - recall: 0.9868 - val_loss: 0.0150 - val_accuracy: 0.9939 - val_precision: 0.9909 - val_recall: 0.9909\n",
      "Epoch 9/100\n",
      "2493/2493 [==============================] - 3s 1ms/step - loss: 0.0195 - accuracy: 0.9915 - precision: 0.9872 - recall: 0.9872 - val_loss: 0.0141 - val_accuracy: 0.9932 - val_precision: 0.9899 - val_recall: 0.9899\n",
      "Epoch 10/100\n",
      "2493/2493 [==============================] - 3s 1ms/step - loss: 0.0190 - accuracy: 0.9918 - precision: 0.9877 - recall: 0.9877 - val_loss: 0.0144 - val_accuracy: 0.9938 - val_precision: 0.9908 - val_recall: 0.9908\n",
      "Epoch 11/100\n",
      "2493/2493 [==============================] - 3s 1ms/step - loss: 0.0178 - accuracy: 0.9927 - precision: 0.9890 - recall: 0.9890 - val_loss: 0.0152 - val_accuracy: 0.9936 - val_precision: 0.9905 - val_recall: 0.9905\n",
      "Epoch 12/100\n",
      "2493/2493 [==============================] - 3s 1ms/step - loss: 0.0175 - accuracy: 0.9923 - precision: 0.9884 - recall: 0.9884 - val_loss: 0.0145 - val_accuracy: 0.9938 - val_precision: 0.9907 - val_recall: 0.9907\n",
      "Epoch 13/100\n",
      "2493/2493 [==============================] - 3s 1ms/step - loss: 0.0170 - accuracy: 0.9928 - precision: 0.9892 - recall: 0.9892 - val_loss: 0.0141 - val_accuracy: 0.9940 - val_precision: 0.9910 - val_recall: 0.9910\n",
      "Epoch 14/100\n",
      "2493/2493 [==============================] - 3s 1ms/step - loss: 0.0168 - accuracy: 0.9927 - precision: 0.9890 - recall: 0.9890 - val_loss: 0.0140 - val_accuracy: 0.9942 - val_precision: 0.9913 - val_recall: 0.9913\n",
      "Epoch 15/100\n",
      "2493/2493 [==============================] - 3s 1ms/step - loss: 0.0171 - accuracy: 0.9930 - precision: 0.9894 - recall: 0.9894 - val_loss: 0.0140 - val_accuracy: 0.9947 - val_precision: 0.9921 - val_recall: 0.9921\n",
      "Epoch 16/100\n",
      "2493/2493 [==============================] - 3s 1ms/step - loss: 0.0168 - accuracy: 0.9929 - precision: 0.9893 - recall: 0.9893 - val_loss: 0.0208 - val_accuracy: 0.9913 - val_precision: 0.9870 - val_recall: 0.9870\n",
      "Epoch 17/100\n",
      "2493/2493 [==============================] - 3s 1ms/step - loss: 0.0155 - accuracy: 0.9934 - precision: 0.9901 - recall: 0.9901 - val_loss: 0.0106 - val_accuracy: 0.9957 - val_precision: 0.9935 - val_recall: 0.9935\n",
      "Epoch 18/100\n",
      "2493/2493 [==============================] - 3s 1ms/step - loss: 0.0154 - accuracy: 0.9934 - precision: 0.9901 - recall: 0.9901 - val_loss: 0.0210 - val_accuracy: 0.9913 - val_precision: 0.9870 - val_recall: 0.9870\n",
      "Epoch 19/100\n",
      "2493/2493 [==============================] - 3s 1ms/step - loss: 0.0154 - accuracy: 0.9935 - precision: 0.9903 - recall: 0.9903 - val_loss: 0.0145 - val_accuracy: 0.9936 - val_precision: 0.9905 - val_recall: 0.9905\n",
      "Epoch 20/100\n",
      "2493/2493 [==============================] - 3s 1ms/step - loss: 0.0153 - accuracy: 0.9933 - precision: 0.9900 - recall: 0.9900 - val_loss: 0.0134 - val_accuracy: 0.9945 - val_precision: 0.9918 - val_recall: 0.9918\n",
      "Epoch 21/100\n",
      "2493/2493 [==============================] - 3s 1ms/step - loss: 0.0152 - accuracy: 0.9937 - precision: 0.9906 - recall: 0.9906 - val_loss: 0.0135 - val_accuracy: 0.9938 - val_precision: 0.9907 - val_recall: 0.9907\n",
      "Epoch 22/100\n",
      "2493/2493 [==============================] - 3s 1ms/step - loss: 0.0157 - accuracy: 0.9934 - precision: 0.9901 - recall: 0.9901 - val_loss: 0.0171 - val_accuracy: 0.9926 - val_precision: 0.9889 - val_recall: 0.9889\n",
      "Epoch 23/100\n",
      "2493/2493 [==============================] - 3s 1ms/step - loss: 0.0150 - accuracy: 0.9936 - precision: 0.9904 - recall: 0.9904 - val_loss: 0.0105 - val_accuracy: 0.9956 - val_precision: 0.9934 - val_recall: 0.9934\n",
      "Epoch 24/100\n",
      "2493/2493 [==============================] - 3s 1ms/step - loss: 0.0150 - accuracy: 0.9937 - precision: 0.9905 - recall: 0.9905 - val_loss: 0.0093 - val_accuracy: 0.9963 - val_precision: 0.9944 - val_recall: 0.9944\n",
      "Epoch 25/100\n",
      "2493/2493 [==============================] - 3s 1ms/step - loss: 0.0143 - accuracy: 0.9939 - precision: 0.9909 - recall: 0.9909 - val_loss: 0.0197 - val_accuracy: 0.9920 - val_precision: 0.9880 - val_recall: 0.9880\n",
      "Epoch 26/100\n",
      "2493/2493 [==============================] - 3s 1ms/step - loss: 0.0145 - accuracy: 0.9939 - precision: 0.9908 - recall: 0.9908 - val_loss: 0.0103 - val_accuracy: 0.9952 - val_precision: 0.9928 - val_recall: 0.9928\n",
      "Epoch 27/100\n",
      "2493/2493 [==============================] - 3s 1ms/step - loss: 0.0136 - accuracy: 0.9942 - precision: 0.9913 - recall: 0.9913 - val_loss: 0.0195 - val_accuracy: 0.9919 - val_precision: 0.9879 - val_recall: 0.9879\n",
      "Epoch 28/100\n",
      "2493/2493 [==============================] - 3s 1ms/step - loss: 0.0145 - accuracy: 0.9938 - precision: 0.9907 - recall: 0.9907 - val_loss: 0.0097 - val_accuracy: 0.9956 - val_precision: 0.9934 - val_recall: 0.9934\n",
      "Epoch 29/100\n",
      "2493/2493 [==============================] - 3s 1ms/step - loss: 0.0131 - accuracy: 0.9946 - precision: 0.9919 - recall: 0.9919 - val_loss: 0.0110 - val_accuracy: 0.9951 - val_precision: 0.9927 - val_recall: 0.9927\n",
      "Epoch 30/100\n",
      "2493/2493 [==============================] - 3s 1ms/step - loss: 0.0139 - accuracy: 0.9942 - precision: 0.9912 - recall: 0.9912 - val_loss: 0.0110 - val_accuracy: 0.9951 - val_precision: 0.9927 - val_recall: 0.9927\n",
      "Epoch 31/100\n",
      "2493/2493 [==============================] - 3s 1ms/step - loss: 0.0135 - accuracy: 0.9946 - precision: 0.9918 - recall: 0.9918 - val_loss: 0.0123 - val_accuracy: 0.9947 - val_precision: 0.9920 - val_recall: 0.9920\n",
      "Epoch 32/100\n",
      "2493/2493 [==============================] - 3s 1ms/step - loss: 0.0135 - accuracy: 0.9942 - precision: 0.9913 - recall: 0.9913 - val_loss: 0.0476 - val_accuracy: 0.9861 - val_precision: 0.9791 - val_recall: 0.9791\n",
      "Epoch 33/100\n",
      "2493/2493 [==============================] - 3s 1ms/step - loss: 0.0139 - accuracy: 0.9939 - precision: 0.9909 - recall: 0.9909 - val_loss: 0.0223 - val_accuracy: 0.9910 - val_precision: 0.9866 - val_recall: 0.9866\n",
      "Epoch 34/100\n",
      "2493/2493 [==============================] - 3s 1ms/step - loss: 0.0134 - accuracy: 0.9946 - precision: 0.9919 - recall: 0.9919 - val_loss: 0.0094 - val_accuracy: 0.9963 - val_precision: 0.9944 - val_recall: 0.9944\n",
      "Epoch 35/100\n",
      "2493/2493 [==============================] - 3s 1ms/step - loss: 0.0136 - accuracy: 0.9943 - precision: 0.9914 - recall: 0.9914 - val_loss: 0.0125 - val_accuracy: 0.9941 - val_precision: 0.9912 - val_recall: 0.9912\n",
      "Epoch 36/100\n",
      "2493/2493 [==============================] - 3s 1ms/step - loss: 0.0128 - accuracy: 0.9945 - precision: 0.9917 - recall: 0.9917 - val_loss: 0.0081 - val_accuracy: 0.9967 - val_precision: 0.9951 - val_recall: 0.9951\n",
      "Epoch 37/100\n",
      " 867/2493 [=========>....................] - ETA: 1s - loss: 0.0126 - accuracy: 0.9946 - precision: 0.9919 - recall: 0.9919"
     ]
    },
    {
     "ename": "KeyboardInterrupt",
     "evalue": "",
     "output_type": "error",
     "traceback": [
      "\u001B[0;31m---------------------------------------------------------------------------\u001B[0m",
      "\u001B[0;31mKeyboardInterrupt\u001B[0m                         Traceback (most recent call last)",
      "Input \u001B[0;32mIn [112]\u001B[0m, in \u001B[0;36m<cell line: 15>\u001B[0;34m()\u001B[0m\n\u001B[1;32m      3\u001B[0m model \u001B[38;5;241m=\u001B[39m Sequential([layers\u001B[38;5;241m.\u001B[39mInput((n)),\n\u001B[1;32m      4\u001B[0m                     layers\u001B[38;5;241m.\u001B[39mDense(\u001B[38;5;241m32\u001B[39m, activation\u001B[38;5;241m=\u001B[39m\u001B[38;5;124m'\u001B[39m\u001B[38;5;124mrelu\u001B[39m\u001B[38;5;124m'\u001B[39m),\n\u001B[1;32m      5\u001B[0m                     layers\u001B[38;5;241m.\u001B[39mDense(\u001B[38;5;241m32\u001B[39m, activation\u001B[38;5;241m=\u001B[39m\u001B[38;5;124m'\u001B[39m\u001B[38;5;124mrelu\u001B[39m\u001B[38;5;124m'\u001B[39m),\n\u001B[1;32m      6\u001B[0m                     layers\u001B[38;5;241m.\u001B[39mDense(\u001B[38;5;241m3\u001B[39m, activation\u001B[38;5;241m=\u001B[39mtf\u001B[38;5;241m.\u001B[39mnn\u001B[38;5;241m.\u001B[39msoftmax)])\n\u001B[1;32m      8\u001B[0m model\u001B[38;5;241m.\u001B[39mcompile(loss\u001B[38;5;241m=\u001B[39mtf\u001B[38;5;241m.\u001B[39mkeras\u001B[38;5;241m.\u001B[39mlosses\u001B[38;5;241m.\u001B[39mbinary_crossentropy,\n\u001B[1;32m      9\u001B[0m               optimizer\u001B[38;5;241m=\u001B[39mAdam(learning_rate\u001B[38;5;241m=\u001B[39m\u001B[38;5;241m0.001\u001B[39m),\n\u001B[1;32m     10\u001B[0m               metrics\u001B[38;5;241m=\u001B[39m[\n\u001B[1;32m     11\u001B[0m         tf\u001B[38;5;241m.\u001B[39mkeras\u001B[38;5;241m.\u001B[39mmetrics\u001B[38;5;241m.\u001B[39mBinaryAccuracy(name\u001B[38;5;241m=\u001B[39m\u001B[38;5;124m'\u001B[39m\u001B[38;5;124maccuracy\u001B[39m\u001B[38;5;124m'\u001B[39m),\n\u001B[1;32m     12\u001B[0m         tf\u001B[38;5;241m.\u001B[39mkeras\u001B[38;5;241m.\u001B[39mmetrics\u001B[38;5;241m.\u001B[39mPrecision(name\u001B[38;5;241m=\u001B[39m\u001B[38;5;124m'\u001B[39m\u001B[38;5;124mprecision\u001B[39m\u001B[38;5;124m'\u001B[39m),\n\u001B[1;32m     13\u001B[0m         tf\u001B[38;5;241m.\u001B[39mkeras\u001B[38;5;241m.\u001B[39mmetrics\u001B[38;5;241m.\u001B[39mRecall(name\u001B[38;5;241m=\u001B[39m\u001B[38;5;124m'\u001B[39m\u001B[38;5;124mrecall\u001B[39m\u001B[38;5;124m'\u001B[39m)])\n\u001B[0;32m---> 15\u001B[0m \u001B[43mmodel\u001B[49m\u001B[38;5;241;43m.\u001B[39;49m\u001B[43mfit\u001B[49m\u001B[43m(\u001B[49m\u001B[43mX_train\u001B[49m\u001B[43m,\u001B[49m\u001B[43m \u001B[49m\u001B[43my_train\u001B[49m\u001B[43m,\u001B[49m\u001B[43m \u001B[49m\u001B[43mvalidation_data\u001B[49m\u001B[38;5;241;43m=\u001B[39;49m\u001B[43m(\u001B[49m\u001B[43mX_val\u001B[49m\u001B[43m,\u001B[49m\u001B[43m \u001B[49m\u001B[43my_val\u001B[49m\u001B[43m)\u001B[49m\u001B[43m,\u001B[49m\u001B[43m \u001B[49m\u001B[43mepochs\u001B[49m\u001B[38;5;241;43m=\u001B[39;49m\u001B[38;5;241;43m100\u001B[39;49m\u001B[43m)\u001B[49m\n",
      "File \u001B[0;32m~/miniconda3/envs/tf/lib/python3.9/site-packages/keras/utils/traceback_utils.py:65\u001B[0m, in \u001B[0;36mfilter_traceback.<locals>.error_handler\u001B[0;34m(*args, **kwargs)\u001B[0m\n\u001B[1;32m     63\u001B[0m filtered_tb \u001B[38;5;241m=\u001B[39m \u001B[38;5;28;01mNone\u001B[39;00m\n\u001B[1;32m     64\u001B[0m \u001B[38;5;28;01mtry\u001B[39;00m:\n\u001B[0;32m---> 65\u001B[0m     \u001B[38;5;28;01mreturn\u001B[39;00m \u001B[43mfn\u001B[49m\u001B[43m(\u001B[49m\u001B[38;5;241;43m*\u001B[39;49m\u001B[43margs\u001B[49m\u001B[43m,\u001B[49m\u001B[43m \u001B[49m\u001B[38;5;241;43m*\u001B[39;49m\u001B[38;5;241;43m*\u001B[39;49m\u001B[43mkwargs\u001B[49m\u001B[43m)\u001B[49m\n\u001B[1;32m     66\u001B[0m \u001B[38;5;28;01mexcept\u001B[39;00m \u001B[38;5;167;01mException\u001B[39;00m \u001B[38;5;28;01mas\u001B[39;00m e:\n\u001B[1;32m     67\u001B[0m     filtered_tb \u001B[38;5;241m=\u001B[39m _process_traceback_frames(e\u001B[38;5;241m.\u001B[39m__traceback__)\n",
      "File \u001B[0;32m~/miniconda3/envs/tf/lib/python3.9/site-packages/keras/engine/training.py:1564\u001B[0m, in \u001B[0;36mModel.fit\u001B[0;34m(self, x, y, batch_size, epochs, verbose, callbacks, validation_split, validation_data, shuffle, class_weight, sample_weight, initial_epoch, steps_per_epoch, validation_steps, validation_batch_size, validation_freq, max_queue_size, workers, use_multiprocessing)\u001B[0m\n\u001B[1;32m   1556\u001B[0m \u001B[38;5;28;01mwith\u001B[39;00m tf\u001B[38;5;241m.\u001B[39mprofiler\u001B[38;5;241m.\u001B[39mexperimental\u001B[38;5;241m.\u001B[39mTrace(\n\u001B[1;32m   1557\u001B[0m     \u001B[38;5;124m\"\u001B[39m\u001B[38;5;124mtrain\u001B[39m\u001B[38;5;124m\"\u001B[39m,\n\u001B[1;32m   1558\u001B[0m     epoch_num\u001B[38;5;241m=\u001B[39mepoch,\n\u001B[0;32m   (...)\u001B[0m\n\u001B[1;32m   1561\u001B[0m     _r\u001B[38;5;241m=\u001B[39m\u001B[38;5;241m1\u001B[39m,\n\u001B[1;32m   1562\u001B[0m ):\n\u001B[1;32m   1563\u001B[0m     callbacks\u001B[38;5;241m.\u001B[39mon_train_batch_begin(step)\n\u001B[0;32m-> 1564\u001B[0m     tmp_logs \u001B[38;5;241m=\u001B[39m \u001B[38;5;28;43mself\u001B[39;49m\u001B[38;5;241;43m.\u001B[39;49m\u001B[43mtrain_function\u001B[49m\u001B[43m(\u001B[49m\u001B[43miterator\u001B[49m\u001B[43m)\u001B[49m\n\u001B[1;32m   1565\u001B[0m     \u001B[38;5;28;01mif\u001B[39;00m data_handler\u001B[38;5;241m.\u001B[39mshould_sync:\n\u001B[1;32m   1566\u001B[0m         context\u001B[38;5;241m.\u001B[39masync_wait()\n",
      "File \u001B[0;32m~/miniconda3/envs/tf/lib/python3.9/site-packages/tensorflow/python/util/traceback_utils.py:150\u001B[0m, in \u001B[0;36mfilter_traceback.<locals>.error_handler\u001B[0;34m(*args, **kwargs)\u001B[0m\n\u001B[1;32m    148\u001B[0m filtered_tb \u001B[38;5;241m=\u001B[39m \u001B[38;5;28;01mNone\u001B[39;00m\n\u001B[1;32m    149\u001B[0m \u001B[38;5;28;01mtry\u001B[39;00m:\n\u001B[0;32m--> 150\u001B[0m   \u001B[38;5;28;01mreturn\u001B[39;00m \u001B[43mfn\u001B[49m\u001B[43m(\u001B[49m\u001B[38;5;241;43m*\u001B[39;49m\u001B[43margs\u001B[49m\u001B[43m,\u001B[49m\u001B[43m \u001B[49m\u001B[38;5;241;43m*\u001B[39;49m\u001B[38;5;241;43m*\u001B[39;49m\u001B[43mkwargs\u001B[49m\u001B[43m)\u001B[49m\n\u001B[1;32m    151\u001B[0m \u001B[38;5;28;01mexcept\u001B[39;00m \u001B[38;5;167;01mException\u001B[39;00m \u001B[38;5;28;01mas\u001B[39;00m e:\n\u001B[1;32m    152\u001B[0m   filtered_tb \u001B[38;5;241m=\u001B[39m _process_traceback_frames(e\u001B[38;5;241m.\u001B[39m__traceback__)\n",
      "File \u001B[0;32m~/miniconda3/envs/tf/lib/python3.9/site-packages/tensorflow/python/eager/def_function.py:915\u001B[0m, in \u001B[0;36mFunction.__call__\u001B[0;34m(self, *args, **kwds)\u001B[0m\n\u001B[1;32m    912\u001B[0m compiler \u001B[38;5;241m=\u001B[39m \u001B[38;5;124m\"\u001B[39m\u001B[38;5;124mxla\u001B[39m\u001B[38;5;124m\"\u001B[39m \u001B[38;5;28;01mif\u001B[39;00m \u001B[38;5;28mself\u001B[39m\u001B[38;5;241m.\u001B[39m_jit_compile \u001B[38;5;28;01melse\u001B[39;00m \u001B[38;5;124m\"\u001B[39m\u001B[38;5;124mnonXla\u001B[39m\u001B[38;5;124m\"\u001B[39m\n\u001B[1;32m    914\u001B[0m \u001B[38;5;28;01mwith\u001B[39;00m OptionalXlaContext(\u001B[38;5;28mself\u001B[39m\u001B[38;5;241m.\u001B[39m_jit_compile):\n\u001B[0;32m--> 915\u001B[0m   result \u001B[38;5;241m=\u001B[39m \u001B[38;5;28;43mself\u001B[39;49m\u001B[38;5;241;43m.\u001B[39;49m\u001B[43m_call\u001B[49m\u001B[43m(\u001B[49m\u001B[38;5;241;43m*\u001B[39;49m\u001B[43margs\u001B[49m\u001B[43m,\u001B[49m\u001B[43m \u001B[49m\u001B[38;5;241;43m*\u001B[39;49m\u001B[38;5;241;43m*\u001B[39;49m\u001B[43mkwds\u001B[49m\u001B[43m)\u001B[49m\n\u001B[1;32m    917\u001B[0m new_tracing_count \u001B[38;5;241m=\u001B[39m \u001B[38;5;28mself\u001B[39m\u001B[38;5;241m.\u001B[39mexperimental_get_tracing_count()\n\u001B[1;32m    918\u001B[0m without_tracing \u001B[38;5;241m=\u001B[39m (tracing_count \u001B[38;5;241m==\u001B[39m new_tracing_count)\n",
      "File \u001B[0;32m~/miniconda3/envs/tf/lib/python3.9/site-packages/tensorflow/python/eager/def_function.py:947\u001B[0m, in \u001B[0;36mFunction._call\u001B[0;34m(self, *args, **kwds)\u001B[0m\n\u001B[1;32m    944\u001B[0m   \u001B[38;5;28mself\u001B[39m\u001B[38;5;241m.\u001B[39m_lock\u001B[38;5;241m.\u001B[39mrelease()\n\u001B[1;32m    945\u001B[0m   \u001B[38;5;66;03m# In this case we have created variables on the first call, so we run the\u001B[39;00m\n\u001B[1;32m    946\u001B[0m   \u001B[38;5;66;03m# defunned version which is guaranteed to never create variables.\u001B[39;00m\n\u001B[0;32m--> 947\u001B[0m   \u001B[38;5;28;01mreturn\u001B[39;00m \u001B[38;5;28;43mself\u001B[39;49m\u001B[38;5;241;43m.\u001B[39;49m\u001B[43m_stateless_fn\u001B[49m\u001B[43m(\u001B[49m\u001B[38;5;241;43m*\u001B[39;49m\u001B[43margs\u001B[49m\u001B[43m,\u001B[49m\u001B[43m \u001B[49m\u001B[38;5;241;43m*\u001B[39;49m\u001B[38;5;241;43m*\u001B[39;49m\u001B[43mkwds\u001B[49m\u001B[43m)\u001B[49m  \u001B[38;5;66;03m# pylint: disable=not-callable\u001B[39;00m\n\u001B[1;32m    948\u001B[0m \u001B[38;5;28;01melif\u001B[39;00m \u001B[38;5;28mself\u001B[39m\u001B[38;5;241m.\u001B[39m_stateful_fn \u001B[38;5;129;01mis\u001B[39;00m \u001B[38;5;129;01mnot\u001B[39;00m \u001B[38;5;28;01mNone\u001B[39;00m:\n\u001B[1;32m    949\u001B[0m   \u001B[38;5;66;03m# Release the lock early so that multiple threads can perform the call\u001B[39;00m\n\u001B[1;32m    950\u001B[0m   \u001B[38;5;66;03m# in parallel.\u001B[39;00m\n\u001B[1;32m    951\u001B[0m   \u001B[38;5;28mself\u001B[39m\u001B[38;5;241m.\u001B[39m_lock\u001B[38;5;241m.\u001B[39mrelease()\n",
      "File \u001B[0;32m~/miniconda3/envs/tf/lib/python3.9/site-packages/tensorflow/python/eager/function.py:2496\u001B[0m, in \u001B[0;36mFunction.__call__\u001B[0;34m(self, *args, **kwargs)\u001B[0m\n\u001B[1;32m   2493\u001B[0m \u001B[38;5;28;01mwith\u001B[39;00m \u001B[38;5;28mself\u001B[39m\u001B[38;5;241m.\u001B[39m_lock:\n\u001B[1;32m   2494\u001B[0m   (graph_function,\n\u001B[1;32m   2495\u001B[0m    filtered_flat_args) \u001B[38;5;241m=\u001B[39m \u001B[38;5;28mself\u001B[39m\u001B[38;5;241m.\u001B[39m_maybe_define_function(args, kwargs)\n\u001B[0;32m-> 2496\u001B[0m \u001B[38;5;28;01mreturn\u001B[39;00m \u001B[43mgraph_function\u001B[49m\u001B[38;5;241;43m.\u001B[39;49m\u001B[43m_call_flat\u001B[49m\u001B[43m(\u001B[49m\n\u001B[1;32m   2497\u001B[0m \u001B[43m    \u001B[49m\u001B[43mfiltered_flat_args\u001B[49m\u001B[43m,\u001B[49m\u001B[43m \u001B[49m\u001B[43mcaptured_inputs\u001B[49m\u001B[38;5;241;43m=\u001B[39;49m\u001B[43mgraph_function\u001B[49m\u001B[38;5;241;43m.\u001B[39;49m\u001B[43mcaptured_inputs\u001B[49m\u001B[43m)\u001B[49m\n",
      "File \u001B[0;32m~/miniconda3/envs/tf/lib/python3.9/site-packages/tensorflow/python/eager/function.py:1862\u001B[0m, in \u001B[0;36mConcreteFunction._call_flat\u001B[0;34m(self, args, captured_inputs, cancellation_manager)\u001B[0m\n\u001B[1;32m   1858\u001B[0m possible_gradient_type \u001B[38;5;241m=\u001B[39m gradients_util\u001B[38;5;241m.\u001B[39mPossibleTapeGradientTypes(args)\n\u001B[1;32m   1859\u001B[0m \u001B[38;5;28;01mif\u001B[39;00m (possible_gradient_type \u001B[38;5;241m==\u001B[39m gradients_util\u001B[38;5;241m.\u001B[39mPOSSIBLE_GRADIENT_TYPES_NONE\n\u001B[1;32m   1860\u001B[0m     \u001B[38;5;129;01mand\u001B[39;00m executing_eagerly):\n\u001B[1;32m   1861\u001B[0m   \u001B[38;5;66;03m# No tape is watching; skip to running the function.\u001B[39;00m\n\u001B[0;32m-> 1862\u001B[0m   \u001B[38;5;28;01mreturn\u001B[39;00m \u001B[38;5;28mself\u001B[39m\u001B[38;5;241m.\u001B[39m_build_call_outputs(\u001B[38;5;28;43mself\u001B[39;49m\u001B[38;5;241;43m.\u001B[39;49m\u001B[43m_inference_function\u001B[49m\u001B[38;5;241;43m.\u001B[39;49m\u001B[43mcall\u001B[49m\u001B[43m(\u001B[49m\n\u001B[1;32m   1863\u001B[0m \u001B[43m      \u001B[49m\u001B[43mctx\u001B[49m\u001B[43m,\u001B[49m\u001B[43m \u001B[49m\u001B[43margs\u001B[49m\u001B[43m,\u001B[49m\u001B[43m \u001B[49m\u001B[43mcancellation_manager\u001B[49m\u001B[38;5;241;43m=\u001B[39;49m\u001B[43mcancellation_manager\u001B[49m\u001B[43m)\u001B[49m)\n\u001B[1;32m   1864\u001B[0m forward_backward \u001B[38;5;241m=\u001B[39m \u001B[38;5;28mself\u001B[39m\u001B[38;5;241m.\u001B[39m_select_forward_and_backward_functions(\n\u001B[1;32m   1865\u001B[0m     args,\n\u001B[1;32m   1866\u001B[0m     possible_gradient_type,\n\u001B[1;32m   1867\u001B[0m     executing_eagerly)\n\u001B[1;32m   1868\u001B[0m forward_function, args_with_tangents \u001B[38;5;241m=\u001B[39m forward_backward\u001B[38;5;241m.\u001B[39mforward()\n",
      "File \u001B[0;32m~/miniconda3/envs/tf/lib/python3.9/site-packages/tensorflow/python/eager/function.py:499\u001B[0m, in \u001B[0;36m_EagerDefinedFunction.call\u001B[0;34m(self, ctx, args, cancellation_manager)\u001B[0m\n\u001B[1;32m    497\u001B[0m \u001B[38;5;28;01mwith\u001B[39;00m _InterpolateFunctionError(\u001B[38;5;28mself\u001B[39m):\n\u001B[1;32m    498\u001B[0m   \u001B[38;5;28;01mif\u001B[39;00m cancellation_manager \u001B[38;5;129;01mis\u001B[39;00m \u001B[38;5;28;01mNone\u001B[39;00m:\n\u001B[0;32m--> 499\u001B[0m     outputs \u001B[38;5;241m=\u001B[39m \u001B[43mexecute\u001B[49m\u001B[38;5;241;43m.\u001B[39;49m\u001B[43mexecute\u001B[49m\u001B[43m(\u001B[49m\n\u001B[1;32m    500\u001B[0m \u001B[43m        \u001B[49m\u001B[38;5;28;43mstr\u001B[39;49m\u001B[43m(\u001B[49m\u001B[38;5;28;43mself\u001B[39;49m\u001B[38;5;241;43m.\u001B[39;49m\u001B[43msignature\u001B[49m\u001B[38;5;241;43m.\u001B[39;49m\u001B[43mname\u001B[49m\u001B[43m)\u001B[49m\u001B[43m,\u001B[49m\n\u001B[1;32m    501\u001B[0m \u001B[43m        \u001B[49m\u001B[43mnum_outputs\u001B[49m\u001B[38;5;241;43m=\u001B[39;49m\u001B[38;5;28;43mself\u001B[39;49m\u001B[38;5;241;43m.\u001B[39;49m\u001B[43m_num_outputs\u001B[49m\u001B[43m,\u001B[49m\n\u001B[1;32m    502\u001B[0m \u001B[43m        \u001B[49m\u001B[43minputs\u001B[49m\u001B[38;5;241;43m=\u001B[39;49m\u001B[43margs\u001B[49m\u001B[43m,\u001B[49m\n\u001B[1;32m    503\u001B[0m \u001B[43m        \u001B[49m\u001B[43mattrs\u001B[49m\u001B[38;5;241;43m=\u001B[39;49m\u001B[43mattrs\u001B[49m\u001B[43m,\u001B[49m\n\u001B[1;32m    504\u001B[0m \u001B[43m        \u001B[49m\u001B[43mctx\u001B[49m\u001B[38;5;241;43m=\u001B[39;49m\u001B[43mctx\u001B[49m\u001B[43m)\u001B[49m\n\u001B[1;32m    505\u001B[0m   \u001B[38;5;28;01melse\u001B[39;00m:\n\u001B[1;32m    506\u001B[0m     outputs \u001B[38;5;241m=\u001B[39m execute\u001B[38;5;241m.\u001B[39mexecute_with_cancellation(\n\u001B[1;32m    507\u001B[0m         \u001B[38;5;28mstr\u001B[39m(\u001B[38;5;28mself\u001B[39m\u001B[38;5;241m.\u001B[39msignature\u001B[38;5;241m.\u001B[39mname),\n\u001B[1;32m    508\u001B[0m         num_outputs\u001B[38;5;241m=\u001B[39m\u001B[38;5;28mself\u001B[39m\u001B[38;5;241m.\u001B[39m_num_outputs,\n\u001B[0;32m   (...)\u001B[0m\n\u001B[1;32m    511\u001B[0m         ctx\u001B[38;5;241m=\u001B[39mctx,\n\u001B[1;32m    512\u001B[0m         cancellation_manager\u001B[38;5;241m=\u001B[39mcancellation_manager)\n",
      "File \u001B[0;32m~/miniconda3/envs/tf/lib/python3.9/site-packages/tensorflow/python/eager/execute.py:54\u001B[0m, in \u001B[0;36mquick_execute\u001B[0;34m(op_name, num_outputs, inputs, attrs, ctx, name)\u001B[0m\n\u001B[1;32m     52\u001B[0m \u001B[38;5;28;01mtry\u001B[39;00m:\n\u001B[1;32m     53\u001B[0m   ctx\u001B[38;5;241m.\u001B[39mensure_initialized()\n\u001B[0;32m---> 54\u001B[0m   tensors \u001B[38;5;241m=\u001B[39m \u001B[43mpywrap_tfe\u001B[49m\u001B[38;5;241;43m.\u001B[39;49m\u001B[43mTFE_Py_Execute\u001B[49m\u001B[43m(\u001B[49m\u001B[43mctx\u001B[49m\u001B[38;5;241;43m.\u001B[39;49m\u001B[43m_handle\u001B[49m\u001B[43m,\u001B[49m\u001B[43m \u001B[49m\u001B[43mdevice_name\u001B[49m\u001B[43m,\u001B[49m\u001B[43m \u001B[49m\u001B[43mop_name\u001B[49m\u001B[43m,\u001B[49m\n\u001B[1;32m     55\u001B[0m \u001B[43m                                      \u001B[49m\u001B[43minputs\u001B[49m\u001B[43m,\u001B[49m\u001B[43m \u001B[49m\u001B[43mattrs\u001B[49m\u001B[43m,\u001B[49m\u001B[43m \u001B[49m\u001B[43mnum_outputs\u001B[49m\u001B[43m)\u001B[49m\n\u001B[1;32m     56\u001B[0m \u001B[38;5;28;01mexcept\u001B[39;00m core\u001B[38;5;241m.\u001B[39m_NotOkStatusException \u001B[38;5;28;01mas\u001B[39;00m e:\n\u001B[1;32m     57\u001B[0m   \u001B[38;5;28;01mif\u001B[39;00m name \u001B[38;5;129;01mis\u001B[39;00m \u001B[38;5;129;01mnot\u001B[39;00m \u001B[38;5;28;01mNone\u001B[39;00m:\n",
      "\u001B[0;31mKeyboardInterrupt\u001B[0m: "
     ]
    }
   ],
   "source": [
    "n = len(feature_list)\n",
    "print(tf.test.gpu_device_name())\n",
    "model = Sequential([layers.Input((n)),\n",
    "                    layers.Dense(32, activation='relu'),\n",
    "                    layers.Dense(32, activation='relu'),\n",
    "                    layers.Dense(3, activation=tf.nn.softmax)])\n",
    "\n",
    "model.compile(loss=tf.keras.losses.binary_crossentropy,\n",
    "              optimizer=Adam(learning_rate=0.001),\n",
    "              metrics=[\n",
    "        tf.keras.metrics.BinaryAccuracy(name='accuracy'),\n",
    "        tf.keras.metrics.Precision(name='precision'),\n",
    "        tf.keras.metrics.Recall(name='recall')])\n",
    "\n",
    "model.fit(X_train, y_train, validation_data=(X_val, y_val), epochs=100)"
   ],
   "metadata": {
    "collapsed": false
   }
  },
  {
   "cell_type": "code",
   "execution_count": 113,
   "outputs": [
    {
     "name": "stdout",
     "output_type": "stream",
     "text": [
      "312/312 [==============================] - 0s 572us/step\n"
     ]
    }
   ],
   "source": [
    "y_pred = model.predict(X_test)"
   ],
   "metadata": {
    "collapsed": false
   }
  },
  {
   "cell_type": "code",
   "execution_count": 114,
   "outputs": [
    {
     "data": {
      "text/plain": "9970"
     },
     "execution_count": 114,
     "metadata": {},
     "output_type": "execute_result"
    }
   ],
   "source": [
    "len(y_pred)"
   ],
   "metadata": {
    "collapsed": false
   }
  },
  {
   "cell_type": "code",
   "execution_count": 115,
   "outputs": [
    {
     "ename": "AttributeError",
     "evalue": "'numpy.ndarray' object has no attribute 'values'",
     "output_type": "error",
     "traceback": [
      "\u001B[0;31m---------------------------------------------------------------------------\u001B[0m",
      "\u001B[0;31mAttributeError\u001B[0m                            Traceback (most recent call last)",
      "Input \u001B[0;32mIn [115]\u001B[0m, in \u001B[0;36m<cell line: 1>\u001B[0;34m()\u001B[0m\n\u001B[0;32m----> 1\u001B[0m \u001B[43my_test\u001B[49m\u001B[38;5;241;43m.\u001B[39;49m\u001B[43mvalues\u001B[49m[\u001B[38;5;241m1\u001B[39m]\n",
      "\u001B[0;31mAttributeError\u001B[0m: 'numpy.ndarray' object has no attribute 'values'"
     ]
    }
   ],
   "source": [
    "y_test.values[1]"
   ],
   "metadata": {
    "collapsed": false
   }
  },
  {
   "cell_type": "code",
   "execution_count": 125,
   "outputs": [],
   "source": [
    "y_pred = np.round(y_pred)"
   ],
   "metadata": {
    "collapsed": false
   }
  },
  {
   "cell_type": "code",
   "execution_count": 128,
   "outputs": [
    {
     "data": {
      "text/plain": "array([[0., 1., 0.],\n       [0., 1., 0.],\n       [0., 1., 0.],\n       ...,\n       [0., 1., 0.],\n       [0., 1., 0.],\n       [0., 1., 0.]], dtype=float32)"
     },
     "execution_count": 128,
     "metadata": {},
     "output_type": "execute_result"
    }
   ],
   "source": [
    "y_pred"
   ],
   "metadata": {
    "collapsed": false
   }
  },
  {
   "cell_type": "code",
   "execution_count": 131,
   "outputs": [
    {
     "name": "stdout",
     "output_type": "stream",
     "text": [
      "*****buy******\n",
      "cr/pred 0.9958677685950413\n",
      "cr/test 0.9582504970178927\n",
      "*****sell******\n",
      "cr/pred 0.960644007155635\n",
      "cr/test 0.9658273381294964\n"
     ]
    }
   ],
   "source": [
    "num_correct_buy = 0\n",
    "num_pred_buy = 0\n",
    "num_test_buy = 0\n",
    "for i in range(len(y_pred)):\n",
    "    if y_pred[i][2] == 1 and y_test[i][2] == 1:\n",
    "        num_correct_buy+=1\n",
    "    if y_pred[i][2] == 1:\n",
    "        num_pred_buy+=1\n",
    "    if  y_test[i][2] == 1:\n",
    "        num_test_buy+=1\n",
    "print(\"*****buy******\")\n",
    "print(\"cr/pred\",num_correct_buy/num_pred_buy)\n",
    "print(\"cr/test\",num_correct_buy/num_test_buy)\n",
    "\n",
    "num_correct_sell = 0\n",
    "num_pred_sell = 0\n",
    "num_test_sell = 0\n",
    "for i in range(len(y_pred)):\n",
    "    if y_pred[i][0] == 1 and y_test[i][0] == 1:\n",
    "        num_correct_sell+=1\n",
    "    if y_pred[i][0] == 1:\n",
    "        num_pred_sell+=1\n",
    "    if  y_test[i][0] == 1:\n",
    "        num_test_sell+=1\n",
    "print(\"*****sell******\")\n",
    "print(\"cr/pred\",num_correct_sell/num_pred_sell)\n",
    "print(\"cr/test\",num_correct_sell/num_test_sell)"
   ],
   "metadata": {
    "collapsed": false
   }
  },
  {
   "cell_type": "code",
   "execution_count": null,
   "outputs": [],
   "source": [],
   "metadata": {
    "collapsed": false
   }
  }
 ],
 "metadata": {
  "kernelspec": {
   "display_name": "Python 3",
   "language": "python",
   "name": "python3"
  },
  "language_info": {
   "codemirror_mode": {
    "name": "ipython",
    "version": 2
   },
   "file_extension": ".py",
   "mimetype": "text/x-python",
   "name": "python",
   "nbconvert_exporter": "python",
   "pygments_lexer": "ipython2",
   "version": "2.7.6"
  }
 },
 "nbformat": 4,
 "nbformat_minor": 0
}
