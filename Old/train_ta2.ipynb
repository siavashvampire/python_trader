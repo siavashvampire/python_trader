{
 "cells": [
  {
   "cell_type": "code",
   "execution_count": 1,
   "metadata": {
    "collapsed": true,
    "ExecuteTime": {
     "end_time": "2023-05-19T16:40:22.166378300Z",
     "start_time": "2023-05-19T16:39:55.687186Z"
    }
   },
   "outputs": [
    {
     "ename": "ModuleNotFoundError",
     "evalue": "No module named 'tensorflow'",
     "output_type": "error",
     "traceback": [
      "\u001B[1;31m---------------------------------------------------------------------------\u001B[0m",
      "\u001B[1;31mModuleNotFoundError\u001B[0m                       Traceback (most recent call last)",
      "Input \u001B[1;32mIn [1]\u001B[0m, in \u001B[0;36m<cell line: 2>\u001B[1;34m()\u001B[0m\n\u001B[0;32m      1\u001B[0m \u001B[38;5;28;01mimport\u001B[39;00m \u001B[38;5;21;01mpandas\u001B[39;00m \u001B[38;5;28;01mas\u001B[39;00m \u001B[38;5;21;01mpd\u001B[39;00m\n\u001B[1;32m----> 2\u001B[0m \u001B[38;5;28;01mfrom\u001B[39;00m \u001B[38;5;21;01mtensorflow\u001B[39;00m\u001B[38;5;21;01m.\u001B[39;00m\u001B[38;5;21;01mkeras\u001B[39;00m\u001B[38;5;21;01m.\u001B[39;00m\u001B[38;5;21;01mmodels\u001B[39;00m \u001B[38;5;28;01mimport\u001B[39;00m Sequential\n\u001B[0;32m      3\u001B[0m \u001B[38;5;28;01mfrom\u001B[39;00m \u001B[38;5;21;01mtensorflow\u001B[39;00m\u001B[38;5;21;01m.\u001B[39;00m\u001B[38;5;21;01mkeras\u001B[39;00m\u001B[38;5;21;01m.\u001B[39;00m\u001B[38;5;21;01moptimizers\u001B[39;00m \u001B[38;5;28;01mimport\u001B[39;00m Adam\n\u001B[0;32m      4\u001B[0m \u001B[38;5;28;01mfrom\u001B[39;00m \u001B[38;5;21;01mtensorflow\u001B[39;00m\u001B[38;5;21;01m.\u001B[39;00m\u001B[38;5;21;01mkeras\u001B[39;00m \u001B[38;5;28;01mimport\u001B[39;00m layers\n",
      "\u001B[1;31mModuleNotFoundError\u001B[0m: No module named 'tensorflow'"
     ]
    }
   ],
   "source": [
    "import pandas as pd\n",
    "from tensorflow.keras.models import Sequential\n",
    "from tensorflow.keras.optimizers import Adam\n",
    "from tensorflow.keras import layers\n",
    "import tensorflow as tf\n"
   ]
  },
  {
   "cell_type": "markdown",
   "source": [],
   "metadata": {
    "collapsed": false
   }
  },
  {
   "cell_type": "code",
   "execution_count": 2,
   "outputs": [
    {
     "name": "stdout",
     "output_type": "stream",
     "text": [
      "\n"
     ]
    }
   ],
   "source": [
    "print(tf.test.gpu_device_name())"
   ],
   "metadata": {
    "collapsed": false,
    "ExecuteTime": {
     "end_time": "2023-05-19T16:40:22.395740900Z",
     "start_time": "2023-05-19T16:40:22.165382800Z"
    }
   }
  },
  {
   "cell_type": "code",
   "execution_count": 3,
   "outputs": [],
   "source": [
    "df = pd.read_csv('test_df.csv')\n",
    "df = df[300:]"
   ],
   "metadata": {
    "collapsed": false,
    "ExecuteTime": {
     "end_time": "2023-05-19T16:40:25.338293700Z",
     "start_time": "2023-05-19T16:40:22.397736300Z"
    }
   }
  },
  {
   "cell_type": "code",
   "execution_count": 4,
   "outputs": [],
   "source": [
    "df = df.reset_index(drop=True)"
   ],
   "metadata": {
    "collapsed": false,
    "ExecuteTime": {
     "end_time": "2023-05-19T16:40:25.388191100Z",
     "start_time": "2023-05-19T16:40:25.340289Z"
    }
   }
  },
  {
   "cell_type": "code",
   "execution_count": 5,
   "outputs": [],
   "source": [
    "df[\"Percent_Change_5\"] = 0\n",
    "df[\"Percent_Change_3\"] = 0\n",
    "df[\"Percent_Change_10\"] = 0\n"
   ],
   "metadata": {
    "collapsed": false,
    "ExecuteTime": {
     "end_time": "2023-05-19T16:40:25.435443300Z",
     "start_time": "2023-05-19T16:40:25.388191100Z"
    }
   }
  },
  {
   "cell_type": "code",
   "execution_count": 6,
   "outputs": [
    {
     "name": "stderr",
     "output_type": "stream",
     "text": [
      "C:\\Users\\siavash\\AppData\\Local\\Temp\\ipykernel_10456\\3715435574.py:2: SettingWithCopyWarning: \n",
      "A value is trying to be set on a copy of a slice from a DataFrame\n",
      "\n",
      "See the caveats in the documentation: https://pandas.pydata.org/pandas-docs/stable/user_guide/indexing.html#returning-a-view-versus-a-copy\n",
      "  df[\"Percent_Change_5\"][i] = ((df[\"Close\"][i + 5] - df[\"Close\"][i]) / df[\"Close\"][i]) * 100\n",
      "C:\\Users\\siavash\\AppData\\Local\\Temp\\ipykernel_10456\\3715435574.py:3: SettingWithCopyWarning: \n",
      "A value is trying to be set on a copy of a slice from a DataFrame\n",
      "\n",
      "See the caveats in the documentation: https://pandas.pydata.org/pandas-docs/stable/user_guide/indexing.html#returning-a-view-versus-a-copy\n",
      "  df[\"Percent_Change_3\"][i] = ((df[\"Close\"][i + 3] - df[\"Close\"][i]) / df[\"Close\"][i]) * 100\n",
      "C:\\Users\\siavash\\AppData\\Local\\Temp\\ipykernel_10456\\3715435574.py:4: SettingWithCopyWarning: \n",
      "A value is trying to be set on a copy of a slice from a DataFrame\n",
      "\n",
      "See the caveats in the documentation: https://pandas.pydata.org/pandas-docs/stable/user_guide/indexing.html#returning-a-view-versus-a-copy\n",
      "  df[\"Percent_Change_10\"][i] = ((df[\"Close\"][i + 10] - df[\"Close\"][i]) / df[\"Close\"][i]) * 100\n",
      "C:\\Users\\siavash\\AppData\\Local\\Temp\\ipykernel_10456\\3715435574.py:4: SettingWithCopyWarning: \n",
      "A value is trying to be set on a copy of a slice from a DataFrame\n",
      "\n",
      "See the caveats in the documentation: https://pandas.pydata.org/pandas-docs/stable/user_guide/indexing.html#returning-a-view-versus-a-copy\n",
      "  df[\"Percent_Change_10\"][i] = ((df[\"Close\"][i + 10] - df[\"Close\"][i]) / df[\"Close\"][i]) * 100\n"
     ]
    }
   ],
   "source": [
    "for i in list(df.index.values)[:-10]:\n",
    "    df[\"Percent_Change_5\"][i] = ((df[\"Close\"][i + 5] - df[\"Close\"][i]) / df[\"Close\"][i]) * 100\n",
    "    df[\"Percent_Change_3\"][i] = ((df[\"Close\"][i + 3] - df[\"Close\"][i]) / df[\"Close\"][i]) * 100\n",
    "    df[\"Percent_Change_10\"][i] = ((df[\"Close\"][i + 10] - df[\"Close\"][i]) / df[\"Close\"][i]) * 100"
   ],
   "metadata": {
    "collapsed": false,
    "ExecuteTime": {
     "end_time": "2023-05-19T16:40:33.120138100Z",
     "start_time": "2023-05-19T16:40:25.438436100Z"
    }
   }
  },
  {
   "cell_type": "code",
   "execution_count": 22,
   "outputs": [
    {
     "name": "stdout",
     "output_type": "stream",
     "text": [
      "3818\n",
      "4039\n"
     ]
    }
   ],
   "source": [
    "print(len(df[df[\"Percent_Change_5\"] > 0.04]))\n",
    "print(len(df[df[\"Percent_Change_5\"] < -0.04]))"
   ],
   "metadata": {
    "collapsed": false,
    "ExecuteTime": {
     "end_time": "2023-05-19T16:58:54.806007900Z",
     "start_time": "2023-05-19T16:58:54.770106800Z"
    }
   }
  },
  {
   "cell_type": "code",
   "execution_count": 8,
   "outputs": [
    {
     "name": "stderr",
     "output_type": "stream",
     "text": [
      "IOPub data rate exceeded.\n",
      "The notebook server will temporarily stop sending output\n",
      "to the client in order to avoid crashing it.\n",
      "To change this limit, set the config variable\n",
      "`--NotebookApp.iopub_data_rate_limit`.\n",
      "\n",
      "Current values:\n",
      "NotebookApp.iopub_data_rate_limit=1000000.0 (bytes/sec)\n",
      "NotebookApp.rate_limit_window=3.0 (secs)\n",
      "\n"
     ]
    }
   ],
   "source": [
    "from pandas import DataFrame\n",
    "\n",
    "\n",
    "def winning_policy_1(df_in: DataFrame) -> DataFrame:\n",
    "    df_in[\"signal1\"] = 0\n",
    "    for i in list(df_in.index.values):\n",
    "        if df_in[\"Percent_Change_5\"][i] > 0.04:\n",
    "            df_in[\"signal1\"][i] = 1\n",
    "        elif df_in[\"Percent_Change_5\"][i] < -0.04:\n",
    "            df_in[\"signal1\"][i] = -1\n",
    "\n",
    "    return df_in\n",
    "\n",
    "\n",
    "df = winning_policy_1(df)"
   ],
   "metadata": {
    "collapsed": false,
    "ExecuteTime": {
     "end_time": "2023-05-19T16:40:37.662888700Z",
     "start_time": "2023-05-19T16:40:33.184237600Z"
    }
   }
  },
  {
   "cell_type": "code",
   "execution_count": 9,
   "outputs": [
    {
     "data": {
      "text/plain": "             Date      Time     Open     High      Low    Close  Volume   \n0      2023.01.26  00:17:00  1.09140  1.09143  1.09139  1.09142       9  \\\n1      2023.01.26  00:18:00  1.09141  1.09142  1.09139  1.09139       4   \n2      2023.01.26  00:19:00  1.09138  1.09141  1.09138  1.09141       4   \n3      2023.01.26  00:20:00  1.09140  1.09141  1.09139  1.09139       3   \n4      2023.01.26  00:21:00  1.09139  1.09141  1.09139  1.09140       3   \n...           ...       ...      ...      ...      ...      ...     ...   \n99695  2023.05.03  15:00:00  1.10396  1.10414  1.10394  1.10398     111   \n99696  2023.05.03  15:01:00  1.10400  1.10417  1.10387  1.10415     109   \n99697  2023.05.03  15:02:00  1.10415  1.10418  1.10388  1.10389     100   \n99698  2023.05.03  15:03:00  1.10389  1.10395  1.10380  1.10387      63   \n99699  2023.05.03  15:04:00  1.10387  1.10389  1.10381  1.10381      50   \n\n       bbands  buy_bbands_diff  sell_bbands_diff  ...  EMA_50_sig  SMA_50_sig   \n0         0.0         0.000325         -0.000240  ...        SELL        SELL  \\\n1         0.0         0.000346         -0.000214  ...        SELL        SELL   \n2         0.0         0.000315         -0.000235  ...        SELL        SELL   \n3         0.0         0.000321         -0.000217  ...        SELL        SELL   \n4         0.0         0.000296         -0.000226  ...        SELL        SELL   \n...       ...              ...               ...  ...         ...         ...   \n99695     0.0         0.000245         -0.000630  ...         BUY         BUY   \n99696     0.0         0.000098         -0.000809  ...         BUY         BUY   \n99697     0.0         0.000363         -0.000547  ...         BUY         BUY   \n99698     0.0         0.000386         -0.000524  ...         BUY         BUY   \n99699     0.0         0.000448         -0.000460  ...         BUY         BUY   \n\n       EMA_100_sig  SMA_100_sig  EMA_200_sig  SMA_200_sig  Percent_Change_5   \n0              BUY          BUY          BUY          BUY         -0.002749  \\\n1             SELL         SELL          BUY          BUY          0.000916   \n2              BUY         SELL          BUY          BUY         -0.000916   \n3             SELL         SELL          BUY          BUY          0.000916   \n4              BUY         SELL          BUY          BUY         -0.000916   \n...            ...          ...          ...          ...               ...   \n99695          BUY          BUY          BUY          BUY          0.000000   \n99696          BUY          BUY          BUY          BUY          0.000000   \n99697          BUY          BUY          BUY          BUY          0.000000   \n99698          BUY          BUY          BUY          BUY          0.000000   \n99699          BUY          BUY          BUY         SELL          0.000000   \n\n       Percent_Change_3  Percent_Change_10  signal1  \n0             -0.002749           0.000000        0  \n1              0.000916           0.004581        0  \n2             -0.001832           0.001832        0  \n3              0.000916          -0.001833        0  \n4              0.000000           0.008246        0  \n...                 ...                ...      ...  \n99695          0.000000           0.000000        0  \n99696          0.000000           0.000000        0  \n99697          0.000000           0.000000        0  \n99698          0.000000           0.000000        0  \n99699          0.000000           0.000000        0  \n\n[99700 rows x 78 columns]",
      "text/html": "<div>\n<style scoped>\n    .dataframe tbody tr th:only-of-type {\n        vertical-align: middle;\n    }\n\n    .dataframe tbody tr th {\n        vertical-align: top;\n    }\n\n    .dataframe thead th {\n        text-align: right;\n    }\n</style>\n<table border=\"1\" class=\"dataframe\">\n  <thead>\n    <tr style=\"text-align: right;\">\n      <th></th>\n      <th>Date</th>\n      <th>Time</th>\n      <th>Open</th>\n      <th>High</th>\n      <th>Low</th>\n      <th>Close</th>\n      <th>Volume</th>\n      <th>bbands</th>\n      <th>buy_bbands_diff</th>\n      <th>sell_bbands_diff</th>\n      <th>...</th>\n      <th>EMA_50_sig</th>\n      <th>SMA_50_sig</th>\n      <th>EMA_100_sig</th>\n      <th>SMA_100_sig</th>\n      <th>EMA_200_sig</th>\n      <th>SMA_200_sig</th>\n      <th>Percent_Change_5</th>\n      <th>Percent_Change_3</th>\n      <th>Percent_Change_10</th>\n      <th>signal1</th>\n    </tr>\n  </thead>\n  <tbody>\n    <tr>\n      <th>0</th>\n      <td>2023.01.26</td>\n      <td>00:17:00</td>\n      <td>1.09140</td>\n      <td>1.09143</td>\n      <td>1.09139</td>\n      <td>1.09142</td>\n      <td>9</td>\n      <td>0.0</td>\n      <td>0.000325</td>\n      <td>-0.000240</td>\n      <td>...</td>\n      <td>SELL</td>\n      <td>SELL</td>\n      <td>BUY</td>\n      <td>BUY</td>\n      <td>BUY</td>\n      <td>BUY</td>\n      <td>-0.002749</td>\n      <td>-0.002749</td>\n      <td>0.000000</td>\n      <td>0</td>\n    </tr>\n    <tr>\n      <th>1</th>\n      <td>2023.01.26</td>\n      <td>00:18:00</td>\n      <td>1.09141</td>\n      <td>1.09142</td>\n      <td>1.09139</td>\n      <td>1.09139</td>\n      <td>4</td>\n      <td>0.0</td>\n      <td>0.000346</td>\n      <td>-0.000214</td>\n      <td>...</td>\n      <td>SELL</td>\n      <td>SELL</td>\n      <td>SELL</td>\n      <td>SELL</td>\n      <td>BUY</td>\n      <td>BUY</td>\n      <td>0.000916</td>\n      <td>0.000916</td>\n      <td>0.004581</td>\n      <td>0</td>\n    </tr>\n    <tr>\n      <th>2</th>\n      <td>2023.01.26</td>\n      <td>00:19:00</td>\n      <td>1.09138</td>\n      <td>1.09141</td>\n      <td>1.09138</td>\n      <td>1.09141</td>\n      <td>4</td>\n      <td>0.0</td>\n      <td>0.000315</td>\n      <td>-0.000235</td>\n      <td>...</td>\n      <td>SELL</td>\n      <td>SELL</td>\n      <td>BUY</td>\n      <td>SELL</td>\n      <td>BUY</td>\n      <td>BUY</td>\n      <td>-0.000916</td>\n      <td>-0.001832</td>\n      <td>0.001832</td>\n      <td>0</td>\n    </tr>\n    <tr>\n      <th>3</th>\n      <td>2023.01.26</td>\n      <td>00:20:00</td>\n      <td>1.09140</td>\n      <td>1.09141</td>\n      <td>1.09139</td>\n      <td>1.09139</td>\n      <td>3</td>\n      <td>0.0</td>\n      <td>0.000321</td>\n      <td>-0.000217</td>\n      <td>...</td>\n      <td>SELL</td>\n      <td>SELL</td>\n      <td>SELL</td>\n      <td>SELL</td>\n      <td>BUY</td>\n      <td>BUY</td>\n      <td>0.000916</td>\n      <td>0.000916</td>\n      <td>-0.001833</td>\n      <td>0</td>\n    </tr>\n    <tr>\n      <th>4</th>\n      <td>2023.01.26</td>\n      <td>00:21:00</td>\n      <td>1.09139</td>\n      <td>1.09141</td>\n      <td>1.09139</td>\n      <td>1.09140</td>\n      <td>3</td>\n      <td>0.0</td>\n      <td>0.000296</td>\n      <td>-0.000226</td>\n      <td>...</td>\n      <td>SELL</td>\n      <td>SELL</td>\n      <td>BUY</td>\n      <td>SELL</td>\n      <td>BUY</td>\n      <td>BUY</td>\n      <td>-0.000916</td>\n      <td>0.000000</td>\n      <td>0.008246</td>\n      <td>0</td>\n    </tr>\n    <tr>\n      <th>...</th>\n      <td>...</td>\n      <td>...</td>\n      <td>...</td>\n      <td>...</td>\n      <td>...</td>\n      <td>...</td>\n      <td>...</td>\n      <td>...</td>\n      <td>...</td>\n      <td>...</td>\n      <td>...</td>\n      <td>...</td>\n      <td>...</td>\n      <td>...</td>\n      <td>...</td>\n      <td>...</td>\n      <td>...</td>\n      <td>...</td>\n      <td>...</td>\n      <td>...</td>\n      <td>...</td>\n    </tr>\n    <tr>\n      <th>99695</th>\n      <td>2023.05.03</td>\n      <td>15:00:00</td>\n      <td>1.10396</td>\n      <td>1.10414</td>\n      <td>1.10394</td>\n      <td>1.10398</td>\n      <td>111</td>\n      <td>0.0</td>\n      <td>0.000245</td>\n      <td>-0.000630</td>\n      <td>...</td>\n      <td>BUY</td>\n      <td>BUY</td>\n      <td>BUY</td>\n      <td>BUY</td>\n      <td>BUY</td>\n      <td>BUY</td>\n      <td>0.000000</td>\n      <td>0.000000</td>\n      <td>0.000000</td>\n      <td>0</td>\n    </tr>\n    <tr>\n      <th>99696</th>\n      <td>2023.05.03</td>\n      <td>15:01:00</td>\n      <td>1.10400</td>\n      <td>1.10417</td>\n      <td>1.10387</td>\n      <td>1.10415</td>\n      <td>109</td>\n      <td>0.0</td>\n      <td>0.000098</td>\n      <td>-0.000809</td>\n      <td>...</td>\n      <td>BUY</td>\n      <td>BUY</td>\n      <td>BUY</td>\n      <td>BUY</td>\n      <td>BUY</td>\n      <td>BUY</td>\n      <td>0.000000</td>\n      <td>0.000000</td>\n      <td>0.000000</td>\n      <td>0</td>\n    </tr>\n    <tr>\n      <th>99697</th>\n      <td>2023.05.03</td>\n      <td>15:02:00</td>\n      <td>1.10415</td>\n      <td>1.10418</td>\n      <td>1.10388</td>\n      <td>1.10389</td>\n      <td>100</td>\n      <td>0.0</td>\n      <td>0.000363</td>\n      <td>-0.000547</td>\n      <td>...</td>\n      <td>BUY</td>\n      <td>BUY</td>\n      <td>BUY</td>\n      <td>BUY</td>\n      <td>BUY</td>\n      <td>BUY</td>\n      <td>0.000000</td>\n      <td>0.000000</td>\n      <td>0.000000</td>\n      <td>0</td>\n    </tr>\n    <tr>\n      <th>99698</th>\n      <td>2023.05.03</td>\n      <td>15:03:00</td>\n      <td>1.10389</td>\n      <td>1.10395</td>\n      <td>1.10380</td>\n      <td>1.10387</td>\n      <td>63</td>\n      <td>0.0</td>\n      <td>0.000386</td>\n      <td>-0.000524</td>\n      <td>...</td>\n      <td>BUY</td>\n      <td>BUY</td>\n      <td>BUY</td>\n      <td>BUY</td>\n      <td>BUY</td>\n      <td>BUY</td>\n      <td>0.000000</td>\n      <td>0.000000</td>\n      <td>0.000000</td>\n      <td>0</td>\n    </tr>\n    <tr>\n      <th>99699</th>\n      <td>2023.05.03</td>\n      <td>15:04:00</td>\n      <td>1.10387</td>\n      <td>1.10389</td>\n      <td>1.10381</td>\n      <td>1.10381</td>\n      <td>50</td>\n      <td>0.0</td>\n      <td>0.000448</td>\n      <td>-0.000460</td>\n      <td>...</td>\n      <td>BUY</td>\n      <td>BUY</td>\n      <td>BUY</td>\n      <td>BUY</td>\n      <td>BUY</td>\n      <td>SELL</td>\n      <td>0.000000</td>\n      <td>0.000000</td>\n      <td>0.000000</td>\n      <td>0</td>\n    </tr>\n  </tbody>\n</table>\n<p>99700 rows × 78 columns</p>\n</div>"
     },
     "execution_count": 9,
     "metadata": {},
     "output_type": "execute_result"
    }
   ],
   "source": [
    "df"
   ],
   "metadata": {
    "collapsed": false,
    "ExecuteTime": {
     "end_time": "2023-05-19T16:40:37.783566200Z",
     "start_time": "2023-05-19T16:40:37.685864300Z"
    }
   }
  },
  {
   "cell_type": "code",
   "execution_count": 10,
   "outputs": [],
   "source": [
    "df.replace({\"BUY\": 1, \"SELL\": -1, \"NEUTRAL\": 0}, inplace=True)"
   ],
   "metadata": {
    "collapsed": false,
    "ExecuteTime": {
     "end_time": "2023-05-19T16:40:38.323151500Z",
     "start_time": "2023-05-19T16:40:37.785560400Z"
    }
   }
  },
  {
   "cell_type": "code",
   "execution_count": 11,
   "outputs": [
    {
     "data": {
      "text/plain": "['Date',\n 'Time',\n 'Open',\n 'High',\n 'Low',\n 'Close',\n 'Volume',\n 'bbands',\n 'buy_bbands_diff',\n 'sell_bbands_diff',\n 'BBL_30_2.0',\n 'BBM_30_2.0',\n 'BBU_30_2.0',\n 'BBB_30_2.0',\n 'BBP_30_2.0',\n 'BBL_5_2.0',\n 'BBM_5_2.0',\n 'BBU_5_2.0',\n 'BBB_5_2.0',\n 'BBP_5_2.0',\n 'MACD_12_26_9',\n 'MACDh_12_26_9',\n 'MACDs_12_26_9',\n 'PSARl_0.02_0.2',\n 'PSARs_0.02_0.2',\n 'PSARaf_0.02_0.2',\n 'PSARr_0.02_0.2',\n 'STOCHk_14_3_3',\n 'STOCHd_14_3_3',\n 'RSI_14',\n 'ISA_9',\n 'ISB_26',\n 'ITS_9',\n 'IKS_26',\n 'ICS_26',\n 'SMA_5',\n 'SMA_10',\n 'SMA_20',\n 'SMA_30',\n 'SMA_50',\n 'SMA_100',\n 'SMA_200',\n 'EMA_5',\n 'EMA_10',\n 'EMA_20',\n 'EMA_30',\n 'EMA_50',\n 'EMA_100',\n 'EMA_200',\n 'STOCHk_20_3_3',\n 'STOCHd_20_3_3',\n 'CCI_14_0.015',\n 'AO_5_34',\n 'MOM_10',\n 'UO_7_14_28',\n 'VWMA_10',\n 'RSI_14_sig',\n 'STOCH_14_3_3_sig',\n 'CCI_14_0.015_sig',\n 'AO_5_34_sig',\n 'MOM_10_sig',\n 'MACD_12_26_9_sig',\n 'EMA_10_sig',\n 'SMA_10_sig',\n 'EMA_20_sig',\n 'SMA_20_sig',\n 'EMA_30_sig',\n 'SMA_30_sig',\n 'EMA_50_sig',\n 'SMA_50_sig',\n 'EMA_100_sig',\n 'SMA_100_sig',\n 'EMA_200_sig',\n 'SMA_200_sig',\n 'Percent_Change_5',\n 'Percent_Change_3',\n 'Percent_Change_10',\n 'signal1']"
     },
     "execution_count": 11,
     "metadata": {},
     "output_type": "execute_result"
    }
   ],
   "source": [
    "list(df.columns)"
   ],
   "metadata": {
    "collapsed": false,
    "ExecuteTime": {
     "end_time": "2023-05-19T16:40:38.334121Z",
     "start_time": "2023-05-19T16:40:38.326141700Z"
    }
   }
  },
  {
   "cell_type": "code",
   "execution_count": 12,
   "outputs": [],
   "source": [
    "feature_list = ['bbands', 'RSI_14_sig', 'STOCH_14_3_3_sig', 'CCI_14_0.015_sig', 'AO_5_34_sig', 'MOM_10_sig',\n",
    "                'MACD_12_26_9_sig', 'EMA_10_sig', 'SMA_10_sig', 'EMA_20_sig', 'SMA_20_sig', 'EMA_30_sig', 'SMA_30_sig',\n",
    "                'EMA_50_sig', 'SMA_50_sig', 'EMA_100_sig', 'SMA_100_sig', 'EMA_200_sig', 'SMA_200_sig',\n",
    "                'Percent_Change_5', 'Percent_Change_3', 'Percent_Change_10']"
   ],
   "metadata": {
    "collapsed": false,
    "ExecuteTime": {
     "end_time": "2023-05-19T16:40:38.391964100Z",
     "start_time": "2023-05-19T16:40:38.336115300Z"
    }
   }
  },
  {
   "cell_type": "code",
   "execution_count": 13,
   "outputs": [],
   "source": [
    "X = df[feature_list]\n",
    "y = df[\"signal1\"]\n",
    "#y.replace({1:\"BUY\", -1:\"SELL\", 0:\"NEUTRAL\"}, inplace=True)"
   ],
   "metadata": {
    "collapsed": false,
    "ExecuteTime": {
     "end_time": "2023-05-19T16:40:38.411911800Z",
     "start_time": "2023-05-19T16:40:38.350077400Z"
    }
   }
  },
  {
   "cell_type": "code",
   "execution_count": 14,
   "outputs": [
    {
     "name": "stderr",
     "output_type": "stream",
     "text": [
      "D:\\project\\avid mechanic\\project\\com-462-self\\python_trader\\venv\\lib\\site-packages\\sklearn\\preprocessing\\_encoders.py:868: FutureWarning: `sparse` was renamed to `sparse_output` in version 1.2 and will be removed in 1.4. `sparse_output` is ignored unless you leave `sparse` to its default value.\n",
      "  warnings.warn(\n"
     ]
    }
   ],
   "source": [
    "import numpy as np\n",
    "from sklearn.preprocessing import LabelEncoder\n",
    "from sklearn.preprocessing import OneHotEncoder\n",
    "\n",
    "# define example\n",
    "values = np.array(y)\n",
    "\n",
    "# first apply label encoding\n",
    "label_encoder = LabelEncoder()\n",
    "integer_encoded = label_encoder.fit_transform(values)\n",
    "\n",
    "# now we can apply one hot encoding\n",
    "onehot_encoder = OneHotEncoder(sparse=False)\n",
    "integer_encoded = integer_encoded.reshape(len(integer_encoded), 1)\n",
    "onehot_encoded = onehot_encoder.fit_transform(integer_encoded)\n",
    "y = onehot_encoded"
   ],
   "metadata": {
    "collapsed": false,
    "ExecuteTime": {
     "end_time": "2023-05-19T16:40:43.124262400Z",
     "start_time": "2023-05-19T16:40:38.413906400Z"
    }
   }
  },
  {
   "cell_type": "code",
   "execution_count": 15,
   "outputs": [],
   "source": [
    "q_80 = int(len(y) * .8)\n",
    "q_90 = int(len(y) * .9)\n",
    "\n",
    "X_train, y_train = X[:q_80], y[:q_80]\n",
    "\n",
    "X_val, y_val = X[q_80:q_90], y[q_80:q_90]\n",
    "X_test, y_test = X[q_90:], y[q_90:]\n"
   ],
   "metadata": {
    "collapsed": false,
    "ExecuteTime": {
     "end_time": "2023-05-19T16:40:43.140218500Z",
     "start_time": "2023-05-19T16:40:43.130247300Z"
    }
   }
  },
  {
   "cell_type": "code",
   "execution_count": 16,
   "outputs": [
    {
     "name": "stdout",
     "output_type": "stream",
     "text": [
      "\n",
      "Epoch 1/30\n",
      "2493/2493 [==============================] - 7s 2ms/step - loss: 0.2108 - accuracy: 0.9294 - precision: 0.8960 - recall: 0.8918 - val_loss: 0.0753 - val_accuracy: 0.9719 - val_precision: 0.9579 - val_recall: 0.9579\n",
      "Epoch 2/30\n",
      "2493/2493 [==============================] - 4s 2ms/step - loss: 0.0743 - accuracy: 0.9710 - precision: 0.9565 - recall: 0.9565 - val_loss: 0.0422 - val_accuracy: 0.9839 - val_precision: 0.9758 - val_recall: 0.9758\n",
      "Epoch 3/30\n",
      "2493/2493 [==============================] - 4s 2ms/step - loss: 0.0447 - accuracy: 0.9819 - precision: 0.9728 - recall: 0.9728 - val_loss: 0.0290 - val_accuracy: 0.9887 - val_precision: 0.9830 - val_recall: 0.9830\n",
      "Epoch 4/30\n",
      "2493/2493 [==============================] - 4s 2ms/step - loss: 0.0321 - accuracy: 0.9871 - precision: 0.9806 - recall: 0.9806 - val_loss: 0.0331 - val_accuracy: 0.9840 - val_precision: 0.9760 - val_recall: 0.9760\n",
      "Epoch 5/30\n",
      "2493/2493 [==============================] - 4s 2ms/step - loss: 0.0266 - accuracy: 0.9891 - precision: 0.9836 - recall: 0.9836 - val_loss: 0.0165 - val_accuracy: 0.9943 - val_precision: 0.9915 - val_recall: 0.9915\n",
      "Epoch 6/30\n",
      "2493/2493 [==============================] - 5s 2ms/step - loss: 0.0238 - accuracy: 0.9898 - precision: 0.9846 - recall: 0.9846 - val_loss: 0.0166 - val_accuracy: 0.9926 - val_precision: 0.9890 - val_recall: 0.9890\n",
      "Epoch 7/30\n",
      "2493/2493 [==============================] - 4s 2ms/step - loss: 0.0223 - accuracy: 0.9907 - precision: 0.9861 - recall: 0.9861 - val_loss: 0.0296 - val_accuracy: 0.9874 - val_precision: 0.9811 - val_recall: 0.9811\n",
      "Epoch 8/30\n",
      "2493/2493 [==============================] - 4s 2ms/step - loss: 0.0204 - accuracy: 0.9912 - precision: 0.9868 - recall: 0.9868 - val_loss: 0.0193 - val_accuracy: 0.9908 - val_precision: 0.9863 - val_recall: 0.9863\n",
      "Epoch 9/30\n",
      "2493/2493 [==============================] - 4s 2ms/step - loss: 0.0196 - accuracy: 0.9915 - precision: 0.9872 - recall: 0.9872 - val_loss: 0.0141 - val_accuracy: 0.9942 - val_precision: 0.9914 - val_recall: 0.9914\n",
      "Epoch 10/30\n",
      "2493/2493 [==============================] - 4s 2ms/step - loss: 0.0189 - accuracy: 0.9920 - precision: 0.9880 - recall: 0.9880 - val_loss: 0.0128 - val_accuracy: 0.9957 - val_precision: 0.9935 - val_recall: 0.9935\n",
      "Epoch 11/30\n",
      "2493/2493 [==============================] - 4s 2ms/step - loss: 0.0180 - accuracy: 0.9923 - precision: 0.9885 - recall: 0.9885 - val_loss: 0.0217 - val_accuracy: 0.9911 - val_precision: 0.9867 - val_recall: 0.9867\n",
      "Epoch 12/30\n",
      "2493/2493 [==============================] - 4s 2ms/step - loss: 0.0181 - accuracy: 0.9923 - precision: 0.9884 - recall: 0.9884 - val_loss: 0.0169 - val_accuracy: 0.9929 - val_precision: 0.9894 - val_recall: 0.9894\n",
      "Epoch 13/30\n",
      "2493/2493 [==============================] - 4s 2ms/step - loss: 0.0166 - accuracy: 0.9930 - precision: 0.9895 - recall: 0.9895 - val_loss: 0.0126 - val_accuracy: 0.9945 - val_precision: 0.9918 - val_recall: 0.9918\n",
      "Epoch 14/30\n",
      "2493/2493 [==============================] - 4s 2ms/step - loss: 0.0162 - accuracy: 0.9929 - precision: 0.9894 - recall: 0.9894 - val_loss: 0.0111 - val_accuracy: 0.9952 - val_precision: 0.9928 - val_recall: 0.9928\n",
      "Epoch 15/30\n",
      "2493/2493 [==============================] - 4s 2ms/step - loss: 0.0169 - accuracy: 0.9928 - precision: 0.9892 - recall: 0.9892 - val_loss: 0.0182 - val_accuracy: 0.9918 - val_precision: 0.9877 - val_recall: 0.9877\n",
      "Epoch 16/30\n",
      "2493/2493 [==============================] - 4s 2ms/step - loss: 0.0157 - accuracy: 0.9932 - precision: 0.9899 - recall: 0.9899 - val_loss: 0.0139 - val_accuracy: 0.9942 - val_precision: 0.9914 - val_recall: 0.9914\n",
      "Epoch 17/30\n",
      "2493/2493 [==============================] - 4s 2ms/step - loss: 0.0157 - accuracy: 0.9933 - precision: 0.9899 - recall: 0.9899 - val_loss: 0.0126 - val_accuracy: 0.9936 - val_precision: 0.9905 - val_recall: 0.9905\n",
      "Epoch 18/30\n",
      "2493/2493 [==============================] - 4s 2ms/step - loss: 0.0157 - accuracy: 0.9932 - precision: 0.9899 - recall: 0.9899 - val_loss: 0.0127 - val_accuracy: 0.9943 - val_precision: 0.9915 - val_recall: 0.9915\n",
      "Epoch 19/30\n",
      "2493/2493 [==============================] - 4s 2ms/step - loss: 0.0159 - accuracy: 0.9932 - precision: 0.9898 - recall: 0.9898 - val_loss: 0.0169 - val_accuracy: 0.9929 - val_precision: 0.9894 - val_recall: 0.9894\n",
      "Epoch 20/30\n",
      "2493/2493 [==============================] - 4s 2ms/step - loss: 0.0147 - accuracy: 0.9936 - precision: 0.9903 - recall: 0.9903 - val_loss: 0.0139 - val_accuracy: 0.9938 - val_precision: 0.9907 - val_recall: 0.9907\n",
      "Epoch 21/30\n",
      "2493/2493 [==============================] - 4s 2ms/step - loss: 0.0148 - accuracy: 0.9936 - precision: 0.9904 - recall: 0.9904 - val_loss: 0.0186 - val_accuracy: 0.9929 - val_precision: 0.9894 - val_recall: 0.9894\n",
      "Epoch 22/30\n",
      "2493/2493 [==============================] - 4s 2ms/step - loss: 0.0147 - accuracy: 0.9938 - precision: 0.9908 - recall: 0.9908 - val_loss: 0.0172 - val_accuracy: 0.9927 - val_precision: 0.9891 - val_recall: 0.9891\n",
      "Epoch 23/30\n",
      "2493/2493 [==============================] - 4s 2ms/step - loss: 0.0147 - accuracy: 0.9938 - precision: 0.9907 - recall: 0.9907 - val_loss: 0.0175 - val_accuracy: 0.9922 - val_precision: 0.9884 - val_recall: 0.9884\n",
      "Epoch 24/30\n",
      "2493/2493 [==============================] - 4s 2ms/step - loss: 0.0146 - accuracy: 0.9937 - precision: 0.9905 - recall: 0.9905 - val_loss: 0.0108 - val_accuracy: 0.9958 - val_precision: 0.9937 - val_recall: 0.9937\n",
      "Epoch 25/30\n",
      "2493/2493 [==============================] - 4s 2ms/step - loss: 0.0141 - accuracy: 0.9937 - precision: 0.9906 - recall: 0.9906 - val_loss: 0.0106 - val_accuracy: 0.9956 - val_precision: 0.9934 - val_recall: 0.9934\n",
      "Epoch 26/30\n",
      "2493/2493 [==============================] - 4s 2ms/step - loss: 0.0135 - accuracy: 0.9943 - precision: 0.9914 - recall: 0.9914 - val_loss: 0.0171 - val_accuracy: 0.9927 - val_precision: 0.9891 - val_recall: 0.9891\n",
      "Epoch 27/30\n",
      "2493/2493 [==============================] - 4s 2ms/step - loss: 0.0138 - accuracy: 0.9944 - precision: 0.9915 - recall: 0.9915 - val_loss: 0.0167 - val_accuracy: 0.9928 - val_precision: 0.9892 - val_recall: 0.9892\n",
      "Epoch 28/30\n",
      "2493/2493 [==============================] - 4s 2ms/step - loss: 0.0140 - accuracy: 0.9940 - precision: 0.9910 - recall: 0.9910 - val_loss: 0.0137 - val_accuracy: 0.9933 - val_precision: 0.9900 - val_recall: 0.9900\n",
      "Epoch 29/30\n",
      "2493/2493 [==============================] - 4s 2ms/step - loss: 0.0141 - accuracy: 0.9939 - precision: 0.9908 - recall: 0.9908 - val_loss: 0.0107 - val_accuracy: 0.9951 - val_precision: 0.9927 - val_recall: 0.9927\n",
      "Epoch 30/30\n",
      "2493/2493 [==============================] - 4s 2ms/step - loss: 0.0132 - accuracy: 0.9944 - precision: 0.9916 - recall: 0.9916 - val_loss: 0.0131 - val_accuracy: 0.9938 - val_precision: 0.9908 - val_recall: 0.9908\n"
     ]
    },
    {
     "data": {
      "text/plain": "<keras.callbacks.History at 0x29391f12790>"
     },
     "execution_count": 16,
     "metadata": {},
     "output_type": "execute_result"
    }
   ],
   "source": [
    "n = len(feature_list)\n",
    "print(tf.test.gpu_device_name())\n",
    "model = Sequential([layers.Input(n),\n",
    "                    layers.Dense(32, activation='relu'),\n",
    "                    layers.Dense(32, activation='relu'),\n",
    "                    layers.Dense(3, activation=tf.nn.softmax)])\n",
    "\n",
    "model.compile(loss=tf.keras.losses.binary_crossentropy,\n",
    "              optimizer=Adam(learning_rate=0.001),\n",
    "              metrics=[\n",
    "                  tf.keras.metrics.BinaryAccuracy(name='accuracy'),\n",
    "                  tf.keras.metrics.Precision(name='precision'),\n",
    "                  tf.keras.metrics.Recall(name='recall')])\n",
    "\n",
    "model.fit(X_train, y_train, validation_data=(X_val, y_val), epochs=30)"
   ],
   "metadata": {
    "collapsed": false,
    "ExecuteTime": {
     "end_time": "2023-05-19T16:42:56.090519600Z",
     "start_time": "2023-05-19T16:40:43.143210200Z"
    }
   }
  },
  {
   "cell_type": "code",
   "execution_count": 17,
   "outputs": [
    {
     "name": "stdout",
     "output_type": "stream",
     "text": [
      "312/312 [==============================] - 0s 1ms/step\n"
     ]
    }
   ],
   "source": [
    "y_pred = model.predict(X_test)"
   ],
   "metadata": {
    "collapsed": false,
    "ExecuteTime": {
     "end_time": "2023-05-19T16:42:56.772608200Z",
     "start_time": "2023-05-19T16:42:56.091523600Z"
    }
   }
  },
  {
   "cell_type": "code",
   "execution_count": 18,
   "outputs": [
    {
     "data": {
      "text/plain": "9970"
     },
     "execution_count": 18,
     "metadata": {},
     "output_type": "execute_result"
    }
   ],
   "source": [
    "len(y_pred)"
   ],
   "metadata": {
    "collapsed": false,
    "ExecuteTime": {
     "end_time": "2023-05-19T16:42:56.787451200Z",
     "start_time": "2023-05-19T16:42:56.774605700Z"
    }
   }
  },
  {
   "cell_type": "code",
   "execution_count": 19,
   "outputs": [],
   "source": [
    "y_pred = np.round(y_pred)"
   ],
   "metadata": {
    "collapsed": false,
    "ExecuteTime": {
     "end_time": "2023-05-19T16:42:56.846488400Z",
     "start_time": "2023-05-19T16:42:56.790442400Z"
    }
   }
  },
  {
   "cell_type": "code",
   "execution_count": 20,
   "outputs": [
    {
     "data": {
      "text/plain": "array([[0., 1., 0.],\n       [0., 1., 0.],\n       [0., 1., 0.],\n       ...,\n       [0., 1., 0.],\n       [0., 1., 0.],\n       [0., 1., 0.]], dtype=float32)"
     },
     "execution_count": 20,
     "metadata": {},
     "output_type": "execute_result"
    }
   ],
   "source": [
    "y_pred"
   ],
   "metadata": {
    "collapsed": false,
    "ExecuteTime": {
     "end_time": "2023-05-19T16:42:56.851424Z",
     "start_time": "2023-05-19T16:42:56.804682500Z"
    }
   }
  },
  {
   "cell_type": "code",
   "execution_count": 21,
   "outputs": [
    {
     "name": "stdout",
     "output_type": "stream",
     "text": [
      "*****buy******\n",
      "466\n",
      "cr/pred 0.9849785407725322\n",
      "cr/test 0.9125248508946322\n",
      "*****sell******\n",
      "588\n",
      "cr/pred 0.9268707482993197\n",
      "cr/test 0.9802158273381295\n"
     ]
    }
   ],
   "source": [
    "num_correct_buy = 0\n",
    "num_pred_buy = 0\n",
    "num_test_buy = 0\n",
    "\n",
    "for i in range(len(y_pred)):\n",
    "    if y_pred[i][2] == 1 and y_test[i][2] == 1:\n",
    "        num_correct_buy += 1\n",
    "    if y_pred[i][2] == 1:\n",
    "        num_pred_buy += 1\n",
    "    if y_test[i][2] == 1:\n",
    "        num_test_buy += 1\n",
    "\n",
    "print(\"*****buy******\")\n",
    "print(num_pred_buy)\n",
    "print(\"cr/pred\", num_correct_buy / num_pred_buy)\n",
    "print(\"cr/test\", num_correct_buy / num_test_buy)\n",
    "\n",
    "num_correct_sell = 0\n",
    "num_pred_sell = 0\n",
    "num_test_sell = 0\n",
    "\n",
    "for i in range(len(y_pred)):\n",
    "    if y_pred[i][0] == 1 and y_test[i][0] == 1:\n",
    "        num_correct_sell += 1\n",
    "    if y_pred[i][0] == 1:\n",
    "        num_pred_sell += 1\n",
    "    if y_test[i][0] == 1:\n",
    "        num_test_sell += 1\n",
    "\n",
    "print(\"*****sell******\")\n",
    "print(num_pred_sell)\n",
    "print(\"cr/pred\", num_correct_sell / num_pred_sell)\n",
    "print(\"cr/test\", num_correct_sell / num_test_sell)"
   ],
   "metadata": {
    "collapsed": false,
    "ExecuteTime": {
     "end_time": "2023-05-19T16:42:56.926074900Z",
     "start_time": "2023-05-19T16:42:56.832475900Z"
    }
   }
  }
 ],
 "metadata": {
  "kernelspec": {
   "display_name": "Python 3",
   "language": "python",
   "name": "python3"
  },
  "language_info": {
   "codemirror_mode": {
    "name": "ipython",
    "version": 2
   },
   "file_extension": ".py",
   "mimetype": "text/x-python",
   "name": "python",
   "nbconvert_exporter": "python",
   "pygments_lexer": "ipython2",
   "version": "2.7.6"
  }
 },
 "nbformat": 4,
 "nbformat_minor": 0
}
