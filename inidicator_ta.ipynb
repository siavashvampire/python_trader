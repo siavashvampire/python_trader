{
 "cells": [
  {
   "cell_type": "code",
   "execution_count": 181,
   "metadata": {},
   "outputs": [],
   "source": [
    "import pandas as pd\n",
    "import pandas_ta as ta\n",
    "import numpy as np\n",
    "from tradingview_ta import TA_Handler, Interval, Exchange\n",
    "import tradingview_ta\n"
   ]
  },
  {
   "cell_type": "code",
   "execution_count": 181,
   "outputs": [],
   "source": [],
   "metadata": {
    "collapsed": false
   }
  },
  {
   "cell_type": "code",
   "execution_count": 182,
   "outputs": [
    {
     "data": {
      "text/plain": "'\\nhandler = TA_Handler(\\n    symbol=\"EURUSD\",\\n    exchange=\"FX_IDC\",\\n    screener=\"forex\",\\n    interval=\"1m\",\\n    timeout=None\\n)\\nanalysis = handler.get_analysis()\\nhandler.get_indicators()\\nanalysis.oscillators\\nhandler.get_indicators()\\n'"
     },
     "execution_count": 182,
     "metadata": {},
     "output_type": "execute_result"
    }
   ],
   "source": [
    "'''\n",
    "handler = TA_Handler(\n",
    "    symbol=\"EURUSD\",\n",
    "    exchange=\"FX_IDC\",\n",
    "    screener=\"forex\",\n",
    "    interval=\"1m\",\n",
    "    timeout=None\n",
    ")\n",
    "analysis = handler.get_analysis()\n",
    "handler.get_indicators()\n",
    "analysis.oscillators\n",
    "handler.get_indicators()\n",
    "'''"
   ],
   "metadata": {
    "collapsed": false
   }
  },
  {
   "cell_type": "code",
   "execution_count": 183,
   "metadata": {},
   "outputs": [
    {
     "data": {
      "text/plain": "           <DATE>    <TIME>   <OPEN>   <HIGH>    <LOW>  <CLOSE>  <TICKVOL>   \n0      2023.01.25  19:15:00  1.08991  1.09012  1.08991  1.09004         60  \\\n1      2023.01.25  19:16:00  1.09004  1.09004  1.08982  1.08982         60   \n2      2023.01.25  19:17:00  1.08982  1.08988  1.08981  1.08984         65   \n3      2023.01.25  19:18:00  1.08984  1.08993  1.08983  1.08986         37   \n4      2023.01.25  19:19:00  1.08988  1.08991  1.08976  1.08981         48   \n...           ...       ...      ...      ...      ...      ...        ...   \n99995  2023.05.03  15:00:00  1.10396  1.10414  1.10394  1.10398        111   \n99996  2023.05.03  15:01:00  1.10400  1.10417  1.10387  1.10415        109   \n99997  2023.05.03  15:02:00  1.10415  1.10418  1.10388  1.10389        100   \n99998  2023.05.03  15:03:00  1.10389  1.10395  1.10380  1.10387         63   \n99999  2023.05.03  15:04:00  1.10387  1.10389  1.10381  1.10381         50   \n\n       <VOL>  <SPREAD>  \n0          0         0  \n1          0         0  \n2          0         0  \n3          0         0  \n4          0         0  \n...      ...       ...  \n99995      0         0  \n99996      0         0  \n99997      0         0  \n99998      0         0  \n99999      0         0  \n\n[100000 rows x 9 columns]",
      "text/html": "<div>\n<style scoped>\n    .dataframe tbody tr th:only-of-type {\n        vertical-align: middle;\n    }\n\n    .dataframe tbody tr th {\n        vertical-align: top;\n    }\n\n    .dataframe thead th {\n        text-align: right;\n    }\n</style>\n<table border=\"1\" class=\"dataframe\">\n  <thead>\n    <tr style=\"text-align: right;\">\n      <th></th>\n      <th>&lt;DATE&gt;</th>\n      <th>&lt;TIME&gt;</th>\n      <th>&lt;OPEN&gt;</th>\n      <th>&lt;HIGH&gt;</th>\n      <th>&lt;LOW&gt;</th>\n      <th>&lt;CLOSE&gt;</th>\n      <th>&lt;TICKVOL&gt;</th>\n      <th>&lt;VOL&gt;</th>\n      <th>&lt;SPREAD&gt;</th>\n    </tr>\n  </thead>\n  <tbody>\n    <tr>\n      <th>0</th>\n      <td>2023.01.25</td>\n      <td>19:15:00</td>\n      <td>1.08991</td>\n      <td>1.09012</td>\n      <td>1.08991</td>\n      <td>1.09004</td>\n      <td>60</td>\n      <td>0</td>\n      <td>0</td>\n    </tr>\n    <tr>\n      <th>1</th>\n      <td>2023.01.25</td>\n      <td>19:16:00</td>\n      <td>1.09004</td>\n      <td>1.09004</td>\n      <td>1.08982</td>\n      <td>1.08982</td>\n      <td>60</td>\n      <td>0</td>\n      <td>0</td>\n    </tr>\n    <tr>\n      <th>2</th>\n      <td>2023.01.25</td>\n      <td>19:17:00</td>\n      <td>1.08982</td>\n      <td>1.08988</td>\n      <td>1.08981</td>\n      <td>1.08984</td>\n      <td>65</td>\n      <td>0</td>\n      <td>0</td>\n    </tr>\n    <tr>\n      <th>3</th>\n      <td>2023.01.25</td>\n      <td>19:18:00</td>\n      <td>1.08984</td>\n      <td>1.08993</td>\n      <td>1.08983</td>\n      <td>1.08986</td>\n      <td>37</td>\n      <td>0</td>\n      <td>0</td>\n    </tr>\n    <tr>\n      <th>4</th>\n      <td>2023.01.25</td>\n      <td>19:19:00</td>\n      <td>1.08988</td>\n      <td>1.08991</td>\n      <td>1.08976</td>\n      <td>1.08981</td>\n      <td>48</td>\n      <td>0</td>\n      <td>0</td>\n    </tr>\n    <tr>\n      <th>...</th>\n      <td>...</td>\n      <td>...</td>\n      <td>...</td>\n      <td>...</td>\n      <td>...</td>\n      <td>...</td>\n      <td>...</td>\n      <td>...</td>\n      <td>...</td>\n    </tr>\n    <tr>\n      <th>99995</th>\n      <td>2023.05.03</td>\n      <td>15:00:00</td>\n      <td>1.10396</td>\n      <td>1.10414</td>\n      <td>1.10394</td>\n      <td>1.10398</td>\n      <td>111</td>\n      <td>0</td>\n      <td>0</td>\n    </tr>\n    <tr>\n      <th>99996</th>\n      <td>2023.05.03</td>\n      <td>15:01:00</td>\n      <td>1.10400</td>\n      <td>1.10417</td>\n      <td>1.10387</td>\n      <td>1.10415</td>\n      <td>109</td>\n      <td>0</td>\n      <td>0</td>\n    </tr>\n    <tr>\n      <th>99997</th>\n      <td>2023.05.03</td>\n      <td>15:02:00</td>\n      <td>1.10415</td>\n      <td>1.10418</td>\n      <td>1.10388</td>\n      <td>1.10389</td>\n      <td>100</td>\n      <td>0</td>\n      <td>0</td>\n    </tr>\n    <tr>\n      <th>99998</th>\n      <td>2023.05.03</td>\n      <td>15:03:00</td>\n      <td>1.10389</td>\n      <td>1.10395</td>\n      <td>1.10380</td>\n      <td>1.10387</td>\n      <td>63</td>\n      <td>0</td>\n      <td>0</td>\n    </tr>\n    <tr>\n      <th>99999</th>\n      <td>2023.05.03</td>\n      <td>15:04:00</td>\n      <td>1.10387</td>\n      <td>1.10389</td>\n      <td>1.10381</td>\n      <td>1.10381</td>\n      <td>50</td>\n      <td>0</td>\n      <td>0</td>\n    </tr>\n  </tbody>\n</table>\n<p>100000 rows × 9 columns</p>\n</div>"
     },
     "execution_count": 183,
     "metadata": {},
     "output_type": "execute_result"
    }
   ],
   "source": [
    "df = pd.read_csv('EURUSD_M1_202301251915_202305031504.csv',sep = '\\t')\n",
    "\n",
    "df"
   ]
  },
  {
   "cell_type": "code",
   "execution_count": 184,
   "metadata": {},
   "outputs": [
    {
     "data": {
      "text/plain": "             Date      Time     Open     High      Low    Close  Volume\n0      2023.01.25  19:15:00  1.08991  1.09012  1.08991  1.09004      60\n1      2023.01.25  19:16:00  1.09004  1.09004  1.08982  1.08982      60\n2      2023.01.25  19:17:00  1.08982  1.08988  1.08981  1.08984      65\n3      2023.01.25  19:18:00  1.08984  1.08993  1.08983  1.08986      37\n4      2023.01.25  19:19:00  1.08988  1.08991  1.08976  1.08981      48\n...           ...       ...      ...      ...      ...      ...     ...\n99995  2023.05.03  15:00:00  1.10396  1.10414  1.10394  1.10398     111\n99996  2023.05.03  15:01:00  1.10400  1.10417  1.10387  1.10415     109\n99997  2023.05.03  15:02:00  1.10415  1.10418  1.10388  1.10389     100\n99998  2023.05.03  15:03:00  1.10389  1.10395  1.10380  1.10387      63\n99999  2023.05.03  15:04:00  1.10387  1.10389  1.10381  1.10381      50\n\n[100000 rows x 7 columns]",
      "text/html": "<div>\n<style scoped>\n    .dataframe tbody tr th:only-of-type {\n        vertical-align: middle;\n    }\n\n    .dataframe tbody tr th {\n        vertical-align: top;\n    }\n\n    .dataframe thead th {\n        text-align: right;\n    }\n</style>\n<table border=\"1\" class=\"dataframe\">\n  <thead>\n    <tr style=\"text-align: right;\">\n      <th></th>\n      <th>Date</th>\n      <th>Time</th>\n      <th>Open</th>\n      <th>High</th>\n      <th>Low</th>\n      <th>Close</th>\n      <th>Volume</th>\n    </tr>\n  </thead>\n  <tbody>\n    <tr>\n      <th>0</th>\n      <td>2023.01.25</td>\n      <td>19:15:00</td>\n      <td>1.08991</td>\n      <td>1.09012</td>\n      <td>1.08991</td>\n      <td>1.09004</td>\n      <td>60</td>\n    </tr>\n    <tr>\n      <th>1</th>\n      <td>2023.01.25</td>\n      <td>19:16:00</td>\n      <td>1.09004</td>\n      <td>1.09004</td>\n      <td>1.08982</td>\n      <td>1.08982</td>\n      <td>60</td>\n    </tr>\n    <tr>\n      <th>2</th>\n      <td>2023.01.25</td>\n      <td>19:17:00</td>\n      <td>1.08982</td>\n      <td>1.08988</td>\n      <td>1.08981</td>\n      <td>1.08984</td>\n      <td>65</td>\n    </tr>\n    <tr>\n      <th>3</th>\n      <td>2023.01.25</td>\n      <td>19:18:00</td>\n      <td>1.08984</td>\n      <td>1.08993</td>\n      <td>1.08983</td>\n      <td>1.08986</td>\n      <td>37</td>\n    </tr>\n    <tr>\n      <th>4</th>\n      <td>2023.01.25</td>\n      <td>19:19:00</td>\n      <td>1.08988</td>\n      <td>1.08991</td>\n      <td>1.08976</td>\n      <td>1.08981</td>\n      <td>48</td>\n    </tr>\n    <tr>\n      <th>...</th>\n      <td>...</td>\n      <td>...</td>\n      <td>...</td>\n      <td>...</td>\n      <td>...</td>\n      <td>...</td>\n      <td>...</td>\n    </tr>\n    <tr>\n      <th>99995</th>\n      <td>2023.05.03</td>\n      <td>15:00:00</td>\n      <td>1.10396</td>\n      <td>1.10414</td>\n      <td>1.10394</td>\n      <td>1.10398</td>\n      <td>111</td>\n    </tr>\n    <tr>\n      <th>99996</th>\n      <td>2023.05.03</td>\n      <td>15:01:00</td>\n      <td>1.10400</td>\n      <td>1.10417</td>\n      <td>1.10387</td>\n      <td>1.10415</td>\n      <td>109</td>\n    </tr>\n    <tr>\n      <th>99997</th>\n      <td>2023.05.03</td>\n      <td>15:02:00</td>\n      <td>1.10415</td>\n      <td>1.10418</td>\n      <td>1.10388</td>\n      <td>1.10389</td>\n      <td>100</td>\n    </tr>\n    <tr>\n      <th>99998</th>\n      <td>2023.05.03</td>\n      <td>15:03:00</td>\n      <td>1.10389</td>\n      <td>1.10395</td>\n      <td>1.10380</td>\n      <td>1.10387</td>\n      <td>63</td>\n    </tr>\n    <tr>\n      <th>99999</th>\n      <td>2023.05.03</td>\n      <td>15:04:00</td>\n      <td>1.10387</td>\n      <td>1.10389</td>\n      <td>1.10381</td>\n      <td>1.10381</td>\n      <td>50</td>\n    </tr>\n  </tbody>\n</table>\n<p>100000 rows × 7 columns</p>\n</div>"
     },
     "execution_count": 184,
     "metadata": {},
     "output_type": "execute_result"
    }
   ],
   "source": [
    "df.rename(columns={'<DATE>': 'Date',\n",
    "                   '<TIME>': 'Time',\n",
    "                   '<OPEN>': 'Open',\n",
    "                   '<HIGH>': 'High',\n",
    "                   '<LOW>': 'Low',\n",
    "                   '<CLOSE>': 'Close',\n",
    "                   '<TICKVOL>': 'Volume'},\n",
    "          inplace=True, errors='raise')\n",
    "\n",
    "df = df[['Date','Time','Open','High','Low','Close','Volume']]\n",
    "\n",
    "df"
   ]
  },
  {
   "cell_type": "code",
   "execution_count": 185,
   "metadata": {},
   "outputs": [
    {
     "name": "stdout",
     "output_type": "stream",
     "text": [
      "Pandas TA - Technical Analysis Indicators - v0.3.14b0\n",
      "Total Indicators & Utilities: 205\n",
      "Abbreviations:\n",
      "    aberration, above, above_value, accbands, ad, adosc, adx, alma, amat, ao, aobv, apo, aroon, atr, bbands, below, below_value, bias, bop, brar, cci, cdl_pattern, cdl_z, cfo, cg, chop, cksp, cmf, cmo, coppock, cross, cross_value, cti, decay, decreasing, dema, dm, donchian, dpo, ebsw, efi, ema, entropy, eom, er, eri, fisher, fwma, ha, hilo, hl2, hlc3, hma, hwc, hwma, ichimoku, increasing, inertia, jma, kama, kc, kdj, kst, kurtosis, kvo, linreg, log_return, long_run, macd, mad, massi, mcgd, median, mfi, midpoint, midprice, mom, natr, nvi, obv, ohlc4, pdist, percent_return, pgo, ppo, psar, psl, pvi, pvo, pvol, pvr, pvt, pwma, qqe, qstick, quantile, rma, roc, rsi, rsx, rvgi, rvi, short_run, sinwma, skew, slope, sma, smi, squeeze, squeeze_pro, ssf, stc, stdev, stoch, stochrsi, supertrend, swma, t3, td_seq, tema, thermo, tos_stdevall, trima, trix, true_range, tsi, tsignals, ttm_trend, ui, uo, variance, vhf, vidya, vortex, vp, vwap, vwma, wcp, willr, wma, xsignals, zlma, zscore\n",
      "\n",
      "Candle Patterns:\n",
      "    2crows, 3blackcrows, 3inside, 3linestrike, 3outside, 3starsinsouth, 3whitesoldiers, abandonedbaby, advanceblock, belthold, breakaway, closingmarubozu, concealbabyswall, counterattack, darkcloudcover, doji, dojistar, dragonflydoji, engulfing, eveningdojistar, eveningstar, gapsidesidewhite, gravestonedoji, hammer, hangingman, harami, haramicross, highwave, hikkake, hikkakemod, homingpigeon, identical3crows, inneck, inside, invertedhammer, kicking, kickingbylength, ladderbottom, longleggeddoji, longline, marubozu, matchinglow, mathold, morningdojistar, morningstar, onneck, piercing, rickshawman, risefall3methods, separatinglines, shootingstar, shortline, spinningtop, stalledpattern, sticksandwich, takuri, tasukigap, thrusting, tristar, unique3river, upsidegap2crows, xsidegap3methods\n",
      "Help on NoneType object:\n",
      "\n",
      "class NoneType(object)\n",
      " |  Methods defined here:\n",
      " |  \n",
      " |  __bool__(self, /)\n",
      " |      self != 0\n",
      " |  \n",
      " |  __repr__(self, /)\n",
      " |      Return repr(self).\n",
      " |  \n",
      " |  ----------------------------------------------------------------------\n",
      " |  Static methods defined here:\n",
      " |  \n",
      " |  __new__(*args, **kwargs) from builtins.type\n",
      " |      Create and return a new object.  See help(type) for accurate signature.\n",
      "\n"
     ]
    }
   ],
   "source": [
    "help(df.ta.indicators())"
   ]
  },
  {
   "cell_type": "code",
   "execution_count": 186,
   "metadata": {},
   "outputs": [
    {
     "name": "stdout",
     "output_type": "stream",
     "text": [
      "Help on function bbands in module pandas_ta.volatility.bbands:\n",
      "\n",
      "bbands(close, length=None, std=None, ddof=0, mamode=None, talib=None, offset=None, **kwargs)\n",
      "    Bollinger Bands (BBANDS)\n",
      "    \n",
      "    A popular volatility indicator by John Bollinger.\n",
      "    \n",
      "    Sources:\n",
      "        https://www.tradingview.com/wiki/Bollinger_Bands_(BB)\n",
      "    \n",
      "    Calculation:\n",
      "        Default Inputs:\n",
      "            length=5, std=2, mamode=\"sma\", ddof=0\n",
      "        EMA = Exponential Moving Average\n",
      "        SMA = Simple Moving Average\n",
      "        STDEV = Standard Deviation\n",
      "        stdev = STDEV(close, length, ddof)\n",
      "        if \"ema\":\n",
      "            MID = EMA(close, length)\n",
      "        else:\n",
      "            MID = SMA(close, length)\n",
      "    \n",
      "        LOWER = MID - std * stdev\n",
      "        UPPER = MID + std * stdev\n",
      "    \n",
      "        BANDWIDTH = 100 * (UPPER - LOWER) / MID\n",
      "        PERCENT = (close - LOWER) / (UPPER - LOWER)\n",
      "    \n",
      "    Args:\n",
      "        close (pd.Series): Series of 'close's\n",
      "        length (int): The short period. Default: 5\n",
      "        std (int): The long period. Default: 2\n",
      "        ddof (int): Degrees of Freedom to use. Default: 0\n",
      "        mamode (str): See ```help(ta.ma)```. Default: 'sma'\n",
      "        talib (bool): If TA Lib is installed and talib is True, Returns the TA Lib\n",
      "            version. Default: True\n",
      "        offset (int): How many periods to offset the result. Default: 0\n",
      "    \n",
      "    Kwargs:\n",
      "        fillna (value, optional): pd.DataFrame.fillna(value)\n",
      "        fill_method (value, optional): Type of fill method\n",
      "    \n",
      "    Returns:\n",
      "        pd.DataFrame: lower, mid, upper, bandwidth, and percent columns.\n",
      "\n"
     ]
    },
    {
     "name": "stderr",
     "output_type": "stream",
     "text": [
      "C:\\Users\\irantech24\\AppData\\Local\\Temp\\ipykernel_14572\\2895954176.py:3: SettingWithCopyWarning: \n",
      "A value is trying to be set on a copy of a slice from a DataFrame.\n",
      "Try using .loc[row_indexer,col_indexer] = value instead\n",
      "\n",
      "See the caveats in the documentation: https://pandas.pydata.org/pandas-docs/stable/user_guide/indexing.html#returning-a-view-versus-a-copy\n",
      "  df.ta.bbands(length=30, std=2, mamode=\"sma\", ddof=2, append=True)\n"
     ]
    },
    {
     "data": {
      "text/plain": "       BBL_30_2.0  BBM_30_2.0  BBU_30_2.0  BBB_30_2.0  BBP_30_2.0\n0             NaN         NaN         NaN         NaN         NaN\n1             NaN         NaN         NaN         NaN         NaN\n2             NaN         NaN         NaN         NaN         NaN\n3             NaN         NaN         NaN         NaN         NaN\n4             NaN         NaN         NaN         NaN         NaN\n...           ...         ...         ...         ...         ...\n99995    1.103350    1.103787    1.104225    0.079274    0.720187\n99996    1.103341    1.103794    1.104248    0.082168    0.892151\n99997    1.103343    1.103798    1.104253    0.082395    0.601158\n99998    1.103346    1.103801    1.104256    0.082516    0.575756\n99999    1.103350    1.103804    1.104258    0.082337    0.506602\n\n[100000 rows x 5 columns]",
      "text/html": "<div>\n<style scoped>\n    .dataframe tbody tr th:only-of-type {\n        vertical-align: middle;\n    }\n\n    .dataframe tbody tr th {\n        vertical-align: top;\n    }\n\n    .dataframe thead th {\n        text-align: right;\n    }\n</style>\n<table border=\"1\" class=\"dataframe\">\n  <thead>\n    <tr style=\"text-align: right;\">\n      <th></th>\n      <th>BBL_30_2.0</th>\n      <th>BBM_30_2.0</th>\n      <th>BBU_30_2.0</th>\n      <th>BBB_30_2.0</th>\n      <th>BBP_30_2.0</th>\n    </tr>\n  </thead>\n  <tbody>\n    <tr>\n      <th>0</th>\n      <td>NaN</td>\n      <td>NaN</td>\n      <td>NaN</td>\n      <td>NaN</td>\n      <td>NaN</td>\n    </tr>\n    <tr>\n      <th>1</th>\n      <td>NaN</td>\n      <td>NaN</td>\n      <td>NaN</td>\n      <td>NaN</td>\n      <td>NaN</td>\n    </tr>\n    <tr>\n      <th>2</th>\n      <td>NaN</td>\n      <td>NaN</td>\n      <td>NaN</td>\n      <td>NaN</td>\n      <td>NaN</td>\n    </tr>\n    <tr>\n      <th>3</th>\n      <td>NaN</td>\n      <td>NaN</td>\n      <td>NaN</td>\n      <td>NaN</td>\n      <td>NaN</td>\n    </tr>\n    <tr>\n      <th>4</th>\n      <td>NaN</td>\n      <td>NaN</td>\n      <td>NaN</td>\n      <td>NaN</td>\n      <td>NaN</td>\n    </tr>\n    <tr>\n      <th>...</th>\n      <td>...</td>\n      <td>...</td>\n      <td>...</td>\n      <td>...</td>\n      <td>...</td>\n    </tr>\n    <tr>\n      <th>99995</th>\n      <td>1.103350</td>\n      <td>1.103787</td>\n      <td>1.104225</td>\n      <td>0.079274</td>\n      <td>0.720187</td>\n    </tr>\n    <tr>\n      <th>99996</th>\n      <td>1.103341</td>\n      <td>1.103794</td>\n      <td>1.104248</td>\n      <td>0.082168</td>\n      <td>0.892151</td>\n    </tr>\n    <tr>\n      <th>99997</th>\n      <td>1.103343</td>\n      <td>1.103798</td>\n      <td>1.104253</td>\n      <td>0.082395</td>\n      <td>0.601158</td>\n    </tr>\n    <tr>\n      <th>99998</th>\n      <td>1.103346</td>\n      <td>1.103801</td>\n      <td>1.104256</td>\n      <td>0.082516</td>\n      <td>0.575756</td>\n    </tr>\n    <tr>\n      <th>99999</th>\n      <td>1.103350</td>\n      <td>1.103804</td>\n      <td>1.104258</td>\n      <td>0.082337</td>\n      <td>0.506602</td>\n    </tr>\n  </tbody>\n</table>\n<p>100000 rows × 5 columns</p>\n</div>"
     },
     "execution_count": 186,
     "metadata": {},
     "output_type": "execute_result"
    }
   ],
   "source": [
    "# bbands on the internet\n",
    "help(ta.bbands)\n",
    "df.ta.bbands(length=30, std=2, mamode=\"sma\", ddof=2, append=True)"
   ]
  },
  {
   "cell_type": "code",
   "execution_count": 187,
   "outputs": [
    {
     "name": "stdout",
     "output_type": "stream",
     "text": [
      "Help on function bbands in module pandas_ta.volatility.bbands:\n",
      "\n",
      "bbands(close, length=None, std=None, ddof=0, mamode=None, talib=None, offset=None, **kwargs)\n",
      "    Bollinger Bands (BBANDS)\n",
      "    \n",
      "    A popular volatility indicator by John Bollinger.\n",
      "    \n",
      "    Sources:\n",
      "        https://www.tradingview.com/wiki/Bollinger_Bands_(BB)\n",
      "    \n",
      "    Calculation:\n",
      "        Default Inputs:\n",
      "            length=5, std=2, mamode=\"sma\", ddof=0\n",
      "        EMA = Exponential Moving Average\n",
      "        SMA = Simple Moving Average\n",
      "        STDEV = Standard Deviation\n",
      "        stdev = STDEV(close, length, ddof)\n",
      "        if \"ema\":\n",
      "            MID = EMA(close, length)\n",
      "        else:\n",
      "            MID = SMA(close, length)\n",
      "    \n",
      "        LOWER = MID - std * stdev\n",
      "        UPPER = MID + std * stdev\n",
      "    \n",
      "        BANDWIDTH = 100 * (UPPER - LOWER) / MID\n",
      "        PERCENT = (close - LOWER) / (UPPER - LOWER)\n",
      "    \n",
      "    Args:\n",
      "        close (pd.Series): Series of 'close's\n",
      "        length (int): The short period. Default: 5\n",
      "        std (int): The long period. Default: 2\n",
      "        ddof (int): Degrees of Freedom to use. Default: 0\n",
      "        mamode (str): See ```help(ta.ma)```. Default: 'sma'\n",
      "        talib (bool): If TA Lib is installed and talib is True, Returns the TA Lib\n",
      "            version. Default: True\n",
      "        offset (int): How many periods to offset the result. Default: 0\n",
      "    \n",
      "    Kwargs:\n",
      "        fillna (value, optional): pd.DataFrame.fillna(value)\n",
      "        fill_method (value, optional): Type of fill method\n",
      "    \n",
      "    Returns:\n",
      "        pd.DataFrame: lower, mid, upper, bandwidth, and percent columns.\n",
      "\n"
     ]
    },
    {
     "data": {
      "text/plain": "       BBL_5_2.0  BBM_5_2.0  BBU_5_2.0  BBB_5_2.0  BBP_5_2.0\n0            NaN        NaN        NaN        NaN        NaN\n1            NaN        NaN        NaN        NaN        NaN\n2            NaN        NaN        NaN        NaN        NaN\n3            NaN        NaN        NaN        NaN        NaN\n4       1.089704   1.089874   1.090044   0.031108   0.311228\n...          ...        ...        ...        ...        ...\n99995   1.103804   1.104002   1.104200   0.035824   0.444374\n99996   1.103820   1.103996   1.104172   0.031967   0.936373\n99997   1.103778   1.103972   1.104166   0.035159   0.288739\n99998   1.103772   1.103970   1.104168   0.035869   0.247463\n99999   1.103703   1.103940   1.104177   0.042873   0.225325\n\n[100000 rows x 5 columns]",
      "text/html": "<div>\n<style scoped>\n    .dataframe tbody tr th:only-of-type {\n        vertical-align: middle;\n    }\n\n    .dataframe tbody tr th {\n        vertical-align: top;\n    }\n\n    .dataframe thead th {\n        text-align: right;\n    }\n</style>\n<table border=\"1\" class=\"dataframe\">\n  <thead>\n    <tr style=\"text-align: right;\">\n      <th></th>\n      <th>BBL_5_2.0</th>\n      <th>BBM_5_2.0</th>\n      <th>BBU_5_2.0</th>\n      <th>BBB_5_2.0</th>\n      <th>BBP_5_2.0</th>\n    </tr>\n  </thead>\n  <tbody>\n    <tr>\n      <th>0</th>\n      <td>NaN</td>\n      <td>NaN</td>\n      <td>NaN</td>\n      <td>NaN</td>\n      <td>NaN</td>\n    </tr>\n    <tr>\n      <th>1</th>\n      <td>NaN</td>\n      <td>NaN</td>\n      <td>NaN</td>\n      <td>NaN</td>\n      <td>NaN</td>\n    </tr>\n    <tr>\n      <th>2</th>\n      <td>NaN</td>\n      <td>NaN</td>\n      <td>NaN</td>\n      <td>NaN</td>\n      <td>NaN</td>\n    </tr>\n    <tr>\n      <th>3</th>\n      <td>NaN</td>\n      <td>NaN</td>\n      <td>NaN</td>\n      <td>NaN</td>\n      <td>NaN</td>\n    </tr>\n    <tr>\n      <th>4</th>\n      <td>1.089704</td>\n      <td>1.089874</td>\n      <td>1.090044</td>\n      <td>0.031108</td>\n      <td>0.311228</td>\n    </tr>\n    <tr>\n      <th>...</th>\n      <td>...</td>\n      <td>...</td>\n      <td>...</td>\n      <td>...</td>\n      <td>...</td>\n    </tr>\n    <tr>\n      <th>99995</th>\n      <td>1.103804</td>\n      <td>1.104002</td>\n      <td>1.104200</td>\n      <td>0.035824</td>\n      <td>0.444374</td>\n    </tr>\n    <tr>\n      <th>99996</th>\n      <td>1.103820</td>\n      <td>1.103996</td>\n      <td>1.104172</td>\n      <td>0.031967</td>\n      <td>0.936373</td>\n    </tr>\n    <tr>\n      <th>99997</th>\n      <td>1.103778</td>\n      <td>1.103972</td>\n      <td>1.104166</td>\n      <td>0.035159</td>\n      <td>0.288739</td>\n    </tr>\n    <tr>\n      <th>99998</th>\n      <td>1.103772</td>\n      <td>1.103970</td>\n      <td>1.104168</td>\n      <td>0.035869</td>\n      <td>0.247463</td>\n    </tr>\n    <tr>\n      <th>99999</th>\n      <td>1.103703</td>\n      <td>1.103940</td>\n      <td>1.104177</td>\n      <td>0.042873</td>\n      <td>0.225325</td>\n    </tr>\n  </tbody>\n</table>\n<p>100000 rows × 5 columns</p>\n</div>"
     },
     "execution_count": 187,
     "metadata": {},
     "output_type": "execute_result"
    }
   ],
   "source": [
    "# dedault numbers\n",
    "help(ta.bbands)\n",
    "df.ta.bbands(append=True)"
   ],
   "metadata": {
    "collapsed": false
   }
  },
  {
   "cell_type": "code",
   "execution_count": 188,
   "outputs": [
    {
     "name": "stdout",
     "output_type": "stream",
     "text": [
      "Help on function macd in module pandas_ta.momentum.macd:\n",
      "\n",
      "macd(close, fast=None, slow=None, signal=None, talib=None, offset=None, **kwargs)\n",
      "    Moving Average Convergence Divergence (MACD)\n",
      "    \n",
      "    The MACD is a popular indicator to that is used to identify a security's trend.\n",
      "    While APO and MACD are the same calculation, MACD also returns two more series\n",
      "    called Signal and Histogram. The Signal is an EMA of MACD and the Histogram is\n",
      "    the difference of MACD and Signal.\n",
      "    \n",
      "    Sources:\n",
      "        https://www.tradingview.com/wiki/MACD_(Moving_Average_Convergence/Divergence)\n",
      "        AS Mode: https://tr.tradingview.com/script/YFlKXHnP/\n",
      "    \n",
      "    Calculation:\n",
      "        Default Inputs:\n",
      "            fast=12, slow=26, signal=9\n",
      "        EMA = Exponential Moving Average\n",
      "        MACD = EMA(close, fast) - EMA(close, slow)\n",
      "        Signal = EMA(MACD, signal)\n",
      "        Histogram = MACD - Signal\n",
      "    \n",
      "        if asmode:\n",
      "            MACD = MACD - Signal\n",
      "            Signal = EMA(MACD, signal)\n",
      "            Histogram = MACD - Signal\n",
      "    \n",
      "    Args:\n",
      "        close (pd.Series): Series of 'close's\n",
      "        fast (int): The short period. Default: 12\n",
      "        slow (int): The long period. Default: 26\n",
      "        signal (int): The signal period. Default: 9\n",
      "        talib (bool): If TA Lib is installed and talib is True, Returns the TA Lib\n",
      "            version. Default: True\n",
      "        offset (int): How many periods to offset the result. Default: 0\n",
      "    \n",
      "    Kwargs:\n",
      "        asmode (value, optional): When True, enables AS version of MACD.\n",
      "            Default: False\n",
      "        fillna (value, optional): pd.DataFrame.fillna(value)\n",
      "        fill_method (value, optional): Type of fill method\n",
      "    \n",
      "    Returns:\n",
      "        pd.DataFrame: macd, histogram, signal columns.\n",
      "\n"
     ]
    },
    {
     "data": {
      "text/plain": "       MACD_12_26_9  MACDh_12_26_9  MACDs_12_26_9\n0               NaN            NaN            NaN\n1               NaN            NaN            NaN\n2               NaN            NaN            NaN\n3               NaN            NaN            NaN\n4               NaN            NaN            NaN\n...             ...            ...            ...\n99995      0.000070       0.000019       0.000051\n99996      0.000085       0.000028       0.000057\n99997      0.000075       0.000014       0.000061\n99998      0.000065       0.000003       0.000062\n99999      0.000052      -0.000008       0.000060\n\n[100000 rows x 3 columns]",
      "text/html": "<div>\n<style scoped>\n    .dataframe tbody tr th:only-of-type {\n        vertical-align: middle;\n    }\n\n    .dataframe tbody tr th {\n        vertical-align: top;\n    }\n\n    .dataframe thead th {\n        text-align: right;\n    }\n</style>\n<table border=\"1\" class=\"dataframe\">\n  <thead>\n    <tr style=\"text-align: right;\">\n      <th></th>\n      <th>MACD_12_26_9</th>\n      <th>MACDh_12_26_9</th>\n      <th>MACDs_12_26_9</th>\n    </tr>\n  </thead>\n  <tbody>\n    <tr>\n      <th>0</th>\n      <td>NaN</td>\n      <td>NaN</td>\n      <td>NaN</td>\n    </tr>\n    <tr>\n      <th>1</th>\n      <td>NaN</td>\n      <td>NaN</td>\n      <td>NaN</td>\n    </tr>\n    <tr>\n      <th>2</th>\n      <td>NaN</td>\n      <td>NaN</td>\n      <td>NaN</td>\n    </tr>\n    <tr>\n      <th>3</th>\n      <td>NaN</td>\n      <td>NaN</td>\n      <td>NaN</td>\n    </tr>\n    <tr>\n      <th>4</th>\n      <td>NaN</td>\n      <td>NaN</td>\n      <td>NaN</td>\n    </tr>\n    <tr>\n      <th>...</th>\n      <td>...</td>\n      <td>...</td>\n      <td>...</td>\n    </tr>\n    <tr>\n      <th>99995</th>\n      <td>0.000070</td>\n      <td>0.000019</td>\n      <td>0.000051</td>\n    </tr>\n    <tr>\n      <th>99996</th>\n      <td>0.000085</td>\n      <td>0.000028</td>\n      <td>0.000057</td>\n    </tr>\n    <tr>\n      <th>99997</th>\n      <td>0.000075</td>\n      <td>0.000014</td>\n      <td>0.000061</td>\n    </tr>\n    <tr>\n      <th>99998</th>\n      <td>0.000065</td>\n      <td>0.000003</td>\n      <td>0.000062</td>\n    </tr>\n    <tr>\n      <th>99999</th>\n      <td>0.000052</td>\n      <td>-0.000008</td>\n      <td>0.000060</td>\n    </tr>\n  </tbody>\n</table>\n<p>100000 rows × 3 columns</p>\n</div>"
     },
     "execution_count": 188,
     "metadata": {},
     "output_type": "execute_result"
    }
   ],
   "source": [
    "help(ta.macd)\n",
    "df.ta.macd(fast=12, slow=26, signal=9, append=True)"
   ],
   "metadata": {
    "collapsed": false
   }
  },
  {
   "cell_type": "code",
   "execution_count": 189,
   "outputs": [
    {
     "name": "stdout",
     "output_type": "stream",
     "text": [
      "Help on function psar in module pandas_ta.trend.psar:\n",
      "\n",
      "psar(high, low, close=None, af0=None, af=None, max_af=None, offset=None, **kwargs)\n",
      "    Parabolic Stop and Reverse (psar)\n",
      "    \n",
      "    Parabolic Stop and Reverse (PSAR) was developed by J. Wells Wilder, that is used\n",
      "    to determine trend direction and it's potential reversals in price. PSAR uses a\n",
      "    trailing stop and reverse method called \"SAR,\" or stop and reverse, to identify\n",
      "    possible entries and exits. It is also known as SAR.\n",
      "    \n",
      "    PSAR indicator typically appears on a chart as a series of dots, either above or\n",
      "    below an asset's price, depending on the direction the price is moving. A dot is\n",
      "    placed below the price when it is trending upward, and above the price when it\n",
      "    is trending downward.\n",
      "    \n",
      "    Sources:\n",
      "        https://www.tradingview.com/pine-script-reference/#fun_sar\n",
      "        https://www.sierrachart.com/index.php?page=doc/StudiesReference.php&ID=66&Name=Parabolic\n",
      "    \n",
      "    Calculation:\n",
      "        Default Inputs:\n",
      "            af0=0.02, af=0.02, max_af=0.2\n",
      "    \n",
      "        See Source links\n",
      "    \n",
      "    Args:\n",
      "        high (pd.Series): Series of 'high's\n",
      "        low (pd.Series): Series of 'low's\n",
      "        close (pd.Series, optional): Series of 'close's. Optional\n",
      "        af0 (float): Initial Acceleration Factor. Default: 0.02\n",
      "        af (float): Acceleration Factor. Default: 0.02\n",
      "        max_af (float): Maximum Acceleration Factor. Default: 0.2\n",
      "        offset (int): How many periods to offset the result. Default: 0\n",
      "    \n",
      "    Kwargs:\n",
      "        fillna (value, optional): pd.DataFrame.fillna(value)\n",
      "        fill_method (value, optional): Type of fill method\n",
      "    \n",
      "    Returns:\n",
      "        pd.DataFrame: long, short, af, and reversal columns.\n",
      "\n"
     ]
    },
    {
     "data": {
      "text/plain": "       PSARl_0.02_0.2  PSARs_0.02_0.2  PSARaf_0.02_0.2  PSARr_0.02_0.2\n0                 NaN             NaN             0.02               0\n1                 NaN        1.103890             0.04               0\n2                 NaN        1.103327             0.06               0\n3                 NaN        1.102516             0.06               0\n4                 NaN        1.101754             0.08               0\n...               ...             ...              ...             ...\n99995        1.103480             NaN             0.02               0\n99996        1.103496             NaN             0.02               0\n99997        1.103512             NaN             0.02               0\n99998        1.103527             NaN             0.02               0\n99999        1.103542             NaN             0.02               0\n\n[100000 rows x 4 columns]",
      "text/html": "<div>\n<style scoped>\n    .dataframe tbody tr th:only-of-type {\n        vertical-align: middle;\n    }\n\n    .dataframe tbody tr th {\n        vertical-align: top;\n    }\n\n    .dataframe thead th {\n        text-align: right;\n    }\n</style>\n<table border=\"1\" class=\"dataframe\">\n  <thead>\n    <tr style=\"text-align: right;\">\n      <th></th>\n      <th>PSARl_0.02_0.2</th>\n      <th>PSARs_0.02_0.2</th>\n      <th>PSARaf_0.02_0.2</th>\n      <th>PSARr_0.02_0.2</th>\n    </tr>\n  </thead>\n  <tbody>\n    <tr>\n      <th>0</th>\n      <td>NaN</td>\n      <td>NaN</td>\n      <td>0.02</td>\n      <td>0</td>\n    </tr>\n    <tr>\n      <th>1</th>\n      <td>NaN</td>\n      <td>1.103890</td>\n      <td>0.04</td>\n      <td>0</td>\n    </tr>\n    <tr>\n      <th>2</th>\n      <td>NaN</td>\n      <td>1.103327</td>\n      <td>0.06</td>\n      <td>0</td>\n    </tr>\n    <tr>\n      <th>3</th>\n      <td>NaN</td>\n      <td>1.102516</td>\n      <td>0.06</td>\n      <td>0</td>\n    </tr>\n    <tr>\n      <th>4</th>\n      <td>NaN</td>\n      <td>1.101754</td>\n      <td>0.08</td>\n      <td>0</td>\n    </tr>\n    <tr>\n      <th>...</th>\n      <td>...</td>\n      <td>...</td>\n      <td>...</td>\n      <td>...</td>\n    </tr>\n    <tr>\n      <th>99995</th>\n      <td>1.103480</td>\n      <td>NaN</td>\n      <td>0.02</td>\n      <td>0</td>\n    </tr>\n    <tr>\n      <th>99996</th>\n      <td>1.103496</td>\n      <td>NaN</td>\n      <td>0.02</td>\n      <td>0</td>\n    </tr>\n    <tr>\n      <th>99997</th>\n      <td>1.103512</td>\n      <td>NaN</td>\n      <td>0.02</td>\n      <td>0</td>\n    </tr>\n    <tr>\n      <th>99998</th>\n      <td>1.103527</td>\n      <td>NaN</td>\n      <td>0.02</td>\n      <td>0</td>\n    </tr>\n    <tr>\n      <th>99999</th>\n      <td>1.103542</td>\n      <td>NaN</td>\n      <td>0.02</td>\n      <td>0</td>\n    </tr>\n  </tbody>\n</table>\n<p>100000 rows × 4 columns</p>\n</div>"
     },
     "execution_count": 189,
     "metadata": {},
     "output_type": "execute_result"
    }
   ],
   "source": [
    "help(ta.psar)\n",
    "df.ta.psar(append=True)"
   ],
   "metadata": {
    "collapsed": false
   }
  },
  {
   "cell_type": "code",
   "execution_count": 190,
   "outputs": [
    {
     "name": "stdout",
     "output_type": "stream",
     "text": [
      "Help on function stoch in module pandas_ta.momentum.stoch:\n",
      "\n",
      "stoch(high, low, close, k=None, d=None, smooth_k=None, mamode=None, offset=None, **kwargs)\n",
      "    Stochastic (STOCH)\n",
      "    \n",
      "    The Stochastic Oscillator (STOCH) was developed by George Lane in the 1950's.\n",
      "    He believed this indicator was a good way to measure momentum because changes in\n",
      "    momentum precede changes in price.\n",
      "    \n",
      "    It is a range-bound oscillator with two lines moving between 0 and 100.\n",
      "    The first line (%K) displays the current close in relation to the period's\n",
      "    high/low range. The second line (%D) is a Simple Moving Average of the %K line.\n",
      "    The most common choices are a 14 period %K and a 3 period SMA for %D.\n",
      "    \n",
      "    Sources:\n",
      "        https://www.tradingview.com/wiki/Stochastic_(STOCH)\n",
      "        https://www.sierrachart.com/index.php?page=doc/StudiesReference.php&ID=332&Name=KD_-_Slow\n",
      "    \n",
      "    Calculation:\n",
      "        Default Inputs:\n",
      "            k=14, d=3, smooth_k=3\n",
      "        SMA = Simple Moving Average\n",
      "        LL  = low for last k periods\n",
      "        HH  = high for last k periods\n",
      "    \n",
      "        STOCH = 100 * (close - LL) / (HH - LL)\n",
      "        STOCHk = SMA(STOCH, smooth_k)\n",
      "        STOCHd = SMA(FASTK, d)\n",
      "    \n",
      "    Args:\n",
      "        high (pd.Series): Series of 'high's\n",
      "        low (pd.Series): Series of 'low's\n",
      "        close (pd.Series): Series of 'close's\n",
      "        k (int): The Fast %K period. Default: 14\n",
      "        d (int): The Slow %K period. Default: 3\n",
      "        smooth_k (int): The Slow %D period. Default: 3\n",
      "        mamode (str): See ```help(ta.ma)```. Default: 'sma'\n",
      "        offset (int): How many periods to offset the result. Default: 0\n",
      "    \n",
      "    Kwargs:\n",
      "        fillna (value, optional): pd.DataFrame.fillna(value)\n",
      "        fill_method (value, optional): Type of fill method\n",
      "    \n",
      "    Returns:\n",
      "        pd.DataFrame: %K, %D columns.\n",
      "\n"
     ]
    },
    {
     "data": {
      "text/plain": "       STOCHk_14_3_3  STOCHd_14_3_3\n13               NaN            NaN\n14               NaN            NaN\n15          9.615385            NaN\n16         16.666667            NaN\n17         39.743590      22.008547\n...              ...            ...\n99995      60.000000      62.721457\n99996      70.588235      63.921569\n99997      67.843137      66.143791\n99998      63.529412      67.320261\n99999      50.196078      60.522876\n\n[99987 rows x 2 columns]",
      "text/html": "<div>\n<style scoped>\n    .dataframe tbody tr th:only-of-type {\n        vertical-align: middle;\n    }\n\n    .dataframe tbody tr th {\n        vertical-align: top;\n    }\n\n    .dataframe thead th {\n        text-align: right;\n    }\n</style>\n<table border=\"1\" class=\"dataframe\">\n  <thead>\n    <tr style=\"text-align: right;\">\n      <th></th>\n      <th>STOCHk_14_3_3</th>\n      <th>STOCHd_14_3_3</th>\n    </tr>\n  </thead>\n  <tbody>\n    <tr>\n      <th>13</th>\n      <td>NaN</td>\n      <td>NaN</td>\n    </tr>\n    <tr>\n      <th>14</th>\n      <td>NaN</td>\n      <td>NaN</td>\n    </tr>\n    <tr>\n      <th>15</th>\n      <td>9.615385</td>\n      <td>NaN</td>\n    </tr>\n    <tr>\n      <th>16</th>\n      <td>16.666667</td>\n      <td>NaN</td>\n    </tr>\n    <tr>\n      <th>17</th>\n      <td>39.743590</td>\n      <td>22.008547</td>\n    </tr>\n    <tr>\n      <th>...</th>\n      <td>...</td>\n      <td>...</td>\n    </tr>\n    <tr>\n      <th>99995</th>\n      <td>60.000000</td>\n      <td>62.721457</td>\n    </tr>\n    <tr>\n      <th>99996</th>\n      <td>70.588235</td>\n      <td>63.921569</td>\n    </tr>\n    <tr>\n      <th>99997</th>\n      <td>67.843137</td>\n      <td>66.143791</td>\n    </tr>\n    <tr>\n      <th>99998</th>\n      <td>63.529412</td>\n      <td>67.320261</td>\n    </tr>\n    <tr>\n      <th>99999</th>\n      <td>50.196078</td>\n      <td>60.522876</td>\n    </tr>\n  </tbody>\n</table>\n<p>99987 rows × 2 columns</p>\n</div>"
     },
     "execution_count": 190,
     "metadata": {},
     "output_type": "execute_result"
    }
   ],
   "source": [
    "help(ta.stoch)\n",
    "df.ta.stoch(append=True)"
   ],
   "metadata": {
    "collapsed": false
   }
  },
  {
   "cell_type": "code",
   "execution_count": 191,
   "outputs": [
    {
     "name": "stdout",
     "output_type": "stream",
     "text": [
      "Help on function rsi in module pandas_ta.momentum.rsi:\n",
      "\n",
      "rsi(close, length=None, scalar=None, talib=None, drift=None, offset=None, **kwargs)\n",
      "    Relative Strength Index (RSI)\n",
      "    \n",
      "    The Relative Strength Index is popular momentum oscillator used to measure the\n",
      "    velocity as well as the magnitude of directional price movements.\n",
      "    \n",
      "    Sources:\n",
      "        https://www.tradingview.com/wiki/Relative_Strength_Index_(RSI)\n",
      "    \n",
      "    Calculation:\n",
      "        Default Inputs:\n",
      "            length=14, scalar=100, drift=1\n",
      "        ABS = Absolute Value\n",
      "        RMA = Rolling Moving Average\n",
      "    \n",
      "        diff = close.diff(drift)\n",
      "        positive = diff if diff > 0 else 0\n",
      "        negative = diff if diff < 0 else 0\n",
      "    \n",
      "        pos_avg = RMA(positive, length)\n",
      "        neg_avg = ABS(RMA(negative, length))\n",
      "    \n",
      "        RSI = scalar * pos_avg / (pos_avg + neg_avg)\n",
      "    \n",
      "    Args:\n",
      "        close (pd.Series): Series of 'close's\n",
      "        length (int): It's period. Default: 14\n",
      "        scalar (float): How much to magnify. Default: 100\n",
      "        talib (bool): If TA Lib is installed and talib is True, Returns the TA Lib\n",
      "            version. Default: True\n",
      "        drift (int): The difference period. Default: 1\n",
      "        offset (int): How many periods to offset the result. Default: 0\n",
      "    \n",
      "    Kwargs:\n",
      "        fillna (value, optional): pd.DataFrame.fillna(value)\n",
      "        fill_method (value, optional): Type of fill method\n",
      "    \n",
      "    Returns:\n",
      "        pd.Series: New feature generated.\n",
      "\n"
     ]
    },
    {
     "data": {
      "text/plain": "0              NaN\n1              NaN\n2              NaN\n3              NaN\n4              NaN\n           ...    \n99995    55.790002\n99996    60.653564\n99997    51.349380\n99998    50.705041\n99999    48.729539\nName: RSI_14, Length: 100000, dtype: float64"
     },
     "execution_count": 191,
     "metadata": {},
     "output_type": "execute_result"
    }
   ],
   "source": [
    "# recommended by internet\n",
    "help(ta.rsi)\n",
    "df.ta.rsi(length=14, scalar=3, drift=3, append=True)"
   ],
   "metadata": {
    "collapsed": false
   }
  },
  {
   "cell_type": "code",
   "execution_count": 192,
   "outputs": [
    {
     "name": "stdout",
     "output_type": "stream",
     "text": [
      "Help on function rsi in module pandas_ta.momentum.rsi:\n",
      "\n",
      "rsi(close, length=None, scalar=None, talib=None, drift=None, offset=None, **kwargs)\n",
      "    Relative Strength Index (RSI)\n",
      "    \n",
      "    The Relative Strength Index is popular momentum oscillator used to measure the\n",
      "    velocity as well as the magnitude of directional price movements.\n",
      "    \n",
      "    Sources:\n",
      "        https://www.tradingview.com/wiki/Relative_Strength_Index_(RSI)\n",
      "    \n",
      "    Calculation:\n",
      "        Default Inputs:\n",
      "            length=14, scalar=100, drift=1\n",
      "        ABS = Absolute Value\n",
      "        RMA = Rolling Moving Average\n",
      "    \n",
      "        diff = close.diff(drift)\n",
      "        positive = diff if diff > 0 else 0\n",
      "        negative = diff if diff < 0 else 0\n",
      "    \n",
      "        pos_avg = RMA(positive, length)\n",
      "        neg_avg = ABS(RMA(negative, length))\n",
      "    \n",
      "        RSI = scalar * pos_avg / (pos_avg + neg_avg)\n",
      "    \n",
      "    Args:\n",
      "        close (pd.Series): Series of 'close's\n",
      "        length (int): It's period. Default: 14\n",
      "        scalar (float): How much to magnify. Default: 100\n",
      "        talib (bool): If TA Lib is installed and talib is True, Returns the TA Lib\n",
      "            version. Default: True\n",
      "        drift (int): The difference period. Default: 1\n",
      "        offset (int): How many periods to offset the result. Default: 0\n",
      "    \n",
      "    Kwargs:\n",
      "        fillna (value, optional): pd.DataFrame.fillna(value)\n",
      "        fill_method (value, optional): Type of fill method\n",
      "    \n",
      "    Returns:\n",
      "        pd.Series: New feature generated.\n",
      "\n"
     ]
    },
    {
     "data": {
      "text/plain": "0              NaN\n1              NaN\n2              NaN\n3              NaN\n4              NaN\n           ...    \n99995    55.790002\n99996    60.653564\n99997    51.349380\n99998    50.705041\n99999    48.729539\nName: RSI_14, Length: 100000, dtype: float64"
     },
     "execution_count": 192,
     "metadata": {},
     "output_type": "execute_result"
    }
   ],
   "source": [
    "# default number\n",
    "help(ta.rsi)\n",
    "df.ta.rsi(append=True)"
   ],
   "metadata": {
    "collapsed": false
   }
  },
  {
   "cell_type": "code",
   "execution_count": 193,
   "outputs": [
    {
     "name": "stdout",
     "output_type": "stream",
     "text": [
      "Help on function ichimoku in module pandas_ta.overlap.ichimoku:\n",
      "\n",
      "ichimoku(high, low, close, tenkan=None, kijun=None, senkou=None, include_chikou=True, offset=None, **kwargs)\n",
      "    Ichimoku Kinkō Hyō (ichimoku)\n",
      "    \n",
      "    Developed Pre WWII as a forecasting model for financial markets.\n",
      "    \n",
      "    Sources:\n",
      "        https://www.tradingtechnologies.com/help/x-study/technical-indicator-definitions/ichimoku-ich/\n",
      "    \n",
      "    Calculation:\n",
      "        Default Inputs:\n",
      "            tenkan=9, kijun=26, senkou=52\n",
      "        MIDPRICE = Midprice\n",
      "        TENKAN_SEN = MIDPRICE(high, low, close, length=tenkan)\n",
      "        KIJUN_SEN = MIDPRICE(high, low, close, length=kijun)\n",
      "        CHIKOU_SPAN = close.shift(-kijun)\n",
      "    \n",
      "        SPAN_A = 0.5 * (TENKAN_SEN + KIJUN_SEN)\n",
      "        SPAN_A = SPAN_A.shift(kijun)\n",
      "    \n",
      "        SPAN_B = MIDPRICE(high, low, close, length=senkou)\n",
      "        SPAN_B = SPAN_B.shift(kijun)\n",
      "    \n",
      "    Args:\n",
      "        high (pd.Series): Series of 'high's\n",
      "        low (pd.Series): Series of 'low's\n",
      "        close (pd.Series): Series of 'close's\n",
      "        tenkan (int): Tenkan period. Default: 9\n",
      "        kijun (int): Kijun period. Default: 26\n",
      "        senkou (int): Senkou period. Default: 52\n",
      "        include_chikou (bool): Whether to include chikou component. Default: True\n",
      "        offset (int): How many periods to offset the result. Default: 0\n",
      "    \n",
      "    Kwargs:\n",
      "        fillna (value, optional): pd.DataFrame.fillna(value)\n",
      "        fill_method (value, optional): Type of fill method\n",
      "    \n",
      "    Returns:\n",
      "        pd.DataFrame: Two DataFrames.\n",
      "            For the visible period: spanA, spanB, tenkan_sen, kijun_sen,\n",
      "                and chikou_span columns\n",
      "            For the forward looking period: spanA and spanB columns\n",
      "\n"
     ]
    },
    {
     "data": {
      "text/plain": "(          ISA_9    ISB_26     ITS_9    IKS_26   ICS_26\n 0           NaN       NaN       NaN       NaN  1.09011\n 1           NaN       NaN       NaN       NaN  1.09013\n 2           NaN       NaN       NaN       NaN  1.09010\n 3           NaN       NaN       NaN       NaN  1.08997\n 4           NaN       NaN       NaN       NaN  1.09006\n ...         ...       ...       ...       ...      ...\n 99995  1.103743  1.103465  1.103855  1.103815      NaN\n 99996  1.103750  1.103465  1.103905  1.103815      NaN\n 99997  1.103750  1.103465  1.103940  1.103815      NaN\n 99998  1.103700  1.103465  1.104040  1.103815      NaN\n 99999  1.103645  1.103465  1.104040  1.103815      NaN\n \n [100000 rows x 5 columns],\n            ISA_9    ISB_26\n 100000  1.103610  1.103465\n 100001  1.103610  1.103465\n 100002  1.103582  1.103465\n 100003  1.103610  1.103465\n 100004  1.103815  1.103670\n 100005  1.103815  1.103675\n 100006  1.103815  1.103720\n 100007  1.103815  1.103755\n 100008  1.103815  1.103755\n 100009  1.103817  1.103755\n 100010  1.103913  1.103780\n 100011  1.103900  1.103780\n 100012  1.103870  1.103785\n 100013  1.103797  1.103785\n 100014  1.103782  1.103785\n 100015  1.103768  1.103785\n 100016  1.103803  1.103815\n 100017  1.103813  1.103815\n 100018  1.103835  1.103815\n 100019  1.103835  1.103815\n 100020  1.103835  1.103815\n 100021  1.103835  1.103815\n 100022  1.103860  1.103815\n 100023  1.103877  1.103815\n 100024  1.103927  1.103815\n 100025  1.103927  1.103815)"
     },
     "execution_count": 193,
     "metadata": {},
     "output_type": "execute_result"
    }
   ],
   "source": [
    "help(ta.ichimoku)\n",
    "df.ta.ichimoku(append=True)"
   ],
   "metadata": {
    "collapsed": false
   }
  },
  {
   "cell_type": "code",
   "execution_count": 194,
   "outputs": [
    {
     "name": "stdout",
     "output_type": "stream",
     "text": [
      "Help on function sma in module pandas_ta.overlap.sma:\n",
      "\n",
      "sma(close, length=None, talib=None, offset=None, **kwargs)\n",
      "    Simple Moving Average (SMA)\n",
      "    \n",
      "    The Simple Moving Average is the classic moving average that is the equally\n",
      "    weighted average over n periods.\n",
      "    \n",
      "    Sources:\n",
      "        https://www.tradingtechnologies.com/help/x-study/technical-indicator-definitions/simple-moving-average-sma/\n",
      "    \n",
      "    Calculation:\n",
      "        Default Inputs:\n",
      "            length=10\n",
      "        SMA = SUM(close, length) / length\n",
      "    \n",
      "    Args:\n",
      "        close (pd.Series): Series of 'close's\n",
      "        length (int): It's period. Default: 10\n",
      "        talib (bool): If TA Lib is installed and talib is True, Returns the TA Lib\n",
      "            version. Default: True\n",
      "        offset (int): How many periods to offset the result. Default: 0\n",
      "    \n",
      "    Kwargs:\n",
      "        adjust (bool): Default: True\n",
      "        presma (bool, optional): If True, uses SMA for initial value.\n",
      "        fillna (value, optional): pd.DataFrame.fillna(value)\n",
      "        fill_method (value, optional): Type of fill method\n",
      "    \n",
      "    Returns:\n",
      "        pd.Series: New feature generated.\n",
      "\n"
     ]
    },
    {
     "data": {
      "text/plain": "0             NaN\n1             NaN\n2             NaN\n3             NaN\n4             NaN\n           ...   \n99995    1.103845\n99996    1.103845\n99997    1.103844\n99998    1.103842\n99999    1.103838\nName: SMA_200, Length: 100000, dtype: float64"
     },
     "execution_count": 194,
     "metadata": {},
     "output_type": "execute_result"
    }
   ],
   "source": [
    "help(ta.sma)\n",
    "df.ta.sma(length=5, append=True)\n",
    "df.ta.sma(length=10, append=True)\n",
    "df.ta.sma(length=20, append=True)\n",
    "df.ta.sma(length=30, append=True)\n",
    "df.ta.sma(length=50, append=True)\n",
    "df.ta.sma(length=100, append=True)\n",
    "df.ta.sma(length=200, append=True)"
   ],
   "metadata": {
    "collapsed": false
   }
  },
  {
   "cell_type": "code",
   "execution_count": 195,
   "outputs": [
    {
     "name": "stdout",
     "output_type": "stream",
     "text": [
      "Help on function ema in module pandas_ta.overlap.ema:\n",
      "\n",
      "ema(close, length=None, talib=None, offset=None, **kwargs)\n",
      "    Exponential Moving Average (EMA)\n",
      "    \n",
      "    The Exponential Moving Average is more responsive moving average compared to the\n",
      "    Simple Moving Average (SMA).  The weights are determined by alpha which is\n",
      "    proportional to it's length.  There are several different methods of calculating\n",
      "    EMA.  One method uses just the standard definition of EMA and another uses the\n",
      "    SMA to generate the initial value for the rest of the calculation.\n",
      "    \n",
      "    Sources:\n",
      "        https://stockcharts.com/school/doku.php?id=chart_school:technical_indicators:moving_averages\n",
      "        https://www.investopedia.com/ask/answers/122314/what-exponential-moving-average-ema-formula-and-how-ema-calculated.asp\n",
      "    \n",
      "    Calculation:\n",
      "        Default Inputs:\n",
      "            length=10, adjust=False, sma=True\n",
      "        if sma:\n",
      "            sma_nth = close[0:length].sum() / length\n",
      "            close[:length - 1] = np.NaN\n",
      "            close.iloc[length - 1] = sma_nth\n",
      "        EMA = close.ewm(span=length, adjust=adjust).mean()\n",
      "    \n",
      "    Args:\n",
      "        close (pd.Series): Series of 'close's\n",
      "        length (int): It's period. Default: 10\n",
      "        talib (bool): If TA Lib is installed and talib is True, Returns the TA Lib\n",
      "            version. Default: True\n",
      "        offset (int): How many periods to offset the result. Default: 0\n",
      "    \n",
      "    Kwargs:\n",
      "        adjust (bool, optional): Default: False\n",
      "        sma (bool, optional): If True, uses SMA for initial value. Default: True\n",
      "        fillna (value, optional): pd.DataFrame.fillna(value)\n",
      "        fill_method (value, optional): Type of fill method\n",
      "    \n",
      "    Returns:\n",
      "        pd.Series: New feature generated.\n",
      "\n"
     ]
    },
    {
     "data": {
      "text/plain": "0             NaN\n1             NaN\n2             NaN\n3             NaN\n4             NaN\n           ...   \n99995    1.103664\n99996    1.103669\n99997    1.103671\n99998    1.103673\n99999    1.103674\nName: EMA_200, Length: 100000, dtype: float64"
     },
     "execution_count": 195,
     "metadata": {},
     "output_type": "execute_result"
    }
   ],
   "source": [
    "help(ta.ema)\n",
    "df.ta.ema(length=5, append=True)\n",
    "df.ta.ema(length=10, append=True)\n",
    "df.ta.ema(length=20, append=True)\n",
    "df.ta.ema(length=30, append=True)\n",
    "df.ta.ema(length=50, append=True)\n",
    "df.ta.ema(length=100, append=True)\n",
    "df.ta.ema(length=200, append=True)"
   ],
   "metadata": {
    "collapsed": false
   }
  },
  {
   "cell_type": "code",
   "execution_count": 196,
   "outputs": [
    {
     "name": "stdout",
     "output_type": "stream",
     "text": [
      "Help on function stoch in module pandas_ta.momentum.stoch:\n",
      "\n",
      "stoch(high, low, close, k=None, d=None, smooth_k=None, mamode=None, offset=None, **kwargs)\n",
      "    Stochastic (STOCH)\n",
      "    \n",
      "    The Stochastic Oscillator (STOCH) was developed by George Lane in the 1950's.\n",
      "    He believed this indicator was a good way to measure momentum because changes in\n",
      "    momentum precede changes in price.\n",
      "    \n",
      "    It is a range-bound oscillator with two lines moving between 0 and 100.\n",
      "    The first line (%K) displays the current close in relation to the period's\n",
      "    high/low range. The second line (%D) is a Simple Moving Average of the %K line.\n",
      "    The most common choices are a 14 period %K and a 3 period SMA for %D.\n",
      "    \n",
      "    Sources:\n",
      "        https://www.tradingview.com/wiki/Stochastic_(STOCH)\n",
      "        https://www.sierrachart.com/index.php?page=doc/StudiesReference.php&ID=332&Name=KD_-_Slow\n",
      "    \n",
      "    Calculation:\n",
      "        Default Inputs:\n",
      "            k=14, d=3, smooth_k=3\n",
      "        SMA = Simple Moving Average\n",
      "        LL  = low for last k periods\n",
      "        HH  = high for last k periods\n",
      "    \n",
      "        STOCH = 100 * (close - LL) / (HH - LL)\n",
      "        STOCHk = SMA(STOCH, smooth_k)\n",
      "        STOCHd = SMA(FASTK, d)\n",
      "    \n",
      "    Args:\n",
      "        high (pd.Series): Series of 'high's\n",
      "        low (pd.Series): Series of 'low's\n",
      "        close (pd.Series): Series of 'close's\n",
      "        k (int): The Fast %K period. Default: 14\n",
      "        d (int): The Slow %K period. Default: 3\n",
      "        smooth_k (int): The Slow %D period. Default: 3\n",
      "        mamode (str): See ```help(ta.ma)```. Default: 'sma'\n",
      "        offset (int): How many periods to offset the result. Default: 0\n",
      "    \n",
      "    Kwargs:\n",
      "        fillna (value, optional): pd.DataFrame.fillna(value)\n",
      "        fill_method (value, optional): Type of fill method\n",
      "    \n",
      "    Returns:\n",
      "        pd.DataFrame: %K, %D columns.\n",
      "\n"
     ]
    },
    {
     "data": {
      "text/plain": "       STOCHk_20_3_3  STOCHd_20_3_3\n19               NaN            NaN\n20               NaN            NaN\n21         90.179547            NaN\n22         87.142857            NaN\n23         78.095238      85.139214\n...              ...            ...\n99995      59.031256      63.283419\n99996      65.944552      62.342013\n99997      61.347518      62.107775\n99998      59.098874      62.130314\n99999      48.468919      56.305104\n\n[99981 rows x 2 columns]",
      "text/html": "<div>\n<style scoped>\n    .dataframe tbody tr th:only-of-type {\n        vertical-align: middle;\n    }\n\n    .dataframe tbody tr th {\n        vertical-align: top;\n    }\n\n    .dataframe thead th {\n        text-align: right;\n    }\n</style>\n<table border=\"1\" class=\"dataframe\">\n  <thead>\n    <tr style=\"text-align: right;\">\n      <th></th>\n      <th>STOCHk_20_3_3</th>\n      <th>STOCHd_20_3_3</th>\n    </tr>\n  </thead>\n  <tbody>\n    <tr>\n      <th>19</th>\n      <td>NaN</td>\n      <td>NaN</td>\n    </tr>\n    <tr>\n      <th>20</th>\n      <td>NaN</td>\n      <td>NaN</td>\n    </tr>\n    <tr>\n      <th>21</th>\n      <td>90.179547</td>\n      <td>NaN</td>\n    </tr>\n    <tr>\n      <th>22</th>\n      <td>87.142857</td>\n      <td>NaN</td>\n    </tr>\n    <tr>\n      <th>23</th>\n      <td>78.095238</td>\n      <td>85.139214</td>\n    </tr>\n    <tr>\n      <th>...</th>\n      <td>...</td>\n      <td>...</td>\n    </tr>\n    <tr>\n      <th>99995</th>\n      <td>59.031256</td>\n      <td>63.283419</td>\n    </tr>\n    <tr>\n      <th>99996</th>\n      <td>65.944552</td>\n      <td>62.342013</td>\n    </tr>\n    <tr>\n      <th>99997</th>\n      <td>61.347518</td>\n      <td>62.107775</td>\n    </tr>\n    <tr>\n      <th>99998</th>\n      <td>59.098874</td>\n      <td>62.130314</td>\n    </tr>\n    <tr>\n      <th>99999</th>\n      <td>48.468919</td>\n      <td>56.305104</td>\n    </tr>\n  </tbody>\n</table>\n<p>99981 rows × 2 columns</p>\n</div>"
     },
     "execution_count": 196,
     "metadata": {},
     "output_type": "execute_result"
    }
   ],
   "source": [
    "help(ta.stoch)\n",
    "df.ta.stoch(k=20, append=True)"
   ],
   "metadata": {
    "collapsed": false
   }
  },
  {
   "cell_type": "code",
   "execution_count": 197,
   "outputs": [
    {
     "name": "stdout",
     "output_type": "stream",
     "text": [
      "Help on function cci in module pandas_ta.momentum.cci:\n",
      "\n",
      "cci(high, low, close, length=None, c=None, talib=None, offset=None, **kwargs)\n",
      "    Commodity Channel Index (CCI)\n",
      "    \n",
      "    Commodity Channel Index is a momentum oscillator used to primarily identify\n",
      "    overbought and oversold levels relative to a mean.\n",
      "    \n",
      "    Sources:\n",
      "        https://www.tradingview.com/wiki/Commodity_Channel_Index_(CCI)\n",
      "    \n",
      "    Calculation:\n",
      "        Default Inputs:\n",
      "            length=14, c=0.015\n",
      "        SMA = Simple Moving Average\n",
      "        MAD = Mean Absolute Deviation\n",
      "        tp = typical_price = hlc3 = (high + low + close) / 3\n",
      "        mean_tp = SMA(tp, length)\n",
      "        mad_tp = MAD(tp, length)\n",
      "        CCI = (tp - mean_tp) / (c * mad_tp)\n",
      "    \n",
      "    Args:\n",
      "        high (pd.Series): Series of 'high's\n",
      "        low (pd.Series): Series of 'low's\n",
      "        close (pd.Series): Series of 'close's\n",
      "        length (int): It's period. Default: 14\n",
      "        c (float): Scaling Constant. Default: 0.015\n",
      "        talib (bool): If TA Lib is installed and talib is True, Returns the TA Lib\n",
      "            version. Default: True\n",
      "        offset (int): How many periods to offset the result. Default: 0\n",
      "    \n",
      "    Kwargs:\n",
      "        fillna (value, optional): pd.DataFrame.fillna(value)\n",
      "        fill_method (value, optional): Type of fill method\n",
      "    \n",
      "    Returns:\n",
      "        pd.Series: New feature generated.\n",
      "\n"
     ]
    },
    {
     "data": {
      "text/plain": "0              NaN\n1              NaN\n2              NaN\n3              NaN\n4              NaN\n           ...    \n99995    80.580581\n99996    83.015441\n99997    46.092749\n99998     2.059099\n99999   -19.016153\nName: CCI_14_0.015, Length: 100000, dtype: float64"
     },
     "execution_count": 197,
     "metadata": {},
     "output_type": "execute_result"
    }
   ],
   "source": [
    "help(ta.cci)\n",
    "df.ta.cci(lenght=20, append=True)"
   ],
   "metadata": {
    "collapsed": false
   }
  },
  {
   "cell_type": "code",
   "execution_count": 198,
   "outputs": [
    {
     "name": "stdout",
     "output_type": "stream",
     "text": [
      "Help on function adx in module pandas_ta.trend.adx:\n",
      "\n",
      "adx(high, low, close, length=None, lensig=None, scalar=None, mamode=None, drift=None, offset=None, **kwargs)\n",
      "    Average Directional Movement (ADX)\n",
      "    \n",
      "    Average Directional Movement is meant to quantify trend strength by measuring\n",
      "    the amount of movement in a single direction.\n",
      "    \n",
      "    Sources:\n",
      "        https://www.tradingtechnologies.com/help/x-study/technical-indicator-definitions/average-directional-movement-adx/\n",
      "        TA Lib Correlation: >99%\n",
      "    \n",
      "    Calculation:\n",
      "        DMI ADX TREND 2.0 by @TraderR0BERT, NETWORTHIE.COM\n",
      "            //Created by @TraderR0BERT, NETWORTHIE.COM, last updated 01/26/2016\n",
      "            //DMI Indicator\n",
      "            //Resolution input option for higher/lower time frames\n",
      "            study(title=\"DMI ADX TREND 2.0\", shorttitle=\"ADX TREND 2.0\")\n",
      "    \n",
      "            adxlen = input(14, title=\"ADX Smoothing\")\n",
      "            dilen = input(14, title=\"DI Length\")\n",
      "            thold = input(20, title=\"Threshold\")\n",
      "    \n",
      "            threshold = thold\n",
      "    \n",
      "            //Script for Indicator\n",
      "            dirmov(len) =>\n",
      "                up = change(high)\n",
      "                down = -change(low)\n",
      "                truerange = rma(tr, len)\n",
      "                plus = fixnan(100 * rma(up > down and up > 0 ? up : 0, len) / truerange)\n",
      "                minus = fixnan(100 * rma(down > up and down > 0 ? down : 0, len) / truerange)\n",
      "                [plus, minus]\n",
      "    \n",
      "            adx(dilen, adxlen) =>\n",
      "                [plus, minus] = dirmov(dilen)\n",
      "                sum = plus + minus\n",
      "                adx = 100 * rma(abs(plus - minus) / (sum == 0 ? 1 : sum), adxlen)\n",
      "                [adx, plus, minus]\n",
      "    \n",
      "            [sig, up, down] = adx(dilen, adxlen)\n",
      "            osob=input(40,title=\"Exhaustion Level for ADX, default = 40\")\n",
      "            col = sig >= sig[1] ? green : sig <= sig[1] ? red : gray\n",
      "    \n",
      "            //Plot Definitions Current Timeframe\n",
      "            p1 = plot(sig, color=col, linewidth = 3, title=\"ADX\")\n",
      "            p2 = plot(sig, color=col, style=circles, linewidth=3, title=\"ADX\")\n",
      "            p3 = plot(up, color=blue, linewidth = 3, title=\"+DI\")\n",
      "            p4 = plot(up, color=blue, style=circles, linewidth=3, title=\"+DI\")\n",
      "            p5 = plot(down, color=fuchsia, linewidth = 3, title=\"-DI\")\n",
      "            p6 = plot(down, color=fuchsia, style=circles, linewidth=3, title=\"-DI\")\n",
      "            h1 = plot(threshold, color=black, linewidth =3, title=\"Threshold\")\n",
      "    \n",
      "            trender = (sig >= up or sig >= down) ? 1 : 0\n",
      "            bgcolor(trender>0?black:gray, transp=85)\n",
      "    \n",
      "            //Alert Function for ADX crossing Threshold\n",
      "            Up_Cross = crossover(up, threshold)\n",
      "            alertcondition(Up_Cross, title=\"DMI+ cross\", message=\"DMI+ Crossing Threshold\")\n",
      "            Down_Cross = crossover(down, threshold)\n",
      "            alertcondition(Down_Cross, title=\"DMI- cross\", message=\"DMI- Crossing Threshold\")\n",
      "    \n",
      "    Args:\n",
      "        high (pd.Series): Series of 'high's\n",
      "        low (pd.Series): Series of 'low's\n",
      "        close (pd.Series): Series of 'close's\n",
      "        length (int): It's period. Default: 14\n",
      "        lensig (int): Signal Length. Like TradingView's default ADX. Default: length\n",
      "        scalar (float): How much to magnify. Default: 100\n",
      "        mamode (str): See ```help(ta.ma)```. Default: 'rma'\n",
      "        drift (int): The difference period. Default: 1\n",
      "        offset (int): How many periods to offset the result. Default: 0\n",
      "    \n",
      "    Kwargs:\n",
      "        fillna (value, optional): pd.DataFrame.fillna(value)\n",
      "        fill_method (value, optional): Type of fill method\n",
      "    \n",
      "    Returns:\n",
      "        pd.DataFrame: adx, dmp, dmn columns.\n",
      "\n"
     ]
    },
    {
     "data": {
      "text/plain": "          ADX_14     DMP_14     DMN_14\n0            NaN        NaN        NaN\n1            NaN        NaN        NaN\n2            NaN        NaN        NaN\n3            NaN        NaN        NaN\n4            NaN        NaN        NaN\n...          ...        ...        ...\n99995  19.824170  35.793334  18.953197\n99996  20.149951  31.951101  19.423382\n99997  20.492671  28.985637  17.410670\n99998  20.272977  27.453795  19.309122\n99999  20.068974  26.645014  18.740281\n\n[100000 rows x 3 columns]",
      "text/html": "<div>\n<style scoped>\n    .dataframe tbody tr th:only-of-type {\n        vertical-align: middle;\n    }\n\n    .dataframe tbody tr th {\n        vertical-align: top;\n    }\n\n    .dataframe thead th {\n        text-align: right;\n    }\n</style>\n<table border=\"1\" class=\"dataframe\">\n  <thead>\n    <tr style=\"text-align: right;\">\n      <th></th>\n      <th>ADX_14</th>\n      <th>DMP_14</th>\n      <th>DMN_14</th>\n    </tr>\n  </thead>\n  <tbody>\n    <tr>\n      <th>0</th>\n      <td>NaN</td>\n      <td>NaN</td>\n      <td>NaN</td>\n    </tr>\n    <tr>\n      <th>1</th>\n      <td>NaN</td>\n      <td>NaN</td>\n      <td>NaN</td>\n    </tr>\n    <tr>\n      <th>2</th>\n      <td>NaN</td>\n      <td>NaN</td>\n      <td>NaN</td>\n    </tr>\n    <tr>\n      <th>3</th>\n      <td>NaN</td>\n      <td>NaN</td>\n      <td>NaN</td>\n    </tr>\n    <tr>\n      <th>4</th>\n      <td>NaN</td>\n      <td>NaN</td>\n      <td>NaN</td>\n    </tr>\n    <tr>\n      <th>...</th>\n      <td>...</td>\n      <td>...</td>\n      <td>...</td>\n    </tr>\n    <tr>\n      <th>99995</th>\n      <td>19.824170</td>\n      <td>35.793334</td>\n      <td>18.953197</td>\n    </tr>\n    <tr>\n      <th>99996</th>\n      <td>20.149951</td>\n      <td>31.951101</td>\n      <td>19.423382</td>\n    </tr>\n    <tr>\n      <th>99997</th>\n      <td>20.492671</td>\n      <td>28.985637</td>\n      <td>17.410670</td>\n    </tr>\n    <tr>\n      <th>99998</th>\n      <td>20.272977</td>\n      <td>27.453795</td>\n      <td>19.309122</td>\n    </tr>\n    <tr>\n      <th>99999</th>\n      <td>20.068974</td>\n      <td>26.645014</td>\n      <td>18.740281</td>\n    </tr>\n  </tbody>\n</table>\n<p>100000 rows × 3 columns</p>\n</div>"
     },
     "execution_count": 198,
     "metadata": {},
     "output_type": "execute_result"
    }
   ],
   "source": [
    "help(ta.adx) # I did not get it\n",
    "df.ta.adx()"
   ],
   "metadata": {
    "collapsed": false
   }
  },
  {
   "cell_type": "code",
   "execution_count": 199,
   "outputs": [
    {
     "name": "stdout",
     "output_type": "stream",
     "text": [
      "Help on function ao in module pandas_ta.momentum.ao:\n",
      "\n",
      "ao(high, low, fast=None, slow=None, offset=None, **kwargs)\n",
      "    Awesome Oscillator (AO)\n",
      "    \n",
      "    The Awesome Oscillator is an indicator used to measure a security's momentum.\n",
      "    AO is generally used to affirm trends or to anticipate possible reversals.\n",
      "    \n",
      "    Sources:\n",
      "        https://www.tradingview.com/wiki/Awesome_Oscillator_(AO)\n",
      "        https://www.ifcm.co.uk/ntx-indicators/awesome-oscillator\n",
      "    \n",
      "    Calculation:\n",
      "        Default Inputs:\n",
      "            fast=5, slow=34\n",
      "        SMA = Simple Moving Average\n",
      "        median = (high + low) / 2\n",
      "        AO = SMA(median, fast) - SMA(median, slow)\n",
      "    \n",
      "    Args:\n",
      "        high (pd.Series): Series of 'high's\n",
      "        low (pd.Series): Series of 'low's\n",
      "        fast (int): The short period. Default: 5\n",
      "        slow (int): The long period. Default: 34\n",
      "        offset (int): How many periods to offset the result. Default: 0\n",
      "    \n",
      "    Kwargs:\n",
      "        fillna (value, optional): pd.DataFrame.fillna(value)\n",
      "        fill_method (value, optional): Type of fill method\n",
      "    \n",
      "    Returns:\n",
      "        pd.Series: New feature generated.\n",
      "\n"
     ]
    },
    {
     "data": {
      "text/plain": "0             NaN\n1             NaN\n2             NaN\n3             NaN\n4             NaN\n           ...   \n99995    0.000212\n99996    0.000196\n99997    0.000173\n99998    0.000157\n99999    0.000150\nName: AO_5_34, Length: 100000, dtype: float64"
     },
     "execution_count": 199,
     "metadata": {},
     "output_type": "execute_result"
    }
   ],
   "source": [
    "help(ta.ao)\n",
    "df.ta.ao(append=True)"
   ],
   "metadata": {
    "collapsed": false
   }
  },
  {
   "cell_type": "code",
   "execution_count": 200,
   "outputs": [
    {
     "name": "stdout",
     "output_type": "stream",
     "text": [
      "Help on function mom in module pandas_ta.momentum.mom:\n",
      "\n",
      "mom(close, length=None, talib=None, offset=None, **kwargs)\n",
      "    Momentum (MOM)\n",
      "    \n",
      "    Momentum is an indicator used to measure a security's speed (or strength) of\n",
      "    movement.  Or simply the change in price.\n",
      "    \n",
      "    Sources:\n",
      "        http://www.onlinetradingconcepts.com/TechnicalAnalysis/Momentum.html\n",
      "    \n",
      "    Calculation:\n",
      "        Default Inputs:\n",
      "            length=1\n",
      "        MOM = close.diff(length)\n",
      "    \n",
      "    Args:\n",
      "        close (pd.Series): Series of 'close's\n",
      "        length (int): It's period. Default: 1\n",
      "        talib (bool): If TA Lib is installed and talib is True, Returns the TA Lib\n",
      "            version. Default: True\n",
      "        offset (int): How many periods to offset the result. Default: 0\n",
      "    \n",
      "    Kwargs:\n",
      "        fillna (value, optional): pd.DataFrame.fillna(value)\n",
      "        fill_method (value, optional): Type of fill method\n",
      "    \n",
      "    Returns:\n",
      "        pd.Series: New feature generated.\n",
      "\n"
     ]
    },
    {
     "data": {
      "text/plain": "0            NaN\n1            NaN\n2            NaN\n3            NaN\n4            NaN\n          ...   \n99995    0.00037\n99996    0.00064\n99997    0.00033\n99998    0.00027\n99999   -0.00005\nName: MOM_10, Length: 100000, dtype: float64"
     },
     "execution_count": 200,
     "metadata": {},
     "output_type": "execute_result"
    }
   ],
   "source": [
    "help(ta.mom)\n",
    "df.ta.mom(append=True)"
   ],
   "metadata": {
    "collapsed": false
   }
  },
  {
   "cell_type": "code",
   "execution_count": 201,
   "outputs": [
    {
     "name": "stdout",
     "output_type": "stream",
     "text": [
      "Help on function uo in module pandas_ta.momentum.uo:\n",
      "\n",
      "uo(high, low, close, fast=None, medium=None, slow=None, fast_w=None, medium_w=None, slow_w=None, talib=None, drift=None, offset=None, **kwargs)\n",
      "    Ultimate Oscillator (UO)\n",
      "    \n",
      "    The Ultimate Oscillator is a momentum indicator over three different\n",
      "    periods.  It attempts to correct false divergence trading signals.\n",
      "    \n",
      "    Sources:\n",
      "        https://www.tradingview.com/wiki/Ultimate_Oscillator_(UO)\n",
      "    \n",
      "    Calculation:\n",
      "        Default Inputs:\n",
      "            fast=7, medium=14, slow=28,\n",
      "            fast_w=4.0, medium_w=2.0, slow_w=1.0, drift=1\n",
      "        min_low_or_pc  = close.shift(drift).combine(low, min)\n",
      "        max_high_or_pc = close.shift(drift).combine(high, max)\n",
      "    \n",
      "        bp = buying pressure = close - min_low_or_pc\n",
      "        tr = true range = max_high_or_pc - min_low_or_pc\n",
      "    \n",
      "        fast_avg = SUM(bp, fast) / SUM(tr, fast)\n",
      "        medium_avg = SUM(bp, medium) / SUM(tr, medium)\n",
      "        slow_avg = SUM(bp, slow) / SUM(tr, slow)\n",
      "    \n",
      "        total_weight = fast_w + medium_w + slow_w\n",
      "        weights = (fast_w * fast_avg) + (medium_w * medium_avg) + (slow_w * slow_avg)\n",
      "        UO = 100 * weights / total_weight\n",
      "    \n",
      "    Args:\n",
      "        high (pd.Series): Series of 'high's\n",
      "        low (pd.Series): Series of 'low's\n",
      "        close (pd.Series): Series of 'close's\n",
      "        fast (int): The Fast %K period. Default: 7\n",
      "        medium (int): The Slow %K period. Default: 14\n",
      "        slow (int): The Slow %D period. Default: 28\n",
      "        fast_w (float): The Fast %K period. Default: 4.0\n",
      "        medium_w (float): The Slow %K period. Default: 2.0\n",
      "        slow_w (float): The Slow %D period. Default: 1.0\n",
      "        talib (bool): If TA Lib is installed and talib is True, Returns the TA Lib\n",
      "            version. Default: True\n",
      "        drift (int): The difference period. Default: 1\n",
      "        offset (int): How many periods to offset the result. Default: 0\n",
      "    \n",
      "    Kwargs:\n",
      "        fillna (value, optional): pd.DataFrame.fillna(value)\n",
      "        fill_method (value, optional): Type of fill method\n",
      "    \n",
      "    Returns:\n",
      "        pd.Series: New feature generated.\n",
      "\n"
     ]
    },
    {
     "data": {
      "text/plain": "0              NaN\n1              NaN\n2              NaN\n3              NaN\n4              NaN\n           ...    \n99995    52.173228\n99996    54.725533\n99997    46.254628\n99998    42.495496\n99999    44.750704\nName: UO_7_14_28, Length: 100000, dtype: float64"
     },
     "execution_count": 201,
     "metadata": {},
     "output_type": "execute_result"
    }
   ],
   "source": [
    "help(ta.uo)\n",
    "df.ta.uo(append=True)"
   ],
   "metadata": {
    "collapsed": false
   }
  },
  {
   "cell_type": "code",
   "execution_count": 202,
   "outputs": [
    {
     "name": "stdout",
     "output_type": "stream",
     "text": [
      "Help on function vwma in module pandas_ta.overlap.vwma:\n",
      "\n",
      "vwma(close, volume, length=None, offset=None, **kwargs)\n",
      "    Volume Weighted Moving Average (VWMA)\n",
      "    \n",
      "    Volume Weighted Moving Average.\n",
      "    \n",
      "    Sources:\n",
      "        https://www.motivewave.com/studies/volume_weighted_moving_average.htm\n",
      "    \n",
      "    Calculation:\n",
      "        Default Inputs:\n",
      "            length=10\n",
      "        SMA = Simple Moving Average\n",
      "        pv = close * volume\n",
      "        VWMA = SMA(pv, length) / SMA(volume, length)\n",
      "    \n",
      "    Args:\n",
      "        close (pd.Series): Series of 'close's\n",
      "        volume (pd.Series): Series of 'volume's\n",
      "        length (int): It's period. Default: 10\n",
      "        offset (int): How many periods to offset the result. Default: 0\n",
      "    \n",
      "    Kwargs:\n",
      "        fillna (value, optional): pd.DataFrame.fillna(value)\n",
      "        fill_method (value, optional): Type of fill method\n",
      "    \n",
      "    Returns:\n",
      "        pd.Series: New feature generated.\n",
      "\n"
     ]
    },
    {
     "data": {
      "text/plain": "0             NaN\n1             NaN\n2             NaN\n3             NaN\n4             NaN\n           ...   \n99995    1.103891\n99996    1.103943\n99997    1.103969\n99998    1.103990\n99999    1.103989\nName: VWMA_10, Length: 100000, dtype: float64"
     },
     "execution_count": 202,
     "metadata": {},
     "output_type": "execute_result"
    }
   ],
   "source": [
    "help(ta.vwma)\n",
    "df.ta.vwma(append=True)"
   ],
   "metadata": {
    "collapsed": false
   }
  },
  {
   "cell_type": "code",
   "execution_count": 203,
   "outputs": [
    {
     "name": "stdout",
     "output_type": "stream",
     "text": [
      "['Date', 'Time', 'Open', 'High', 'Low', 'Close', 'Volume', 'BBL_30_2.0', 'BBM_30_2.0', 'BBU_30_2.0', 'BBB_30_2.0', 'BBP_30_2.0', 'BBL_5_2.0', 'BBM_5_2.0', 'BBU_5_2.0', 'BBB_5_2.0', 'BBP_5_2.0', 'MACD_12_26_9', 'MACDh_12_26_9', 'MACDs_12_26_9', 'PSARl_0.02_0.2', 'PSARs_0.02_0.2', 'PSARaf_0.02_0.2', 'PSARr_0.02_0.2', 'STOCHk_14_3_3', 'STOCHd_14_3_3', 'RSI_14', 'ISA_9', 'ISB_26', 'ITS_9', 'IKS_26', 'ICS_26', 'SMA_5', 'SMA_10', 'SMA_20', 'SMA_30', 'SMA_50', 'SMA_100', 'SMA_200', 'EMA_5', 'EMA_10', 'EMA_20', 'EMA_30', 'EMA_50', 'EMA_100', 'EMA_200', 'STOCHk_20_3_3', 'STOCHd_20_3_3', 'CCI_14_0.015', 'AO_5_34', 'MOM_10', 'UO_7_14_28', 'VWMA_10']\n"
     ]
    }
   ],
   "source": [
    "col_names = list(df.columns)\n",
    "print(col_names)"
   ],
   "metadata": {
    "collapsed": false
   }
  },
  {
   "cell_type": "code",
   "execution_count": 204,
   "outputs": [
    {
     "data": {
      "text/plain": "             Date      Time     Open     High      Low    Close  Volume   \n0      2023.01.25  19:15:00  1.08991  1.09012  1.08991  1.09004      60  \\\n1      2023.01.25  19:16:00  1.09004  1.09004  1.08982  1.08982      60   \n2      2023.01.25  19:17:00  1.08982  1.08988  1.08981  1.08984      65   \n3      2023.01.25  19:18:00  1.08984  1.08993  1.08983  1.08986      37   \n4      2023.01.25  19:19:00  1.08988  1.08991  1.08976  1.08981      48   \n...           ...       ...      ...      ...      ...      ...     ...   \n99995  2023.05.03  15:00:00  1.10396  1.10414  1.10394  1.10398     111   \n99996  2023.05.03  15:01:00  1.10400  1.10417  1.10387  1.10415     109   \n99997  2023.05.03  15:02:00  1.10415  1.10418  1.10388  1.10389     100   \n99998  2023.05.03  15:03:00  1.10389  1.10395  1.10380  1.10387      63   \n99999  2023.05.03  15:04:00  1.10387  1.10389  1.10381  1.10381      50   \n\n       BBL_30_2.0  BBM_30_2.0  BBU_30_2.0  ...    EMA_50   EMA_100   EMA_200   \n0             NaN         NaN         NaN  ...       NaN       NaN       NaN  \\\n1             NaN         NaN         NaN  ...       NaN       NaN       NaN   \n2             NaN         NaN         NaN  ...       NaN       NaN       NaN   \n3             NaN         NaN         NaN  ...       NaN       NaN       NaN   \n4             NaN         NaN         NaN  ...       NaN       NaN       NaN   \n...           ...         ...         ...  ...       ...       ...       ...   \n99995    1.103350    1.103787    1.104225  ...  1.103754  1.103712  1.103664   \n99996    1.103341    1.103794    1.104248  ...  1.103770  1.103720  1.103669   \n99997    1.103343    1.103798    1.104253  ...  1.103774  1.103724  1.103671   \n99998    1.103346    1.103801    1.104256  ...  1.103778  1.103727  1.103673   \n99999    1.103350    1.103804    1.104258  ...  1.103779  1.103728  1.103674   \n\n       STOCHk_20_3_3  STOCHd_20_3_3  CCI_14_0.015   AO_5_34   MOM_10   \n0                NaN            NaN           NaN       NaN      NaN  \\\n1                NaN            NaN           NaN       NaN      NaN   \n2                NaN            NaN           NaN       NaN      NaN   \n3                NaN            NaN           NaN       NaN      NaN   \n4                NaN            NaN           NaN       NaN      NaN   \n...              ...            ...           ...       ...      ...   \n99995      59.031256      63.283419     80.580581  0.000212  0.00037   \n99996      65.944552      62.342013     83.015441  0.000196  0.00064   \n99997      61.347518      62.107775     46.092749  0.000173  0.00033   \n99998      59.098874      62.130314      2.059099  0.000157  0.00027   \n99999      48.468919      56.305104    -19.016153  0.000150 -0.00005   \n\n       UO_7_14_28   VWMA_10  \n0             NaN       NaN  \n1             NaN       NaN  \n2             NaN       NaN  \n3             NaN       NaN  \n4             NaN       NaN  \n...           ...       ...  \n99995   52.173228  1.103891  \n99996   54.725533  1.103943  \n99997   46.254628  1.103969  \n99998   42.495496  1.103990  \n99999   44.750704  1.103989  \n\n[100000 rows x 53 columns]",
      "text/html": "<div>\n<style scoped>\n    .dataframe tbody tr th:only-of-type {\n        vertical-align: middle;\n    }\n\n    .dataframe tbody tr th {\n        vertical-align: top;\n    }\n\n    .dataframe thead th {\n        text-align: right;\n    }\n</style>\n<table border=\"1\" class=\"dataframe\">\n  <thead>\n    <tr style=\"text-align: right;\">\n      <th></th>\n      <th>Date</th>\n      <th>Time</th>\n      <th>Open</th>\n      <th>High</th>\n      <th>Low</th>\n      <th>Close</th>\n      <th>Volume</th>\n      <th>BBL_30_2.0</th>\n      <th>BBM_30_2.0</th>\n      <th>BBU_30_2.0</th>\n      <th>...</th>\n      <th>EMA_50</th>\n      <th>EMA_100</th>\n      <th>EMA_200</th>\n      <th>STOCHk_20_3_3</th>\n      <th>STOCHd_20_3_3</th>\n      <th>CCI_14_0.015</th>\n      <th>AO_5_34</th>\n      <th>MOM_10</th>\n      <th>UO_7_14_28</th>\n      <th>VWMA_10</th>\n    </tr>\n  </thead>\n  <tbody>\n    <tr>\n      <th>0</th>\n      <td>2023.01.25</td>\n      <td>19:15:00</td>\n      <td>1.08991</td>\n      <td>1.09012</td>\n      <td>1.08991</td>\n      <td>1.09004</td>\n      <td>60</td>\n      <td>NaN</td>\n      <td>NaN</td>\n      <td>NaN</td>\n      <td>...</td>\n      <td>NaN</td>\n      <td>NaN</td>\n      <td>NaN</td>\n      <td>NaN</td>\n      <td>NaN</td>\n      <td>NaN</td>\n      <td>NaN</td>\n      <td>NaN</td>\n      <td>NaN</td>\n      <td>NaN</td>\n    </tr>\n    <tr>\n      <th>1</th>\n      <td>2023.01.25</td>\n      <td>19:16:00</td>\n      <td>1.09004</td>\n      <td>1.09004</td>\n      <td>1.08982</td>\n      <td>1.08982</td>\n      <td>60</td>\n      <td>NaN</td>\n      <td>NaN</td>\n      <td>NaN</td>\n      <td>...</td>\n      <td>NaN</td>\n      <td>NaN</td>\n      <td>NaN</td>\n      <td>NaN</td>\n      <td>NaN</td>\n      <td>NaN</td>\n      <td>NaN</td>\n      <td>NaN</td>\n      <td>NaN</td>\n      <td>NaN</td>\n    </tr>\n    <tr>\n      <th>2</th>\n      <td>2023.01.25</td>\n      <td>19:17:00</td>\n      <td>1.08982</td>\n      <td>1.08988</td>\n      <td>1.08981</td>\n      <td>1.08984</td>\n      <td>65</td>\n      <td>NaN</td>\n      <td>NaN</td>\n      <td>NaN</td>\n      <td>...</td>\n      <td>NaN</td>\n      <td>NaN</td>\n      <td>NaN</td>\n      <td>NaN</td>\n      <td>NaN</td>\n      <td>NaN</td>\n      <td>NaN</td>\n      <td>NaN</td>\n      <td>NaN</td>\n      <td>NaN</td>\n    </tr>\n    <tr>\n      <th>3</th>\n      <td>2023.01.25</td>\n      <td>19:18:00</td>\n      <td>1.08984</td>\n      <td>1.08993</td>\n      <td>1.08983</td>\n      <td>1.08986</td>\n      <td>37</td>\n      <td>NaN</td>\n      <td>NaN</td>\n      <td>NaN</td>\n      <td>...</td>\n      <td>NaN</td>\n      <td>NaN</td>\n      <td>NaN</td>\n      <td>NaN</td>\n      <td>NaN</td>\n      <td>NaN</td>\n      <td>NaN</td>\n      <td>NaN</td>\n      <td>NaN</td>\n      <td>NaN</td>\n    </tr>\n    <tr>\n      <th>4</th>\n      <td>2023.01.25</td>\n      <td>19:19:00</td>\n      <td>1.08988</td>\n      <td>1.08991</td>\n      <td>1.08976</td>\n      <td>1.08981</td>\n      <td>48</td>\n      <td>NaN</td>\n      <td>NaN</td>\n      <td>NaN</td>\n      <td>...</td>\n      <td>NaN</td>\n      <td>NaN</td>\n      <td>NaN</td>\n      <td>NaN</td>\n      <td>NaN</td>\n      <td>NaN</td>\n      <td>NaN</td>\n      <td>NaN</td>\n      <td>NaN</td>\n      <td>NaN</td>\n    </tr>\n    <tr>\n      <th>...</th>\n      <td>...</td>\n      <td>...</td>\n      <td>...</td>\n      <td>...</td>\n      <td>...</td>\n      <td>...</td>\n      <td>...</td>\n      <td>...</td>\n      <td>...</td>\n      <td>...</td>\n      <td>...</td>\n      <td>...</td>\n      <td>...</td>\n      <td>...</td>\n      <td>...</td>\n      <td>...</td>\n      <td>...</td>\n      <td>...</td>\n      <td>...</td>\n      <td>...</td>\n      <td>...</td>\n    </tr>\n    <tr>\n      <th>99995</th>\n      <td>2023.05.03</td>\n      <td>15:00:00</td>\n      <td>1.10396</td>\n      <td>1.10414</td>\n      <td>1.10394</td>\n      <td>1.10398</td>\n      <td>111</td>\n      <td>1.103350</td>\n      <td>1.103787</td>\n      <td>1.104225</td>\n      <td>...</td>\n      <td>1.103754</td>\n      <td>1.103712</td>\n      <td>1.103664</td>\n      <td>59.031256</td>\n      <td>63.283419</td>\n      <td>80.580581</td>\n      <td>0.000212</td>\n      <td>0.00037</td>\n      <td>52.173228</td>\n      <td>1.103891</td>\n    </tr>\n    <tr>\n      <th>99996</th>\n      <td>2023.05.03</td>\n      <td>15:01:00</td>\n      <td>1.10400</td>\n      <td>1.10417</td>\n      <td>1.10387</td>\n      <td>1.10415</td>\n      <td>109</td>\n      <td>1.103341</td>\n      <td>1.103794</td>\n      <td>1.104248</td>\n      <td>...</td>\n      <td>1.103770</td>\n      <td>1.103720</td>\n      <td>1.103669</td>\n      <td>65.944552</td>\n      <td>62.342013</td>\n      <td>83.015441</td>\n      <td>0.000196</td>\n      <td>0.00064</td>\n      <td>54.725533</td>\n      <td>1.103943</td>\n    </tr>\n    <tr>\n      <th>99997</th>\n      <td>2023.05.03</td>\n      <td>15:02:00</td>\n      <td>1.10415</td>\n      <td>1.10418</td>\n      <td>1.10388</td>\n      <td>1.10389</td>\n      <td>100</td>\n      <td>1.103343</td>\n      <td>1.103798</td>\n      <td>1.104253</td>\n      <td>...</td>\n      <td>1.103774</td>\n      <td>1.103724</td>\n      <td>1.103671</td>\n      <td>61.347518</td>\n      <td>62.107775</td>\n      <td>46.092749</td>\n      <td>0.000173</td>\n      <td>0.00033</td>\n      <td>46.254628</td>\n      <td>1.103969</td>\n    </tr>\n    <tr>\n      <th>99998</th>\n      <td>2023.05.03</td>\n      <td>15:03:00</td>\n      <td>1.10389</td>\n      <td>1.10395</td>\n      <td>1.10380</td>\n      <td>1.10387</td>\n      <td>63</td>\n      <td>1.103346</td>\n      <td>1.103801</td>\n      <td>1.104256</td>\n      <td>...</td>\n      <td>1.103778</td>\n      <td>1.103727</td>\n      <td>1.103673</td>\n      <td>59.098874</td>\n      <td>62.130314</td>\n      <td>2.059099</td>\n      <td>0.000157</td>\n      <td>0.00027</td>\n      <td>42.495496</td>\n      <td>1.103990</td>\n    </tr>\n    <tr>\n      <th>99999</th>\n      <td>2023.05.03</td>\n      <td>15:04:00</td>\n      <td>1.10387</td>\n      <td>1.10389</td>\n      <td>1.10381</td>\n      <td>1.10381</td>\n      <td>50</td>\n      <td>1.103350</td>\n      <td>1.103804</td>\n      <td>1.104258</td>\n      <td>...</td>\n      <td>1.103779</td>\n      <td>1.103728</td>\n      <td>1.103674</td>\n      <td>48.468919</td>\n      <td>56.305104</td>\n      <td>-19.016153</td>\n      <td>0.000150</td>\n      <td>-0.00005</td>\n      <td>44.750704</td>\n      <td>1.103989</td>\n    </tr>\n  </tbody>\n</table>\n<p>100000 rows × 53 columns</p>\n</div>"
     },
     "execution_count": 204,
     "metadata": {},
     "output_type": "execute_result"
    }
   ],
   "source": [
    "df"
   ],
   "metadata": {
    "collapsed": false
   }
  },
  {
   "cell_type": "code",
   "execution_count": 205,
   "outputs": [],
   "source": [
    "# Cover and go long when the daily closing price crosses below the lower band. Cover and go short when the daily closing price crosses above the upper band.\n",
    "def bbands_fun(df):\n",
    "    df.ta.bbands(length=30, std=2, mamode=\"sma\", ddof=0, append=True)\n",
    "    buy_bbands_diff = df['BBU_30_2.0'] - df['Close']\n",
    "    sell_bbands_diff = df['BBL_30_2.0'] - df['Close']\n",
    "    bbands = np.zeros((len(buy_bbands_diff),1))\n",
    "\n",
    "    for i in range(len(buy_bbands_diff)-1):\n",
    "        if (sell_bbands_diff[i+1] * sell_bbands_diff[i] < 0) and (df['Close'][i+1]<df['BBL_30_2.0'][i+1]):\n",
    "            bbands[i+1] = -1\n",
    "            bbands[i+2] = -1\n",
    "\n",
    "    for i in range(len(buy_bbands_diff)-1):\n",
    "        if (buy_bbands_diff[i+1] * buy_bbands_diff[i] < 0) and (df['Close'][i+1]>df['BBU_30_2.0'][i+1]):\n",
    "            bbands[i+1] = 1\n",
    "            bbands[i+2] = 1\n",
    "\n",
    "    if 'sell_bbands_diff' in df.columns.values.tolist():\n",
    "        df.drop('bbands', axis=1, inplace=True)\n",
    "        df.drop('buy_bbands_diff', axis=1, inplace=True)\n",
    "        df.drop('sell_bbands_diff', axis=1, inplace=True)\n",
    "    else:\n",
    "        pass\n",
    "\n",
    "    df.insert(7, 'bbands', bbands)\n",
    "    df.insert(8, 'buy_bbands_diff', buy_bbands_diff)\n",
    "    df.insert(9, 'sell_bbands_diff', sell_bbands_diff)\n"
   ],
   "metadata": {
    "collapsed": false
   }
  },
  {
   "cell_type": "code",
   "execution_count": 206,
   "outputs": [],
   "source": [
    "from techiacals_tradingview import *"
   ],
   "metadata": {
    "collapsed": false
   }
  },
  {
   "cell_type": "code",
   "execution_count": 207,
   "outputs": [
    {
     "data": {
      "text/plain": "             Date      Time     Open     High      Low    Close  Volume   \n0      2023.01.25  19:15:00  1.08991  1.09012  1.08991  1.09004      60  \\\n1      2023.01.25  19:16:00  1.09004  1.09004  1.08982  1.08982      60   \n2      2023.01.25  19:17:00  1.08982  1.08988  1.08981  1.08984      65   \n3      2023.01.25  19:18:00  1.08984  1.08993  1.08983  1.08986      37   \n4      2023.01.25  19:19:00  1.08988  1.08991  1.08976  1.08981      48   \n...           ...       ...      ...      ...      ...      ...     ...   \n99995  2023.05.03  15:00:00  1.10396  1.10414  1.10394  1.10398     111   \n99996  2023.05.03  15:01:00  1.10400  1.10417  1.10387  1.10415     109   \n99997  2023.05.03  15:02:00  1.10415  1.10418  1.10388  1.10389     100   \n99998  2023.05.03  15:03:00  1.10389  1.10395  1.10380  1.10387      63   \n99999  2023.05.03  15:04:00  1.10387  1.10389  1.10381  1.10381      50   \n\n       BBL_30_2.0  BBM_30_2.0  BBU_30_2.0  ...  EMA_20_sig  SMA_20_sig   \n0             NaN         NaN         NaN  ...          Na          Na  \\\n1             NaN         NaN         NaN  ...          Na          Na   \n2             NaN         NaN         NaN  ...          Na          Na   \n3             NaN         NaN         NaN  ...          Na          Na   \n4             NaN         NaN         NaN  ...          Na          Na   \n...           ...         ...         ...  ...         ...         ...   \n99995    1.103350    1.103787    1.104225  ...          Na          Na   \n99996    1.103341    1.103794    1.104248  ...          Na          Na   \n99997    1.103343    1.103798    1.104253  ...          Na          Na   \n99998    1.103346    1.103801    1.104256  ...          Na          Na   \n99999    1.103350    1.103804    1.104258  ...          Na          Na   \n\n       EMA_30_sig  SMA_30_sig  EMA_50_sig  SMA_50_sig  EMA_100_sig   \n0              Na          Na          Na          Na           Na  \\\n1              Na          Na          Na          Na           Na   \n2              Na          Na          Na          Na           Na   \n3              Na          Na          Na          Na           Na   \n4              Na          Na          Na          Na           Na   \n...           ...         ...         ...         ...          ...   \n99995          Na          Na          Na          Na           Na   \n99996          Na          Na          Na          Na           Na   \n99997          Na          Na          Na          Na           Na   \n99998          Na          Na          Na          Na           Na   \n99999          Na          Na          Na          Na           Na   \n\n       SMA_100_sig  EMA_200_sig  SMA_200_sig  \n0               Na           Na           Na  \n1               Na           Na           Na  \n2               Na           Na           Na  \n3               Na           Na           Na  \n4               Na           Na           Na  \n...            ...          ...          ...  \n99995           Na           Na           Na  \n99996           Na           Na           Na  \n99997           Na           Na           Na  \n99998           Na           Na           Na  \n99999           Na           Na           Na  \n\n[100000 rows x 71 columns]",
      "text/html": "<div>\n<style scoped>\n    .dataframe tbody tr th:only-of-type {\n        vertical-align: middle;\n    }\n\n    .dataframe tbody tr th {\n        vertical-align: top;\n    }\n\n    .dataframe thead th {\n        text-align: right;\n    }\n</style>\n<table border=\"1\" class=\"dataframe\">\n  <thead>\n    <tr style=\"text-align: right;\">\n      <th></th>\n      <th>Date</th>\n      <th>Time</th>\n      <th>Open</th>\n      <th>High</th>\n      <th>Low</th>\n      <th>Close</th>\n      <th>Volume</th>\n      <th>BBL_30_2.0</th>\n      <th>BBM_30_2.0</th>\n      <th>BBU_30_2.0</th>\n      <th>...</th>\n      <th>EMA_20_sig</th>\n      <th>SMA_20_sig</th>\n      <th>EMA_30_sig</th>\n      <th>SMA_30_sig</th>\n      <th>EMA_50_sig</th>\n      <th>SMA_50_sig</th>\n      <th>EMA_100_sig</th>\n      <th>SMA_100_sig</th>\n      <th>EMA_200_sig</th>\n      <th>SMA_200_sig</th>\n    </tr>\n  </thead>\n  <tbody>\n    <tr>\n      <th>0</th>\n      <td>2023.01.25</td>\n      <td>19:15:00</td>\n      <td>1.08991</td>\n      <td>1.09012</td>\n      <td>1.08991</td>\n      <td>1.09004</td>\n      <td>60</td>\n      <td>NaN</td>\n      <td>NaN</td>\n      <td>NaN</td>\n      <td>...</td>\n      <td>Na</td>\n      <td>Na</td>\n      <td>Na</td>\n      <td>Na</td>\n      <td>Na</td>\n      <td>Na</td>\n      <td>Na</td>\n      <td>Na</td>\n      <td>Na</td>\n      <td>Na</td>\n    </tr>\n    <tr>\n      <th>1</th>\n      <td>2023.01.25</td>\n      <td>19:16:00</td>\n      <td>1.09004</td>\n      <td>1.09004</td>\n      <td>1.08982</td>\n      <td>1.08982</td>\n      <td>60</td>\n      <td>NaN</td>\n      <td>NaN</td>\n      <td>NaN</td>\n      <td>...</td>\n      <td>Na</td>\n      <td>Na</td>\n      <td>Na</td>\n      <td>Na</td>\n      <td>Na</td>\n      <td>Na</td>\n      <td>Na</td>\n      <td>Na</td>\n      <td>Na</td>\n      <td>Na</td>\n    </tr>\n    <tr>\n      <th>2</th>\n      <td>2023.01.25</td>\n      <td>19:17:00</td>\n      <td>1.08982</td>\n      <td>1.08988</td>\n      <td>1.08981</td>\n      <td>1.08984</td>\n      <td>65</td>\n      <td>NaN</td>\n      <td>NaN</td>\n      <td>NaN</td>\n      <td>...</td>\n      <td>Na</td>\n      <td>Na</td>\n      <td>Na</td>\n      <td>Na</td>\n      <td>Na</td>\n      <td>Na</td>\n      <td>Na</td>\n      <td>Na</td>\n      <td>Na</td>\n      <td>Na</td>\n    </tr>\n    <tr>\n      <th>3</th>\n      <td>2023.01.25</td>\n      <td>19:18:00</td>\n      <td>1.08984</td>\n      <td>1.08993</td>\n      <td>1.08983</td>\n      <td>1.08986</td>\n      <td>37</td>\n      <td>NaN</td>\n      <td>NaN</td>\n      <td>NaN</td>\n      <td>...</td>\n      <td>Na</td>\n      <td>Na</td>\n      <td>Na</td>\n      <td>Na</td>\n      <td>Na</td>\n      <td>Na</td>\n      <td>Na</td>\n      <td>Na</td>\n      <td>Na</td>\n      <td>Na</td>\n    </tr>\n    <tr>\n      <th>4</th>\n      <td>2023.01.25</td>\n      <td>19:19:00</td>\n      <td>1.08988</td>\n      <td>1.08991</td>\n      <td>1.08976</td>\n      <td>1.08981</td>\n      <td>48</td>\n      <td>NaN</td>\n      <td>NaN</td>\n      <td>NaN</td>\n      <td>...</td>\n      <td>Na</td>\n      <td>Na</td>\n      <td>Na</td>\n      <td>Na</td>\n      <td>Na</td>\n      <td>Na</td>\n      <td>Na</td>\n      <td>Na</td>\n      <td>Na</td>\n      <td>Na</td>\n    </tr>\n    <tr>\n      <th>...</th>\n      <td>...</td>\n      <td>...</td>\n      <td>...</td>\n      <td>...</td>\n      <td>...</td>\n      <td>...</td>\n      <td>...</td>\n      <td>...</td>\n      <td>...</td>\n      <td>...</td>\n      <td>...</td>\n      <td>...</td>\n      <td>...</td>\n      <td>...</td>\n      <td>...</td>\n      <td>...</td>\n      <td>...</td>\n      <td>...</td>\n      <td>...</td>\n      <td>...</td>\n      <td>...</td>\n    </tr>\n    <tr>\n      <th>99995</th>\n      <td>2023.05.03</td>\n      <td>15:00:00</td>\n      <td>1.10396</td>\n      <td>1.10414</td>\n      <td>1.10394</td>\n      <td>1.10398</td>\n      <td>111</td>\n      <td>1.103350</td>\n      <td>1.103787</td>\n      <td>1.104225</td>\n      <td>...</td>\n      <td>Na</td>\n      <td>Na</td>\n      <td>Na</td>\n      <td>Na</td>\n      <td>Na</td>\n      <td>Na</td>\n      <td>Na</td>\n      <td>Na</td>\n      <td>Na</td>\n      <td>Na</td>\n    </tr>\n    <tr>\n      <th>99996</th>\n      <td>2023.05.03</td>\n      <td>15:01:00</td>\n      <td>1.10400</td>\n      <td>1.10417</td>\n      <td>1.10387</td>\n      <td>1.10415</td>\n      <td>109</td>\n      <td>1.103341</td>\n      <td>1.103794</td>\n      <td>1.104248</td>\n      <td>...</td>\n      <td>Na</td>\n      <td>Na</td>\n      <td>Na</td>\n      <td>Na</td>\n      <td>Na</td>\n      <td>Na</td>\n      <td>Na</td>\n      <td>Na</td>\n      <td>Na</td>\n      <td>Na</td>\n    </tr>\n    <tr>\n      <th>99997</th>\n      <td>2023.05.03</td>\n      <td>15:02:00</td>\n      <td>1.10415</td>\n      <td>1.10418</td>\n      <td>1.10388</td>\n      <td>1.10389</td>\n      <td>100</td>\n      <td>1.103343</td>\n      <td>1.103798</td>\n      <td>1.104253</td>\n      <td>...</td>\n      <td>Na</td>\n      <td>Na</td>\n      <td>Na</td>\n      <td>Na</td>\n      <td>Na</td>\n      <td>Na</td>\n      <td>Na</td>\n      <td>Na</td>\n      <td>Na</td>\n      <td>Na</td>\n    </tr>\n    <tr>\n      <th>99998</th>\n      <td>2023.05.03</td>\n      <td>15:03:00</td>\n      <td>1.10389</td>\n      <td>1.10395</td>\n      <td>1.10380</td>\n      <td>1.10387</td>\n      <td>63</td>\n      <td>1.103346</td>\n      <td>1.103801</td>\n      <td>1.104256</td>\n      <td>...</td>\n      <td>Na</td>\n      <td>Na</td>\n      <td>Na</td>\n      <td>Na</td>\n      <td>Na</td>\n      <td>Na</td>\n      <td>Na</td>\n      <td>Na</td>\n      <td>Na</td>\n      <td>Na</td>\n    </tr>\n    <tr>\n      <th>99999</th>\n      <td>2023.05.03</td>\n      <td>15:04:00</td>\n      <td>1.10387</td>\n      <td>1.10389</td>\n      <td>1.10381</td>\n      <td>1.10381</td>\n      <td>50</td>\n      <td>1.103350</td>\n      <td>1.103804</td>\n      <td>1.104258</td>\n      <td>...</td>\n      <td>Na</td>\n      <td>Na</td>\n      <td>Na</td>\n      <td>Na</td>\n      <td>Na</td>\n      <td>Na</td>\n      <td>Na</td>\n      <td>Na</td>\n      <td>Na</td>\n      <td>Na</td>\n    </tr>\n  </tbody>\n</table>\n<p>100000 rows × 71 columns</p>\n</div>"
     },
     "execution_count": 207,
     "metadata": {},
     "output_type": "execute_result"
    }
   ],
   "source": [
    "df[\"RSI_14_sig\"] = 'Na'\n",
    "df[\"STOCH_14_3_3_sig\"] = 'Na'\n",
    "df['CCI_14_0.015_sig'] = 'Na'\n",
    "df[\"AO_5_34_sig\"] = 'Na'\n",
    "df[\"MOM_10_sig\"] = 'Na'\n",
    "df[\"MACD_12_26_9_sig\"] = 'Na'\n",
    "ma_list = [\"EMA_10\", \"SMA_10\", \"EMA_20\", \"SMA_20\", \"EMA_30\", \"SMA_30\",\"EMA_50\", \"SMA_50\", \"EMA_100\", \"SMA_100\", \"EMA_200\", \"SMA_200\"]\n",
    "for index in ma_list:\n",
    "    df[index+'_sig'] = 'Na'\n",
    "\n",
    "\n",
    "\n",
    "df"
   ],
   "metadata": {
    "collapsed": false
   }
  },
  {
   "cell_type": "code",
   "execution_count": 233,
   "outputs": [
    {
     "data": {
      "text/plain": "'\\n    # ICHIMOKU\\n    if df[i][\\'BBP_30_2.0\\'] != None:\\n        computed_ma[\"Ichimoku\"] = Compute.Simple(indicators[45])\\n        ma_counter[computed_ma[\"Ichimoku\"]] += 1\\n\\n    # VWMA\\n    if df[i][\\'VWMA_10\\'] != None:\\n        computed_ma[\"VWMA_10_sig\"] = Compute.Simple(indicators[47])\\n        ma_counter[computed_ma[\"VWMA\"]] += 1\\n\\n    # UO\\n    if df[i][\\'UO_7_14_28\\'] != None:\\n        computed_oscillators[\"UO_7_14_28_sig\"] = Compute.Simple(df[i][\\'UO_7_14_28\\'])\\n        oscillators_counter[computed_oscillators[\"UO_7_14_28_sig\"]] += 1\\n\\n'"
     },
     "execution_count": 233,
     "metadata": {},
     "output_type": "execute_result"
    }
   ],
   "source": [
    "oscillators_counter, ma_counter = {\"BUY\": 0, \"SELL\": 0, \"NEUTRAL\": 0}, {\n",
    "        \"BUY\": 0, \"SELL\": 0, \"NEUTRAL\": 0}\n",
    "computed_oscillators, computed_ma = {}, {}\n",
    "bbands_fun(df)\n",
    "\n",
    "for i_0 in range(len(df.index.tolist())-2):\n",
    "    i = i_0 + 2\n",
    "    # RSI (14)\n",
    "    if None not in [df['RSI_14'][i], df['RSI_14'][i-1]]:\n",
    "        df.loc[i,\"RSI_14_sig\"] = Compute.RSI(df['RSI_14'][i], df['RSI_14'][i-1])\n",
    "\n",
    "    # Stoch %K\n",
    "    if None not in [df['STOCHk_14_3_3'][i], df['STOCHd_14_3_3'][i],df['STOCHk_14_3_3'][i-1], df['STOCHd_14_3_3'][i-1]]:\n",
    "        df.loc[i,\"STOCH_14_3_3_sig\"] = Compute.Stoch(\n",
    "            df['STOCHk_14_3_3'][i], df['STOCHd_14_3_3'][i],df['STOCHk_14_3_3'][i-1], df['STOCHd_14_3_3'][i-1])\n",
    "\n",
    "    # CCI (20)\n",
    "    if None not in [df['CCI_14_0.015'][i], df['CCI_14_0.015'][i-1]]:\n",
    "        df.loc[i,'CCI_14_0.015_sig'] = Compute.CCI20(\n",
    "            df['CCI_14_0.015'][i], df['CCI_14_0.015'][i-1])\n",
    "\n",
    "    # AO\n",
    "    if None not in [df['AO_5_34'][i], df['AO_5_34'][i-1]] and df['AO_5_34'][i-2] != None:\n",
    "        df.loc[i,\"AO_5_34_sig\"] = Compute.AO(\n",
    "            df['AO_5_34'][i], df['AO_5_34'][i-1], df['AO_5_34'][i-2])\n",
    "\n",
    "    # Mom (10)\n",
    "    if None not in [df['MOM_10'][i], df['MOM_10'][i-1]]:\n",
    "        df.loc[i,\"MOM_10_sig\"] = Compute.Mom(\n",
    "            df['MOM_10'][i], df['MOM_10'][i-1])\n",
    "\n",
    "    # MACD\n",
    "    if None not in [df['MACD_12_26_9'][i], df['MACDs_12_26_9'][i]]:\n",
    "        df.loc[i,\"MACD_12_26_9_sig\"] = Compute.MACD(\n",
    "            df['MACD_12_26_9'][i], df['MACDs_12_26_9'][i])\n",
    "\n",
    "    # MOVING AVERAGES\n",
    "    for index in ma_list:\n",
    "        if df[index][i] != None:\n",
    "            df.loc[i,index+'_sig'] = Compute.MA(df[index][i], df['Close'][i])\n",
    "\n",
    "'''\n",
    "    # ICHIMOKU\n",
    "    if df[i]['BBP_30_2.0'] != None:\n",
    "        computed_ma[\"Ichimoku\"] = Compute.Simple(indicators[45])\n",
    "        ma_counter[computed_ma[\"Ichimoku\"]] += 1\n",
    "\n",
    "    # VWMA\n",
    "    if df[i]['VWMA_10'] != None:\n",
    "        computed_ma[\"VWMA_10_sig\"] = Compute.Simple(indicators[47])\n",
    "        ma_counter[computed_ma[\"VWMA\"]] += 1\n",
    "\n",
    "    # UO\n",
    "    if df[i]['UO_7_14_28'] != None:\n",
    "        computed_oscillators[\"UO_7_14_28_sig\"] = Compute.Simple(df[i]['UO_7_14_28'])\n",
    "        oscillators_counter[computed_oscillators[\"UO_7_14_28_sig\"]] += 1\n",
    "\n",
    "'''\n"
   ],
   "metadata": {
    "collapsed": false
   }
  },
  {
   "cell_type": "markdown",
   "source": [],
   "metadata": {
    "collapsed": false
   }
  },
  {
   "cell_type": "code",
   "execution_count": 236,
   "outputs": [
    {
     "data": {
      "text/plain": "             Date      Time     Open     High      Low    Close  Volume   \n0      2023.01.25  19:15:00  1.08991  1.09012  1.08991  1.09004      60  \\\n1      2023.01.25  19:16:00  1.09004  1.09004  1.08982  1.08982      60   \n2      2023.01.25  19:17:00  1.08982  1.08988  1.08981  1.08984      65   \n3      2023.01.25  19:18:00  1.08984  1.08993  1.08983  1.08986      37   \n4      2023.01.25  19:19:00  1.08988  1.08991  1.08976  1.08981      48   \n...           ...       ...      ...      ...      ...      ...     ...   \n99995  2023.05.03  15:00:00  1.10396  1.10414  1.10394  1.10398     111   \n99996  2023.05.03  15:01:00  1.10400  1.10417  1.10387  1.10415     109   \n99997  2023.05.03  15:02:00  1.10415  1.10418  1.10388  1.10389     100   \n99998  2023.05.03  15:03:00  1.10389  1.10395  1.10380  1.10387      63   \n99999  2023.05.03  15:04:00  1.10387  1.10389  1.10381  1.10381      50   \n\n       bbands  buy_bbands_diff  sell_bbands_diff  ...  EMA_20_sig  SMA_20_sig   \n0         0.0              NaN               NaN  ...          Na          Na  \\\n1         0.0              NaN               NaN  ...          Na          Na   \n2         0.0              NaN               NaN  ...     NEUTRAL     NEUTRAL   \n3         0.0              NaN               NaN  ...     NEUTRAL     NEUTRAL   \n4         0.0              NaN               NaN  ...     NEUTRAL     NEUTRAL   \n...       ...              ...               ...  ...         ...         ...   \n99995     0.0         0.000245         -0.000630  ...         BUY         BUY   \n99996     0.0         0.000098         -0.000809  ...         BUY         BUY   \n99997     0.0         0.000363         -0.000547  ...         BUY         BUY   \n99998     0.0         0.000386         -0.000524  ...        SELL         BUY   \n99999     0.0         0.000448         -0.000460  ...        SELL        SELL   \n\n       EMA_30_sig  SMA_30_sig  EMA_50_sig  SMA_50_sig  EMA_100_sig   \n0              Na          Na          Na          Na           Na  \\\n1              Na          Na          Na          Na           Na   \n2         NEUTRAL     NEUTRAL     NEUTRAL     NEUTRAL      NEUTRAL   \n3         NEUTRAL     NEUTRAL     NEUTRAL     NEUTRAL      NEUTRAL   \n4         NEUTRAL     NEUTRAL     NEUTRAL     NEUTRAL      NEUTRAL   \n...           ...         ...         ...         ...          ...   \n99995         BUY         BUY         BUY         BUY          BUY   \n99996         BUY         BUY         BUY         BUY          BUY   \n99997         BUY         BUY         BUY         BUY          BUY   \n99998         BUY         BUY         BUY         BUY          BUY   \n99999        SELL         BUY         BUY         BUY          BUY   \n\n       SMA_100_sig  EMA_200_sig  SMA_200_sig  \n0               Na           Na           Na  \n1               Na           Na           Na  \n2          NEUTRAL      NEUTRAL      NEUTRAL  \n3          NEUTRAL      NEUTRAL      NEUTRAL  \n4          NEUTRAL      NEUTRAL      NEUTRAL  \n...            ...          ...          ...  \n99995          BUY          BUY          BUY  \n99996          BUY          BUY          BUY  \n99997          BUY          BUY          BUY  \n99998          BUY          BUY          BUY  \n99999          BUY          BUY         SELL  \n\n[100000 rows x 74 columns]",
      "text/html": "<div>\n<style scoped>\n    .dataframe tbody tr th:only-of-type {\n        vertical-align: middle;\n    }\n\n    .dataframe tbody tr th {\n        vertical-align: top;\n    }\n\n    .dataframe thead th {\n        text-align: right;\n    }\n</style>\n<table border=\"1\" class=\"dataframe\">\n  <thead>\n    <tr style=\"text-align: right;\">\n      <th></th>\n      <th>Date</th>\n      <th>Time</th>\n      <th>Open</th>\n      <th>High</th>\n      <th>Low</th>\n      <th>Close</th>\n      <th>Volume</th>\n      <th>bbands</th>\n      <th>buy_bbands_diff</th>\n      <th>sell_bbands_diff</th>\n      <th>...</th>\n      <th>EMA_20_sig</th>\n      <th>SMA_20_sig</th>\n      <th>EMA_30_sig</th>\n      <th>SMA_30_sig</th>\n      <th>EMA_50_sig</th>\n      <th>SMA_50_sig</th>\n      <th>EMA_100_sig</th>\n      <th>SMA_100_sig</th>\n      <th>EMA_200_sig</th>\n      <th>SMA_200_sig</th>\n    </tr>\n  </thead>\n  <tbody>\n    <tr>\n      <th>0</th>\n      <td>2023.01.25</td>\n      <td>19:15:00</td>\n      <td>1.08991</td>\n      <td>1.09012</td>\n      <td>1.08991</td>\n      <td>1.09004</td>\n      <td>60</td>\n      <td>0.0</td>\n      <td>NaN</td>\n      <td>NaN</td>\n      <td>...</td>\n      <td>Na</td>\n      <td>Na</td>\n      <td>Na</td>\n      <td>Na</td>\n      <td>Na</td>\n      <td>Na</td>\n      <td>Na</td>\n      <td>Na</td>\n      <td>Na</td>\n      <td>Na</td>\n    </tr>\n    <tr>\n      <th>1</th>\n      <td>2023.01.25</td>\n      <td>19:16:00</td>\n      <td>1.09004</td>\n      <td>1.09004</td>\n      <td>1.08982</td>\n      <td>1.08982</td>\n      <td>60</td>\n      <td>0.0</td>\n      <td>NaN</td>\n      <td>NaN</td>\n      <td>...</td>\n      <td>Na</td>\n      <td>Na</td>\n      <td>Na</td>\n      <td>Na</td>\n      <td>Na</td>\n      <td>Na</td>\n      <td>Na</td>\n      <td>Na</td>\n      <td>Na</td>\n      <td>Na</td>\n    </tr>\n    <tr>\n      <th>2</th>\n      <td>2023.01.25</td>\n      <td>19:17:00</td>\n      <td>1.08982</td>\n      <td>1.08988</td>\n      <td>1.08981</td>\n      <td>1.08984</td>\n      <td>65</td>\n      <td>0.0</td>\n      <td>NaN</td>\n      <td>NaN</td>\n      <td>...</td>\n      <td>NEUTRAL</td>\n      <td>NEUTRAL</td>\n      <td>NEUTRAL</td>\n      <td>NEUTRAL</td>\n      <td>NEUTRAL</td>\n      <td>NEUTRAL</td>\n      <td>NEUTRAL</td>\n      <td>NEUTRAL</td>\n      <td>NEUTRAL</td>\n      <td>NEUTRAL</td>\n    </tr>\n    <tr>\n      <th>3</th>\n      <td>2023.01.25</td>\n      <td>19:18:00</td>\n      <td>1.08984</td>\n      <td>1.08993</td>\n      <td>1.08983</td>\n      <td>1.08986</td>\n      <td>37</td>\n      <td>0.0</td>\n      <td>NaN</td>\n      <td>NaN</td>\n      <td>...</td>\n      <td>NEUTRAL</td>\n      <td>NEUTRAL</td>\n      <td>NEUTRAL</td>\n      <td>NEUTRAL</td>\n      <td>NEUTRAL</td>\n      <td>NEUTRAL</td>\n      <td>NEUTRAL</td>\n      <td>NEUTRAL</td>\n      <td>NEUTRAL</td>\n      <td>NEUTRAL</td>\n    </tr>\n    <tr>\n      <th>4</th>\n      <td>2023.01.25</td>\n      <td>19:19:00</td>\n      <td>1.08988</td>\n      <td>1.08991</td>\n      <td>1.08976</td>\n      <td>1.08981</td>\n      <td>48</td>\n      <td>0.0</td>\n      <td>NaN</td>\n      <td>NaN</td>\n      <td>...</td>\n      <td>NEUTRAL</td>\n      <td>NEUTRAL</td>\n      <td>NEUTRAL</td>\n      <td>NEUTRAL</td>\n      <td>NEUTRAL</td>\n      <td>NEUTRAL</td>\n      <td>NEUTRAL</td>\n      <td>NEUTRAL</td>\n      <td>NEUTRAL</td>\n      <td>NEUTRAL</td>\n    </tr>\n    <tr>\n      <th>...</th>\n      <td>...</td>\n      <td>...</td>\n      <td>...</td>\n      <td>...</td>\n      <td>...</td>\n      <td>...</td>\n      <td>...</td>\n      <td>...</td>\n      <td>...</td>\n      <td>...</td>\n      <td>...</td>\n      <td>...</td>\n      <td>...</td>\n      <td>...</td>\n      <td>...</td>\n      <td>...</td>\n      <td>...</td>\n      <td>...</td>\n      <td>...</td>\n      <td>...</td>\n      <td>...</td>\n    </tr>\n    <tr>\n      <th>99995</th>\n      <td>2023.05.03</td>\n      <td>15:00:00</td>\n      <td>1.10396</td>\n      <td>1.10414</td>\n      <td>1.10394</td>\n      <td>1.10398</td>\n      <td>111</td>\n      <td>0.0</td>\n      <td>0.000245</td>\n      <td>-0.000630</td>\n      <td>...</td>\n      <td>BUY</td>\n      <td>BUY</td>\n      <td>BUY</td>\n      <td>BUY</td>\n      <td>BUY</td>\n      <td>BUY</td>\n      <td>BUY</td>\n      <td>BUY</td>\n      <td>BUY</td>\n      <td>BUY</td>\n    </tr>\n    <tr>\n      <th>99996</th>\n      <td>2023.05.03</td>\n      <td>15:01:00</td>\n      <td>1.10400</td>\n      <td>1.10417</td>\n      <td>1.10387</td>\n      <td>1.10415</td>\n      <td>109</td>\n      <td>0.0</td>\n      <td>0.000098</td>\n      <td>-0.000809</td>\n      <td>...</td>\n      <td>BUY</td>\n      <td>BUY</td>\n      <td>BUY</td>\n      <td>BUY</td>\n      <td>BUY</td>\n      <td>BUY</td>\n      <td>BUY</td>\n      <td>BUY</td>\n      <td>BUY</td>\n      <td>BUY</td>\n    </tr>\n    <tr>\n      <th>99997</th>\n      <td>2023.05.03</td>\n      <td>15:02:00</td>\n      <td>1.10415</td>\n      <td>1.10418</td>\n      <td>1.10388</td>\n      <td>1.10389</td>\n      <td>100</td>\n      <td>0.0</td>\n      <td>0.000363</td>\n      <td>-0.000547</td>\n      <td>...</td>\n      <td>BUY</td>\n      <td>BUY</td>\n      <td>BUY</td>\n      <td>BUY</td>\n      <td>BUY</td>\n      <td>BUY</td>\n      <td>BUY</td>\n      <td>BUY</td>\n      <td>BUY</td>\n      <td>BUY</td>\n    </tr>\n    <tr>\n      <th>99998</th>\n      <td>2023.05.03</td>\n      <td>15:03:00</td>\n      <td>1.10389</td>\n      <td>1.10395</td>\n      <td>1.10380</td>\n      <td>1.10387</td>\n      <td>63</td>\n      <td>0.0</td>\n      <td>0.000386</td>\n      <td>-0.000524</td>\n      <td>...</td>\n      <td>SELL</td>\n      <td>BUY</td>\n      <td>BUY</td>\n      <td>BUY</td>\n      <td>BUY</td>\n      <td>BUY</td>\n      <td>BUY</td>\n      <td>BUY</td>\n      <td>BUY</td>\n      <td>BUY</td>\n    </tr>\n    <tr>\n      <th>99999</th>\n      <td>2023.05.03</td>\n      <td>15:04:00</td>\n      <td>1.10387</td>\n      <td>1.10389</td>\n      <td>1.10381</td>\n      <td>1.10381</td>\n      <td>50</td>\n      <td>0.0</td>\n      <td>0.000448</td>\n      <td>-0.000460</td>\n      <td>...</td>\n      <td>SELL</td>\n      <td>SELL</td>\n      <td>SELL</td>\n      <td>BUY</td>\n      <td>BUY</td>\n      <td>BUY</td>\n      <td>BUY</td>\n      <td>BUY</td>\n      <td>BUY</td>\n      <td>SELL</td>\n    </tr>\n  </tbody>\n</table>\n<p>100000 rows × 74 columns</p>\n</div>"
     },
     "execution_count": 236,
     "metadata": {},
     "output_type": "execute_result"
    }
   ],
   "source": [
    "df"
   ],
   "metadata": {
    "collapsed": false
   }
  },
  {
   "cell_type": "code",
   "execution_count": 215,
   "outputs": [
    {
     "data": {
      "text/plain": "numpy.float64"
     },
     "execution_count": 215,
     "metadata": {},
     "output_type": "execute_result"
    }
   ],
   "source": [
    "type(df['Close'][3])"
   ],
   "metadata": {
    "collapsed": false
   }
  },
  {
   "cell_type": "code",
   "execution_count": null,
   "outputs": [],
   "source": [
    "#df.drop('MACDs_12_26_9_sig', axis=1, inplace=True)"
   ],
   "metadata": {
    "collapsed": false
   }
  },
  {
   "cell_type": "code",
   "execution_count": 235,
   "outputs": [],
   "source": [
    "df.to_csv('test_df.csv', index = False, encoding='utf-8')"
   ],
   "metadata": {
    "collapsed": false
   }
  },
  {
   "cell_type": "code",
   "execution_count": null,
   "metadata": {},
   "outputs": [],
   "source": [
    "'''\n",
    "df.drop('bbands', axis=1, inplace=True)\n",
    "df.drop('buy_bbands_diff', axis=1, inplace=True)\n",
    "df.drop('sell_bbands_diff', axis=1, inplace=True)\n",
    "df.drop( 'macd_h', axis=1, inplace=True)\n",
    "df.drop('macd_sig', axis=1, inplace=True)\n",
    "'''"
   ]
  },
  {
   "cell_type": "code",
   "execution_count": null,
   "metadata": {},
   "outputs": [],
   "source": [
    "''' out dated : we are using tradingview_ta\n",
    "# Cover and go long when the daily closing price crosses below the lower band. Cover and go short when the daily closing price crosses above the upper band.\n",
    "\n",
    "df.ta.bbands(length=30, std=2, mamode=\"sma\", ddof=0, append=True)\n",
    "buy_bbands_diff = df['BBU_30_2.0'] - df['Close']\n",
    "sell_bbands_diff = df['BBL_30_2.0'] - df['Close']\n",
    "bbands = np.zeros((len(buy_bbands_diff),1))\n",
    "\n",
    "for i in range(len(buy_bbands_diff)-1):\n",
    "    if (sell_bbands_diff[i+1] * sell_bbands_diff[i] < 0) and (df['Close'][i+1]<df['BBL_30_2.0'][i+1]):\n",
    "        bbands[i+1] = -1\n",
    "        bbands[i+2] = -1\n",
    "        bbands[i+3] = -1\n",
    "\n",
    "for i in range(len(buy_bbands_diff)-1):\n",
    "    if (buy_bbands_diff[i+1] * buy_bbands_diff[i] < 0) and (df['Close'][i+1]>df['BBU_30_2.0'][i+1]):\n",
    "        bbands[i+1] = 1\n",
    "        bbands[i+2] = 1\n",
    "        bbands[i+3] = 1\n",
    "\n",
    "df.insert(7, 'bbands', bbands)\n",
    "df.insert(8, 'buy_bbands_diff', buy_bbands_diff)\n",
    "df.insert(9, 'sell_bbands_diff', sell_bbands_diff)\n",
    "\n",
    "df\n",
    "'''"
   ]
  },
  {
   "cell_type": "code",
   "execution_count": null,
   "outputs": [],
   "source": [
    "''' out dated : we are using tradingview_ta\n",
    "df.ta.macd(fast=12, slow=26, signal=9, append=True)\n",
    "macd_h = df['MACDh_12_26_9']\n",
    "macd_sig = np.zeros((len(macd_h),1))\n",
    "\n",
    "for i in range(len(buy_bbands_diff)-3):\n",
    "    if (macd_h[i+1] * macd_h[i] < 0) and (0>macd_h[i+1]):\n",
    "        macd_sig[i+1] = -1\n",
    "        macd_sig[i+2] = -1\n",
    "        macd_sig[i+3] = -1\n",
    "\n",
    "for i in range(len(buy_bbands_diff)-3):\n",
    "    if (macd_h[i+1] * macd_h[i] < 0) and (0<macd_h[i+1]):\n",
    "        macd_sig[i+1] = 1\n",
    "        macd_sig[i+2] = 1\n",
    "        macd_sig[i+3] = 1\n",
    "\n",
    "df.insert(10, 'macd_h', macd_h, allow_duplicates=True)\n",
    "df.insert(11, 'macd_sig', macd_sig, allow_duplicates=True)\n",
    "np.sum(df['macd_sig'])\n",
    "'''"
   ],
   "metadata": {
    "collapsed": false
   }
  }
 ],
 "metadata": {
  "kernelspec": {
   "display_name": "trade",
   "language": "python",
   "name": "python3"
  },
  "language_info": {
   "codemirror_mode": {
    "name": "ipython",
    "version": 3
   },
   "file_extension": ".py",
   "mimetype": "text/x-python",
   "name": "python",
   "nbconvert_exporter": "python",
   "pygments_lexer": "ipython3",
   "version": "3.8.16"
  },
  "orig_nbformat": 4
 },
 "nbformat": 4,
 "nbformat_minor": 2
}
